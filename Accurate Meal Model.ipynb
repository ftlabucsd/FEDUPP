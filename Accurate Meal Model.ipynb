{
 "cells": [
  {
   "cell_type": "markdown",
   "id": "8b7fb83e",
   "metadata": {},
   "source": [
    "# Accurate Meal Model (Reversal Sessions)\n",
    "\n",
    "This notebook revisits the reversal meal classification workflow. We gather meals directly from the current FED3 session interface, inspect clusters by pellet count, and evaluate pre-trained LSTM/CNN classifiers."
   ]
  },
  {
   "cell_type": "code",
   "execution_count": 2,
   "id": "11f17e22",
   "metadata": {},
   "outputs": [],
   "source": [
    "import numpy as np\n",
    "\n",
    "from scripts.preprocessing import build_session_catalog, session_cache\n",
    "from scripts.meals import analyze_meals\n",
    "from scripts.meal_classifiers import (\n",
    "    RNNClassifier,\n",
    "    CNNClassifier,\n",
    "    TimeSeriesDataset,\n",
    "    train,\n",
    "    evaluate_meals_by_groups,\n",
    "    evaluate_meals_on_new_data,\n",
    ")\n",
    "from scripts.unsupervised_helpers import (\n",
    "    find_k_by_elbow,\n",
    "    fit_model_single,\n",
    "    collect_meals_from_categories,\n",
    "    data_padding,\n",
    "    read_data,\n",
    "    update_data,\n",
    "    extract_meal_sequences,\n",
    ")\n",
    "\n",
    "import torch\n",
    "from torch.utils.data import DataLoader\n",
    "from sklearn.model_selection import train_test_split\n",
    "import warnings\n",
    "warnings.filterwarnings('ignore')"
   ]
  },
  {
   "cell_type": "markdown",
   "id": "cf88e773",
   "metadata": {},
   "source": [
    "## Load reversal sessions"
   ]
  },
  {
   "cell_type": "code",
   "execution_count": 3,
   "id": "8085b57e",
   "metadata": {},
   "outputs": [
    {
     "data": {
      "text/plain": [
       "['cask', 'ctrl', 'female']"
      ]
     },
     "execution_count": 3,
     "metadata": {},
     "output_type": "execute_result"
    }
   ],
   "source": [
    "SAMPLE_ROOT = 'sample_data'\n",
    "GROUP_MAP_PATH = 'group_map.json'\n",
    "\n",
    "session_cache.cache_clear()\n",
    "SESSIONS, GROUPINGS = build_session_catalog(SAMPLE_ROOT, GROUP_MAP_PATH)\n",
    "\n",
    "REV_SESSIONS = {}\n",
    "for group, session_types in GROUPINGS.items():\n",
    "    rev_keys = session_types.get('REV', [])\n",
    "    rev_ids = [key.session_id for key in rev_keys]\n",
    "    if rev_ids:\n",
    "        REV_SESSIONS[group] = [SESSIONS[sid] for sid in rev_ids]\n",
    "\n",
    "if not REV_SESSIONS:\n",
    "    raise RuntimeError('No reversal sessions found. Ensure sample data includes REV sessions.')\n",
    "\n",
    "GROUP_NAMES = sorted(REV_SESSIONS.keys())\n",
    "GROUP_NAMES"
   ]
  },
  {
   "cell_type": "markdown",
   "id": "6d4728ff",
   "metadata": {},
   "source": [
    "## Extract meal sequences per group"
   ]
  },
  {
   "cell_type": "code",
   "execution_count": 4,
   "id": "46188f19",
   "metadata": {},
   "outputs": [
    {
     "data": {
      "text/plain": [
       "{'cask': {'n_sessions': 24,\n",
       "  'mean': 0.42476777623516204,\n",
       "  'std': 0.14987902013430052},\n",
       " 'ctrl': {'n_sessions': 27,\n",
       "  'mean': 0.5645757889607254,\n",
       "  'std': 0.12917616416026306},\n",
       " 'female': {'n_sessions': 20,\n",
       "  'mean': 0.47854283372930295,\n",
       "  'std': 0.09688055432450716}}"
      ]
     },
     "execution_count": 4,
     "metadata": {},
     "output_type": "execute_result"
    }
   ],
   "source": [
    "control_group = GROUP_NAMES[0]\n",
    "experiment_group = GROUP_NAMES[1]\n",
    "validation_group = GROUP_NAMES[2]\n",
    "\n",
    "ctrl_sequences, ctrl_good_ratios = extract_meal_sequences(REV_SESSIONS[control_group])\n",
    "exp_sequences, exp_good_ratios = extract_meal_sequences(REV_SESSIONS[experiment_group])\n",
    "val_sequences, val_good_ratios = extract_meal_sequences(REV_SESSIONS[validation_group])\n",
    "summary = {\n",
    "    control_group: {\n",
    "        'n_sessions': len(ctrl_good_ratios),\n",
    "        'mean': float(np.mean(ctrl_good_ratios)) if ctrl_good_ratios else 0.0,\n",
    "        'std': float(np.std(ctrl_good_ratios)) if ctrl_good_ratios else 0.0,\n",
    "    },\n",
    "    experiment_group: {\n",
    "        'n_sessions': len(exp_good_ratios),\n",
    "        'mean': float(np.mean(exp_good_ratios)) if exp_good_ratios else 0.0,\n",
    "        'std': float(np.std(exp_good_ratios)) if exp_good_ratios else 0.0,\n",
    "    },\n",
    "    validation_group: {\n",
    "        'n_sessions': len(val_good_ratios),\n",
    "        'mean': float(np.mean(val_good_ratios)) if val_good_ratios else 0.0,\n",
    "        'std': float(np.std(val_good_ratios)) if val_good_ratios else 0.0,\n",
    "    },\n",
    "}\n",
    "summary"
   ]
  },
  {
   "cell_type": "markdown",
   "id": "83488504",
   "metadata": {},
   "source": [
    "## Control group clustering\n",
    "\n",
    "We'll process each pellet count (3, 4, 5) separately in 3 steps:\n",
    "1. Find optimal k using elbow method\n",
    "2. Fit model and inspect clusters (Silhouette score + sample data)\n",
    "3. Collect good/bad meals and save to disk"
   ]
  },
  {
   "cell_type": "code",
   "execution_count": 5,
   "id": "259eb5e7",
   "metadata": {},
   "outputs": [],
   "source": [
    "DATA_DIR = 'data'"
   ]
  },
  {
   "cell_type": "markdown",
   "id": "214c49c1",
   "metadata": {},
   "source": [
    "### Control: 3-pellet meals\n",
    "\n",
    "**Step 1:** Find optimal k using elbow method\n"
   ]
  },
  {
   "cell_type": "code",
   "execution_count": 6,
   "id": "d6d212d2",
   "metadata": {},
   "outputs": [
    {
     "name": "stdout",
     "output_type": "stream",
     "text": [
      "Control 3-pellet meals: 645 samples\n"
     ]
    },
    {
     "data": {
      "image/png": "[encoded data removed]",
      "text/plain": [
       "<Figure size 600x400 with 1 Axes>"
      ]
     },
     "metadata": {},
     "output_type": "display_data"
    }
   ],
   "source": [
    "pellet_cnt = 3\n",
    "ctrl_3_data = ctrl_sequences.get(pellet_cnt, [])\n",
    "print(f\"Control {pellet_cnt}-pellet meals: {len(ctrl_3_data)} samples\")\n",
    "if ctrl_3_data:\n",
    "    find_k_by_elbow(ctrl_3_data)\n"
   ]
  },
  {
   "cell_type": "markdown",
   "id": "92ebdb0c",
   "metadata": {},
   "source": [
    "**Step 2:** Fit model with chosen k and inspect clusters\n"
   ]
  },
  {
   "cell_type": "code",
   "execution_count": 7,
   "id": "73a6fdc6",
   "metadata": {},
   "outputs": [
    {
     "name": "stdout",
     "output_type": "stream",
     "text": [
      "Silhouette Score: 0.9263877118693712\n",
      "\n",
      "Cluster inspection (first 5-10 elements):\n",
      "\n",
      "Cluster 0: 431 meals\n",
      "Sample data (first 5):\n",
      "  Meal 0: [100. 100.]...\n",
      "  Meal 1: [100. 100.]...\n",
      "  Meal 2: [100. 100.]...\n",
      "  Meal 3: [100. 100.]...\n",
      "  Meal 4: [100. 100.]...\n",
      "\n",
      "Cluster 1: 76 meals\n",
      "Sample data (first 5):\n",
      "  Meal 0: [ 50. 100.]...\n",
      "  Meal 1: [ 50. 100.]...\n",
      "  Meal 2: [ 50. 100.]...\n",
      "  Meal 3: [ 50. 100.]...\n",
      "  Meal 4: [ 50. 100.]...\n",
      "\n",
      "Cluster 2: 107 meals\n",
      "Sample data (first 5):\n",
      "  Meal 0: [100.  50.]...\n",
      "  Meal 1: [100.  50.]...\n",
      "  Meal 2: [100.  50.]...\n",
      "  Meal 3: [100.  50.]...\n",
      "  Meal 4: [100.  50.]...\n",
      "\n",
      "Cluster 3: 31 meals\n",
      "Sample data (first 5):\n",
      "  Meal 0: [100.  75.]...\n",
      "  Meal 1: [100.          79.16666667]...\n",
      "  Meal 2: [100.          66.66666667]...\n",
      "  Meal 3: [100.  80.]...\n",
      "  Meal 4: [100.          77.77777778]...\n"
     ]
    }
   ],
   "source": [
    "# Set k based on elbow plot inspection\n",
    "k = 4  # Placeholder - adjust based on Step 1 results\n",
    "\n",
    "ctrl_3_model, ctrl_3_meals_by_category = fit_model_single(ctrl_3_data, k=k)\n",
    "\n",
    "# Inspect first few elements in each cluster to decide which are \"good\"\n",
    "print(\"\\nCluster inspection (first 5-10 elements):\")\n",
    "for cluster_id, meals in ctrl_3_meals_by_category.items():\n",
    "    print(f\"\\nCluster {cluster_id}: {len(meals)} meals\")\n",
    "    print(f\"Sample data (first 5):\")\n",
    "    for i, meal in enumerate(meals[:5]):\n",
    "        print(f\"  Meal {i}: {meal[:10]}...\")  # Show first 10 values\n"
   ]
  },
  {
   "cell_type": "markdown",
   "id": "e7e24249",
   "metadata": {},
   "source": [
    "**Step 3:** Collect good/bad meals and save\n"
   ]
  },
  {
   "cell_type": "code",
   "execution_count": null,
   "id": "3b86e049",
   "metadata": {},
   "outputs": [
    {
     "name": "stdout",
     "output_type": "stream",
     "text": [
      "Good meals: 462, Bad meals: 183\n",
      "Old data has 463 items\n",
      "New data has 925 items\n",
      "Old data has 360 items\n",
      "New data has 543 items\n"
     ]
    }
   ],
   "source": [
    "# Set good_clusters based on Step 2 inspection\n",
    "good_clusters = [0, 3]  # Placeholder - adjust based on cluster inspection\n",
    "\n",
    "ctrl_3_good, ctrl_3_bad = collect_meals_from_categories(ctrl_3_meals_by_category, good_clusters)\n",
    "print(f\"Good meals: {len(ctrl_3_good)}, Bad meals: {len(ctrl_3_bad)}\")\n",
    "\n",
    "# Save to disk\n",
    "update_data(DATA_DIR + '/CASK_ctrl_good.pkl', ctrl_3_good)\n",
    "update_data(DATA_DIR + '/CASK_ctrl_bad.pkl', ctrl_3_bad)"
   ]
  },
  {
   "cell_type": "markdown",
   "id": "01bdbbc9",
   "metadata": {},
   "source": [
    "### Control: 4-pellet meals\n",
    "\n",
    "**Step 1:** Find optimal k using elbow method"
   ]
  },
  {
   "cell_type": "code",
   "execution_count": null,
   "id": "cb18db15",
   "metadata": {},
   "outputs": [],
   "source": [
    "pellet_cnt = 4\n",
    "ctrl_4_data = ctrl_sequences.get(pellet_cnt, [])\n",
    "print(f\"Control {pellet_cnt}-pellet meals: {len(ctrl_4_data)} samples\")\n",
    "if ctrl_4_data:\n",
    "    find_k_by_elbow(ctrl_4_data)"
   ]
  },
  {
   "cell_type": "markdown",
   "id": "c6ae1e5d",
   "metadata": {},
   "source": [
    "**Step 2:** Fit model with chosen k and inspect clusters"
   ]
  },
  {
   "cell_type": "code",
   "execution_count": null,
   "id": "690672dd",
   "metadata": {},
   "outputs": [],
   "source": [
    "# Set k based on elbow plot inspection\n",
    "k = 7  # Placeholder - adjust based on Step 1 results\n",
    "\n",
    "ctrl_4_model, ctrl_4_meals_by_category = fit_model_single(ctrl_4_data, k=k)\n",
    "\n",
    "# Inspect first few elements in each cluster to decide which are \"good\"\n",
    "print(\"\\nCluster inspection (first 5-10 elements):\")\n",
    "for cluster_id, meals in ctrl_4_meals_by_category.items():\n",
    "    print(f\"\\nCluster {cluster_id}: {len(meals)} meals\")\n",
    "    print(f\"Sample data (first 5):\")\n",
    "    for i, meal in enumerate(meals[:5]):\n",
    "        print(f\"  Meal {i}: {meal[:10]}...\")  # Show first 10 values"
   ]
  },
  {
   "cell_type": "markdown",
   "id": "8ebc32bd",
   "metadata": {},
   "source": [
    "**Step 3:** Collect good/bad meals and save"
   ]
  },
  {
   "cell_type": "code",
   "execution_count": null,
   "id": "47fb9b16",
   "metadata": {},
   "outputs": [],
   "source": [
    "# Set good_clusters based on Step 2 inspection\n",
    "good_clusters = [1, 4]  # Placeholder - adjust based on cluster inspection\n",
    "\n",
    "ctrl_4_good, ctrl_4_bad = collect_meals_from_categories(ctrl_4_meals_by_category, good_clusters)\n",
    "print(f\"Good meals: {len(ctrl_4_good)}, Bad meals: {len(ctrl_4_bad)}\")\n",
    "\n",
    "# Save to disk (appending to existing files)\n",
    "update_data(DATA_DIR + '/CASK_ctrl_good.pkl', ctrl_4_good)\n",
    "update_data(DATA_DIR + '/CASK_ctrl_bad.pkl', ctrl_4_bad)"
   ]
  },
  {
   "cell_type": "markdown",
   "id": "4304374f",
   "metadata": {},
   "source": [
    "### Control: 5-pellet meals\n",
    "\n",
    "**Step 1:** Find optimal k using elbow method"
   ]
  },
  {
   "cell_type": "code",
   "execution_count": null,
   "id": "6f840db4",
   "metadata": {},
   "outputs": [],
   "source": [
    "pellet_cnt = 5\n",
    "ctrl_5_data = ctrl_sequences.get(pellet_cnt, [])\n",
    "print(f\"Control {pellet_cnt}-pellet meals: {len(ctrl_5_data)} samples\")\n",
    "if ctrl_5_data:\n",
    "    find_k_by_elbow(ctrl_5_data)"
   ]
  },
  {
   "cell_type": "markdown",
   "id": "7f44f1bd",
   "metadata": {},
   "source": [
    "**Step 2:** Fit model with chosen k and inspect clusters"
   ]
  },
  {
   "cell_type": "code",
   "execution_count": null,
   "id": "b78908f1",
   "metadata": {},
   "outputs": [],
   "source": [
    "# Set k based on elbow plot inspection\n",
    "k = 8  # Placeholder - adjust based on Step 1 results\n",
    "\n",
    "ctrl_5_model, ctrl_5_meals_by_category = fit_model_single(ctrl_5_data, k=k)\n",
    "\n",
    "# Inspect first few elements in each cluster to decide which are \"good\"\n",
    "print(\"\\nCluster inspection (first 5-10 elements):\")\n",
    "for cluster_id, meals in ctrl_5_meals_by_category.items():\n",
    "    print(f\"\\nCluster {cluster_id}: {len(meals)} meals\")\n",
    "    print(f\"Sample data (first 5):\")\n",
    "    for i, meal in enumerate(meals[:5]):\n",
    "        print(f\"  Meal {i}: {meal[:10]}...\")  # Show first 10 values"
   ]
  },
  {
   "cell_type": "markdown",
   "id": "f7f01a4b",
   "metadata": {},
   "source": [
    "**Step 3:** Collect good/bad meals and save"
   ]
  },
  {
   "cell_type": "code",
   "execution_count": null,
   "id": "0607f546",
   "metadata": {},
   "outputs": [],
   "source": [
    "# Set good_clusters based on Step 2 inspection\n",
    "good_clusters = [1, 3, 7]  # Placeholder - adjust based on cluster inspection\n",
    "\n",
    "ctrl_5_good, ctrl_5_bad = collect_meals_from_categories(ctrl_5_meals_by_category, good_clusters)\n",
    "print(f\"Good meals: {len(ctrl_5_good)}, Bad meals: {len(ctrl_5_bad)}\")\n",
    "\n",
    "# Save to disk (appending to existing files)\n",
    "update_data(DATA_DIR + '/CASK_ctrl_good.pkl', ctrl_5_good)\n",
    "update_data(DATA_DIR + '/CASK_ctrl_bad.pkl', ctrl_5_bad)"
   ]
  },
  {
   "cell_type": "markdown",
   "id": "cbd3c730",
   "metadata": {},
   "source": [
    "## Experimental group clustering\n",
    "\n",
    "We'll process each pellet count (3, 4, 5) separately in 3 steps:\n",
    "1. Find optimal k using elbow method\n",
    "2. Fit model and inspect clusters (Silhouette score + sample data)\n",
    "3. Collect good/bad meals and save to disk"
   ]
  },
  {
   "cell_type": "markdown",
   "id": "d3e0d41d",
   "metadata": {},
   "source": [
    "### Experimental: 3-pellet meals\n",
    "Experimental group will follow the same pattern as control group\n",
    "\n",
    "**Step 1:** Find optimal k using elbow method"
   ]
  },
  {
   "cell_type": "code",
   "execution_count": null,
   "id": "5cca2575",
   "metadata": {},
   "outputs": [],
   "source": [
    "pellet_cnt = 3\n",
    "exp_3_data = exp_sequences.get(pellet_cnt, [])\n",
    "print(f\"Experimental {pellet_cnt}-pellet meals: {len(exp_3_data)} samples\")\n",
    "if exp_3_data:\n",
    "    find_k_by_elbow(exp_3_data)"
   ]
  },
  {
   "cell_type": "markdown",
   "id": "d1e2344b",
   "metadata": {},
   "source": [
    "**Step 2:** Fit model with chosen k and inspect clusters"
   ]
  },
  {
   "cell_type": "code",
   "execution_count": null,
   "id": "58bc0c74",
   "metadata": {},
   "outputs": [],
   "source": [
    "# Set k based on elbow plot inspection\n",
    "k = 6  # Placeholder - adjust based on Step 1 results\n",
    "\n",
    "exp_3_model, exp_3_meals_by_category = fit_model_single(exp_3_data, k=k)\n",
    "\n",
    "# Inspect first few elements in each cluster to decide which are \"good\"\n",
    "print(\"\\nCluster inspection (first 5-10 elements):\")\n",
    "for cluster_id, meals in exp_3_meals_by_category.items():\n",
    "    print(f\"\\nCluster {cluster_id}: {len(meals)} meals\")\n",
    "    print(f\"Sample data (first 5):\")\n",
    "    for i, meal in enumerate(meals[:5]):\n",
    "        print(f\"  Meal {i}: {meal[:10]}...\")  # Show first 10 values"
   ]
  },
  {
   "cell_type": "markdown",
   "id": "9d50478e",
   "metadata": {},
   "source": [
    "**Step 3:** Collect good/bad meals and save"
   ]
  },
  {
   "cell_type": "code",
   "execution_count": null,
   "id": "2cdb5c18",
   "metadata": {},
   "outputs": [],
   "source": [
    "# Set good_clusters based on Step 2 inspection\n",
    "good_clusters = [0, 3]  # Placeholder - adjust based on cluster inspection\n",
    "\n",
    "exp_3_good, exp_3_bad = collect_meals_from_categories(exp_3_meals_by_category, good_clusters)\n",
    "print(f\"Good meals: {len(exp_3_good)}, Bad meals: {len(exp_3_bad)}\")\n",
    "\n",
    "# Save to disk\n",
    "update_data(DATA_DIR + '/CASK_exp_good.pkl', exp_3_good)\n",
    "update_data(DATA_DIR + '/CASK_exp_bad.pkl', exp_3_bad)"
   ]
  },
  {
   "cell_type": "markdown",
   "id": "2ad0b787",
   "metadata": {},
   "source": [
    "### Experimental: 4-pellet meals\n",
    "\n",
    "**Step 1:** Find optimal k using elbow method"
   ]
  },
  {
   "cell_type": "code",
   "execution_count": null,
   "id": "95f1e457",
   "metadata": {},
   "outputs": [],
   "source": [
    "pellet_cnt = 4\n",
    "exp_4_data = exp_sequences.get(pellet_cnt, [])\n",
    "print(f\"Experimental {pellet_cnt}-pellet meals: {len(exp_4_data)} samples\")\n",
    "if exp_4_data:\n",
    "    find_k_by_elbow(exp_4_data)"
   ]
  },
  {
   "cell_type": "markdown",
   "id": "a5419ea2",
   "metadata": {},
   "source": [
    "**Step 2:** Fit model with chosen k and inspect clusters"
   ]
  },
  {
   "cell_type": "code",
   "execution_count": null,
   "id": "5480aed0",
   "metadata": {},
   "outputs": [],
   "source": [
    "# Set k based on elbow plot inspection\n",
    "k = 9  # Placeholder - adjust based on Step 1 results\n",
    "\n",
    "exp_4_model, exp_4_meals_by_category = fit_model_single(exp_4_data, k=k)\n",
    "\n",
    "# Inspect first few elements in each cluster to decide which are \"good\"\n",
    "print(\"\\nCluster inspection (first 5-10 elements):\")\n",
    "for cluster_id, meals in exp_4_meals_by_category.items():\n",
    "    print(f\"\\nCluster {cluster_id}: {len(meals)} meals\")\n",
    "    print(f\"Sample data (first 5):\")\n",
    "    for i, meal in enumerate(meals[:5]):\n",
    "        print(f\"  Meal {i}: {meal[:10]}...\")  # Show first 10 values"
   ]
  },
  {
   "cell_type": "markdown",
   "id": "51557ef6",
   "metadata": {},
   "source": [
    "**Step 3:** Collect good/bad meals and save"
   ]
  },
  {
   "cell_type": "code",
   "execution_count": null,
   "id": "22a11180",
   "metadata": {},
   "outputs": [],
   "source": [
    "# Set good_clusters based on Step 2 inspection\n",
    "good_clusters = [2, 6]  # Placeholder - adjust based on cluster inspection\n",
    "\n",
    "exp_4_good, exp_4_bad = collect_meals_from_categories(exp_4_meals_by_category, good_clusters)\n",
    "print(f\"Good meals: {len(exp_4_good)}, Bad meals: {len(exp_4_bad)}\")\n",
    "\n",
    "# Save to disk (appending to existing files)\n",
    "update_data(DATA_DIR + '/CASK_exp_good.pkl', exp_4_good)\n",
    "update_data(DATA_DIR + '/CASK_exp_bad.pkl', exp_4_bad)"
   ]
  },
  {
   "cell_type": "markdown",
   "id": "ed4ba645",
   "metadata": {},
   "source": [
    "### Experimental: 5-pellet meals\n",
    "\n",
    "**Step 1:** Find optimal k using elbow method"
   ]
  },
  {
   "cell_type": "code",
   "execution_count": null,
   "id": "e242343a",
   "metadata": {},
   "outputs": [],
   "source": [
    "pellet_cnt = 5\n",
    "exp_5_data = exp_sequences.get(pellet_cnt, [])\n",
    "print(f\"Experimental {pellet_cnt}-pellet meals: {len(exp_5_data)} samples\")\n",
    "if exp_5_data:\n",
    "    find_k_by_elbow(exp_5_data)"
   ]
  },
  {
   "cell_type": "markdown",
   "id": "45ed4b15",
   "metadata": {},
   "source": [
    "**Step 2:** Fit model with chosen k and inspect clusters"
   ]
  },
  {
   "cell_type": "code",
   "execution_count": null,
   "id": "9c77ceb5",
   "metadata": {},
   "outputs": [],
   "source": [
    "# Set k based on elbow plot inspection\n",
    "k = 12  # Placeholder - adjust based on Step 1 results\n",
    "\n",
    "exp_5_model, exp_5_meals_by_category = fit_model_single(exp_5_data, k=k)\n",
    "\n",
    "# Inspect first few elements in each cluster to decide which are \"good\"\n",
    "print(\"\\nCluster inspection (first 5-10 elements):\")\n",
    "for cluster_id, meals in exp_5_meals_by_category.items():\n",
    "    print(f\"\\nCluster {cluster_id}: {len(meals)} meals\")\n",
    "    print(f\"Sample data (first 5):\")\n",
    "    for i, meal in enumerate(meals[:5]):\n",
    "        print(f\"  Meal {i}: {meal[:10]}...\")  # Show first 10 values\n"
   ]
  },
  {
   "cell_type": "markdown",
   "id": "1e7f4f40",
   "metadata": {},
   "source": [
    "**Step 3:** Collect good/bad meals and save"
   ]
  },
  {
   "cell_type": "code",
   "execution_count": null,
   "id": "efe9a091",
   "metadata": {},
   "outputs": [],
   "source": [
    "# Set good_clusters based on Step 2 inspection\n",
    "good_clusters = [1, 3, 6]  # Placeholder - adjust based on cluster inspection\n",
    "\n",
    "exp_5_good, exp_5_bad = collect_meals_from_categories(exp_5_meals_by_category, good_clusters)\n",
    "print(f\"Good meals: {len(exp_5_good)}, Bad meals: {len(exp_5_bad)}\")\n",
    "\n",
    "# Save to disk (appending to existing files)\n",
    "update_data(DATA_DIR + '/CASK_exp_good.pkl', exp_5_good)\n",
    "update_data(DATA_DIR + '/CASK_exp_bad.pkl', exp_5_bad)"
   ]
  },
  {
   "cell_type": "markdown",
   "id": "f3ec8b6c",
   "metadata": {},
   "source": [
    "## Prepare datasets for modelling"
   ]
  },
  {
   "cell_type": "code",
   "execution_count": null,
   "id": "a148ee04",
   "metadata": {},
   "outputs": [],
   "source": [
    "ctrl_good = read_data(DATA_DIR + '/CASK_ctrl_good.pkl')\n",
    "ctrl_bad = read_data(DATA_DIR + '/CASK_ctrl_bad.pkl')\n",
    "exp_good = read_data(DATA_DIR + '/CASK_exp_good.pkl')\n",
    "exp_bad = read_data(DATA_DIR + '/CASK_exp_bad.pkl')\n",
    "\n",
    "print(f'Control labelled meals: good={len(ctrl_good)}, bad={len(ctrl_bad)}')\n",
    "print(f'Experiment labelled meals: good={len(exp_good)}, bad={len(exp_bad)}')\n",
    "\n",
    "ctrl_X = np.vstack((data_padding([meal[:] for meal in ctrl_good]), data_padding([meal[:] for meal in ctrl_bad])))\n",
    "ctrl_y = np.concatenate((np.zeros(len(ctrl_good)), np.ones(len(ctrl_bad))))\n",
    "exp_X = np.vstack((data_padding([meal[:] for meal in exp_good]), data_padding([meal[:] for meal in exp_bad])))\n",
    "exp_y = np.concatenate((np.zeros(len(exp_good)), np.ones(len(exp_bad))))\n",
    "\n",
    "X = np.vstack((ctrl_X, exp_X))\n",
    "y = np.concatenate((ctrl_y, exp_y))\n",
    "print('Dataset shape:', X.shape)"
   ]
  },
  {
   "cell_type": "markdown",
   "id": "7755b230",
   "metadata": {},
   "source": [
    "## Train LSTM/CNN classifiers"
   ]
  },
  {
   "cell_type": "code",
   "execution_count": null,
   "id": "e2fbc7ad",
   "metadata": {},
   "outputs": [],
   "source": [
    "X_tensor = torch.tensor(X, dtype=torch.float32)\n",
    "y_tensor = torch.tensor(y, dtype=torch.long)\n",
    "\n",
    "X_train, X_test, y_train, y_test = train_test_split(X_tensor, y_tensor, test_size=0.1, shuffle=True, random_state=42)\n",
    "\n",
    "train_dataset = TimeSeriesDataset(X_train, y_train)\n",
    "train_loader = DataLoader(train_dataset, batch_size=256, shuffle=True)\n",
    "\n",
    "rnn_model = RNNClassifier(input_size=1, hidden_size=400, num_layers=2, num_classes=2)\n",
    "rnn_model = rnn_model.to(X_train.device)\n",
    "rnn_model = train(rnn_model, lr=1e-4, num_epochs=50, train_loader=train_loader, X_test_tensor=X_test, y_test_tensor=y_test)\n",
    "\n",
    "cnn_model = CNNClassifier(num_classes=2, maxlen=X.shape[1])\n",
    "cnn_model = cnn_model.to(X_train.device)\n",
    "cnn_model = train(cnn_model, lr=1e-3, num_epochs=50, train_loader=train_loader, X_test_tensor=X_test, y_test_tensor=y_test)"
   ]
  },
  {
   "cell_type": "markdown",
   "id": "6fdabe14",
   "metadata": {},
   "source": [
    "## Evaluate pre-trained models"
   ]
  },
  {
   "cell_type": "code",
   "execution_count": null,
   "id": "53138e80",
   "metadata": {},
   "outputs": [],
   "source": [
    "ctrl_tensor = torch.tensor(ctrl_X, dtype=torch.float32)\n",
    "ctrl_labels = torch.tensor(ctrl_y, dtype=torch.long)\n",
    "exp_tensor = torch.tensor(exp_X, dtype=torch.float32)\n",
    "exp_labels = torch.tensor(exp_y, dtype=torch.long)\n",
    "\n",
    "rnn_pretrained = RNNClassifier(input_size=1, hidden_size=400, num_layers=2, num_classes=2)\n",
    "cnn_pretrained = CNNClassifier(num_classes=2, maxlen=ctrl_X.shape[1])\n",
    "\n",
    "rnn_pretrained.load_state_dict(torch.load(DATA_DIR + '/LSTM_from_CASK.pth', map_location='cpu'))\n",
    "cnn_pretrained.load_state_dict(torch.load(DATA_DIR + '/CNN_from_CASK.pth', map_location='cpu'))\n",
    "\n",
    "print('Pre-trained RNN evaluation:')\n",
    "evaluate_meals_by_groups(rnn_pretrained, ctrl_tensor, ctrl_y, exp_tensor, exp_y)\n",
    "print('Pre-trained CNN evaluation:')\n",
    "evaluate_meals_by_groups(cnn_pretrained, ctrl_tensor, ctrl_y, exp_tensor, exp_y)"
   ]
  }
 ],
 "metadata": {
  "kernelspec": {
   "display_name": "ml_general",
   "language": "python",
   "name": "python3"
  },
  "language_info": {
   "codemirror_mode": {
    "name": "ipython",
    "version": 3
   },
   "file_extension": ".py",
   "mimetype": "text/x-python",
   "name": "python",
   "nbconvert_exporter": "python",
   "pygments_lexer": "ipython3",
   "version": "3.10.16"
  }
 },
 "nbformat": 4,
 "nbformat_minor": 5
}
