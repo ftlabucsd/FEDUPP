{
 "cells": [
  {
   "cell_type": "markdown",
   "metadata": {},
   "source": [
    "This notebook contains 3 analyses for reversal session of mice:\n",
    "\n",
    "1. Block Split Analysis on reversal data\n",
    "\n",
    "    - [Supplementary] transition plots\n",
    "\n",
    "    - [Figure 4] meal accuracy\n",
    "\n",
    "    - [Figure 4] average first meal time by block\n",
    "    \n",
    "    - [Figure 4] average first meal time by block normalized by block duration\n",
    "\n",
    "2. Learn Score\n",
    "\n",
    "    - [Figure 3] learn score by action proportion in each block\n",
    "\n",
    "    - [Figure 3] learn result at the last 25% data in each block\n",
    "\n",
    "3. Pellet Retrieval Time\n",
    "\n",
    "    - [Supplementary] Both reversal and FR1 pellet retrieval time\n",
    "    \n",
    "    - [Supplementary] Regression study on Block retrieval time in reversal session"
   ]
  },
  {
   "cell_type": "markdown",
   "metadata": {},
   "source": [
    "### Transition Plots"
   ]
  },
  {
   "cell_type": "code",
   "execution_count": null,
   "metadata": {
    "ExecuteTime": {
     "end_time": "2023-09-02T21:40:28.578410Z",
     "start_time": "2023-09-02T21:40:28.536411Z"
    }
   },
   "outputs": [],
   "source": [
    "import sys\n",
    "sys.path.insert(0, '../scripts')\n",
    "\n",
    "import numpy as np\n",
    "import direction_transition as dit\n",
    "from meals import find_meals_paper, find_first_good_meal\n",
    "from accuracy import graph_group_stats\n",
    "from preprocessing import read_excel_by_sheet\n",
    "from path import *\n",
    "from intervals import mean_pellet_collect_time, plot_retrieval_time_by_block, perform_T_test\n",
    "  \n",
    "spl_root = '../export/Supplementary/CASK_Transitions'\n",
    "export_root = '../export/Figure 4'\n",
    "import os\n",
    "os.makedirs(export_root, exist_ok=True)\n",
    "os.makedirs(spl_root, exist_ok=True)\n",
    "time_threshold = 60\n",
    "pellet_count_threshold = 2\n",
    "\n",
    "ctrl_block_fir_meal, exp_block_fir_meal = [], []\n",
    "ctrl_block_fir_meal_prop, exp_block_fir_meal_prop = [], []\n",
    "ctrl_meal_avg_acc, exp_meal_avg_acc = [], []\n",
    "ctrl_n_blocks, exp_n_blocks = [], []"
   ]
  },
  {
   "cell_type": "code",
   "execution_count": null,
   "metadata": {},
   "outputs": [],
   "source": [
    "temp = []\n",
    "\n",
    "for sheet in rev_ctrl_sheets[:]:\n",
    "  temp_prop = []\n",
    "  temp_acc = []\n",
    "  meals = []\n",
    "  \n",
    "  data = read_excel_by_sheet(sheet, rev_ctrl_path, cumulative_accuracy=False)  \n",
    "  blocks = dit.split_data_to_blocks(data)\n",
    "\n",
    "  for block in blocks:\n",
    "    meal, meal_acc = find_meals_paper(block,\n",
    "                                      time_threshold=time_threshold, \n",
    "                                      pellet_threshold=pellet_count_threshold)\n",
    "    meals.extend(meal)\n",
    "    temp_acc.extend(meal_acc)\n",
    "    \n",
    "  data_stats = dit.get_transition_info(blocks, [time_threshold, pellet_count_threshold], reverse=False)\n",
    "\n",
    "# print(temp)\n",
    "  ctrl_n_blocks.append(len(blocks))\n",
    "  avg_ratio, avg_time, avg_good_time = dit.first_meal_stats(data_stats, ignore_inactive=True)\n",
    "  ctrl_block_fir_meal.append(avg_good_time)\n",
    "  ctrl_meal_avg_acc.append(np.mean(temp_acc))\n",
    "  ctrl_block_fir_meal_prop.append(avg_ratio)\n",
    "  \n",
    "  # uncomment it if you want to graph the transition stats (it would be long if you have a large dataset)\n",
    "  # dit.graph_tranition_stats(data_stats, blocks, sheet, export_path=os.path.join(spl_root, f'ctrl_{sheet}_transitions.svg'))"
   ]
  },
  {
   "cell_type": "code",
   "execution_count": null,
   "metadata": {},
   "outputs": [],
   "source": [
    "for sheet in rev_cask_sheets:\n",
    "  temp_prop = []\n",
    "  temp_acc = []\n",
    "  meals = [] \n",
    "  \n",
    "  data = read_excel_by_sheet(sheet, rev_cask_path, cumulative_accuracy=False)  \n",
    "  blocks = dit.split_data_to_blocks(data)\n",
    "  \n",
    "  for block in blocks:\n",
    "    meal, meal_acc = find_meals_paper(block,\n",
    "                                      time_threshold=time_threshold, \n",
    "                                      pellet_threshold=pellet_count_threshold)\n",
    "    meals.extend(meal)\n",
    "    temp_acc.extend(meal_acc)\n",
    "\n",
    "  data_stats = dit.get_transition_info(blocks, [time_threshold, pellet_count_threshold], reverse=False)\n",
    "  exp_n_blocks.append(len(blocks))\n",
    "  avg_ratio, avg_time, avg_good_time = dit.first_meal_stats(data_stats, ignore_inactive=True)\n",
    "  exp_block_fir_meal.append(avg_good_time)\n",
    "  exp_meal_avg_acc.append(np.mean(temp_acc))\n",
    "  exp_block_fir_meal_prop.append(avg_ratio)\n",
    "  \n",
    "  # dit.graph_tranition_stats(data_stats, blocks, sheet, export_path=os.path.join(spl_root, f'cask_{sheet}_transitions.svg'))"
   ]
  },
  {
   "cell_type": "code",
   "execution_count": null,
   "metadata": {},
   "outputs": [],
   "source": [
    "graph_group_stats(ctrl_n_blocks, exp_n_blocks, \n",
    "                  stats_name='Number of Blocks', unit='', group_names=['Ctrl', 'CASK'], \n",
    "                  export_path=os.path.join(export_root, 'CASK_number_of_blocks.svg'))"
   ]
  },
  {
   "cell_type": "code",
   "execution_count": null,
   "metadata": {},
   "outputs": [],
   "source": [
    "perform_T_test(ctrl_block_fir_meal, exp_block_fir_meal, test_side='two-sided')"
   ]
  },
  {
   "cell_type": "code",
   "execution_count": null,
   "metadata": {},
   "outputs": [],
   "source": [
    "graph_group_stats(ctrl_block_fir_meal, exp_block_fir_meal, \n",
    "                  stats_name='Mean 1st Meal Time', unit='minutes', group_names=['Ctrl', 'CASK'], \n",
    "                  export_path=os.path.join(export_root, 'CASK_1st_meal_absolute_time.svg'))"
   ]
  },
  {
   "cell_type": "code",
   "execution_count": null,
   "metadata": {},
   "outputs": [],
   "source": [
    "perform_T_test(ctrl_block_fir_meal_prop, exp_block_fir_meal_prop, test_side='two-sided')"
   ]
  },
  {
   "cell_type": "code",
   "execution_count": null,
   "metadata": {},
   "outputs": [],
   "source": [
    "graph_group_stats(ctrl_block_fir_meal_prop, exp_block_fir_meal_prop, \n",
    "                  unit='%', stats_name='1st Meal and Block Time Ratio', group_names=['Ctrl', 'CASK'],\n",
    "                  export_path=os.path.join(export_root, 'CASK_1st_meal_normalized.svg'))"
   ]
  },
  {
   "cell_type": "code",
   "execution_count": null,
   "metadata": {},
   "outputs": [],
   "source": [
    "perform_T_test(ctrl_meal_avg_acc, exp_meal_avg_acc, test_side='two-sided')"
   ]
  },
  {
   "cell_type": "code",
   "execution_count": null,
   "metadata": {},
   "outputs": [],
   "source": [
    "graph_group_stats(ctrl_meal_avg_acc, exp_meal_avg_acc,\n",
    "                  unit='%', stats_name='Meal Accuracy', group_names=['Ctrl', 'CASK'],\n",
    "                  export_path=os.path.join(export_root, 'CASK_meal_accuracy.svg'))"
   ]
  },
  {
   "cell_type": "markdown",
   "metadata": {},
   "source": [
    "### Learning Score"
   ]
  },
  {
   "cell_type": "code",
   "execution_count": null,
   "metadata": {},
   "outputs": [],
   "source": [
    "action_prop = 0.75\n",
    "block_prop = 0.6\n",
    "meal_config=[60, 2]\n",
    "day = 3\n",
    "\n",
    "ctrl_learning_result, cask_learning_result = [], []\n",
    "ctrl_scores, cask_scores = [], []\n",
    "ctrl_blocks_lists, cask_blocks_lists = [], []"
   ]
  },
  {
   "cell_type": "code",
   "execution_count": null,
   "metadata": {},
   "outputs": [],
   "source": [
    "for sheet in rev_ctrl_sheets[:]:\n",
    "    data = read_excel_by_sheet(sheet, rev_ctrl_path, cumulative_accuracy=False)  \n",
    "    blocks = dit.split_data_to_blocks(data, day=day)\n",
    "    data_stats = dit.get_transition_info(blocks, meal_config=meal_config, reverse=False)\n",
    "    ctrl_blocks_lists.append(blocks)\n",
    "    ctrl_learning_result.append(dit.learning_result(blocks, action_prop=action_prop))\n",
    "    ctrl_scores.append(dit.learning_score(blocks, block_prop=1, action_prop=action_prop))\n",
    "\n",
    "for sheet in rev_cask_sheets[:]:\n",
    "    data = read_excel_by_sheet(sheet, rev_cask_path, cumulative_accuracy=False)  \n",
    "    blocks = dit.split_data_to_blocks(data, day=day)\n",
    "    cask_blocks_lists.append(blocks)\n",
    "    data_stats = dit.get_transition_info(blocks, meal_config=meal_config, reverse=False)\n",
    "    cask_learning_result.append(dit.learning_result(blocks, action_prop=action_prop))\n",
    "    cask_scores.append(dit.learning_score(blocks, block_prop=1, action_prop=action_prop))"
   ]
  },
  {
   "cell_type": "code",
   "execution_count": null,
   "metadata": {},
   "outputs": [],
   "source": [
    "os.makedirs('../export/Figure 3', exist_ok=True)\n",
    "dit.plot_learning_score_trend(\n",
    "    blocks_groups=[ctrl_blocks_lists, cask_blocks_lists],\n",
    "    group_labels=[\"Control\", \"CASK\"],\n",
    "    export_path=\"../export/Figure 3/CASK_learning_score_overall.svg\"\n",
    ")"
   ]
  },
  {
   "cell_type": "code",
   "execution_count": null,
   "metadata": {},
   "outputs": [],
   "source": [
    "dit.plot_pellet_ratio_trend(\n",
    "    blocks_groups=[ctrl_blocks_lists, cask_blocks_lists],\n",
    "    group_labels=[\"Control\", \"Cask\"],\n",
    "    export_path=\"../export/Figure 3/CASK_pellet_in_meal_overall.svg\"\n",
    ")"
   ]
  },
  {
   "cell_type": "code",
   "execution_count": null,
   "metadata": {},
   "outputs": [],
   "source": [
    "perform_T_test(ctrl_scores, cask_scores, test_side='two-sided')"
   ]
  },
  {
   "cell_type": "code",
   "execution_count": null,
   "metadata": {},
   "outputs": [],
   "source": [
    "dit.graph_learning_score(ctrl_scores, cask_scores, group_names=['Ctrl', 'Cask'], proportion=action_prop, \n",
    "                         export_path=f'../export/Figure 3/CASK_{int(action_prop*100)}_learning_score.svg'\n",
    "                        )"
   ]
  },
  {
   "cell_type": "code",
   "execution_count": null,
   "metadata": {},
   "outputs": [],
   "source": [
    "perform_T_test(ctrl_learning_result, cask_learning_result, test_side='two-sided')"
   ]
  },
  {
   "cell_type": "code",
   "execution_count": null,
   "metadata": {},
   "outputs": [],
   "source": [
    "dit.graph_learning_results(ctrl_learning_result, cask_learning_result, proportion=0.25, group_names=['Ctrl', 'Cask'],\n",
    "                            export_path='../export/Figure 3/CASK_learning_result.svg')"
   ]
  },
  {
   "cell_type": "markdown",
   "metadata": {},
   "source": [
    "### Pellet Retrieval Analysis"
   ]
  },
  {
   "cell_type": "code",
   "execution_count": null,
   "metadata": {},
   "outputs": [],
   "source": [
    "export_root = '../export/Supplementary/'\n",
    "os.makedirs(os.path.join(export_root, 'CASK_retrieval_time'), exist_ok=True)\n",
    "\n",
    "ctrl_all_times, cask_all_times = [], []\n",
    "ctrl_mean, cask_mean = [], []\n",
    "ctrl_pred, cask_pred = [], []\n",
    "ctrl_slope, cask_slope = [], []\n",
    "rev_ctrl_time_dict, rev_cask_time_dict = {}, {}"
   ]
  },
  {
   "cell_type": "code",
   "execution_count": null,
   "metadata": {},
   "outputs": [],
   "source": [
    "for sheet in rev_ctrl_sheets[:]:\n",
    "    times, mean, std = mean_pellet_collect_time(rev_ctrl_path, sheet, remove_outlier=True, n_stds=3, day=day)\n",
    "    _, pred, slope = plot_retrieval_time_by_block(rev_ctrl_path, sheet, day=day, n_stds=3,\n",
    "                            export_path=os.path.join(export_root, 'CASK_retrieval_time', f'ctrl_{sheet}.svg')\n",
    "                            )\n",
    "    ctrl_all_times.append(times)\n",
    "    ctrl_mean.append(mean)\n",
    "    ctrl_pred.append(pred)\n",
    "    ctrl_slope.append(slope)\n",
    "    rev_ctrl_time_dict[sheet] = mean"
   ]
  },
  {
   "cell_type": "code",
   "execution_count": null,
   "metadata": {},
   "outputs": [],
   "source": [
    "for sheet in rev_cask_sheets[:]:\n",
    "    times, mean, std = mean_pellet_collect_time(rev_cask_path, sheet, remove_outlier=True, n_stds=3, day=day)\n",
    "    _, pred, slope = plot_retrieval_time_by_block(rev_cask_path, sheet, day=day, n_stds=3, \n",
    "                    export_path=os.path.join(export_root, 'CASK_retrieval_time', f'cask_{sheet}.svg'),\n",
    "                    )\n",
    "\n",
    "    cask_all_times.append(times)\n",
    "    cask_mean.append(mean)\n",
    "    cask_pred.append(pred)\n",
    "    cask_slope.append(slope)\n",
    "    rev_cask_time_dict[sheet] = mean"
   ]
  },
  {
   "cell_type": "code",
   "execution_count": null,
   "metadata": {},
   "outputs": [],
   "source": [
    "print(np.mean(ctrl_mean), np.std(ctrl_mean))\n",
    "print(np.mean(cask_mean), np.std(cask_mean))"
   ]
  },
  {
   "cell_type": "code",
   "execution_count": null,
   "metadata": {},
   "outputs": [],
   "source": [
    "ctrl_mean.remove(max(ctrl_mean))\n",
    "ctrl_mean.remove(max(ctrl_mean))\n",
    "cask_mean.remove(max(cask_mean))"
   ]
  },
  {
   "cell_type": "code",
   "execution_count": null,
   "metadata": {},
   "outputs": [],
   "source": [
    "graph_group_stats(ctrl_mean, cask_mean, 'Pellet Retrieval Time', group_names=['Ctrl', 'CASK'], unit='minutes', \n",
    "                  export_path=os.path.join(export_root, 'cask_retrieval_mean.svg'))"
   ]
  },
  {
   "cell_type": "code",
   "execution_count": null,
   "metadata": {},
   "outputs": [],
   "source": [
    "perform_T_test(ctrl_mean, cask_mean, test_side='two-sided')"
   ]
  },
  {
   "cell_type": "code",
   "execution_count": null,
   "metadata": {},
   "outputs": [],
   "source": [
    "perform_T_test(ctrl_slope, cask_slope, test_side='two-sided')"
   ]
  },
  {
   "cell_type": "code",
   "execution_count": null,
   "metadata": {},
   "outputs": [],
   "source": [
    "perform_T_test(ctrl_pred, cask_pred, test_side='two-sided')"
   ]
  },
  {
   "cell_type": "code",
   "execution_count": null,
   "metadata": {},
   "outputs": [],
   "source": [
    "print(np.mean(ctrl_pred) + 3*np.std(ctrl_pred), max(ctrl_pred))\n",
    "print(np.mean(cask_pred) + 3*np.std(cask_pred), max(cask_pred))"
   ]
  },
  {
   "cell_type": "code",
   "execution_count": null,
   "metadata": {},
   "outputs": [],
   "source": [
    "ctrl_pred.remove(max(ctrl_pred))\n",
    "ctrl_pred.remove(max(ctrl_pred))\n",
    "cask_pred.remove(max(cask_pred))"
   ]
  },
  {
   "cell_type": "code",
   "execution_count": null,
   "metadata": {},
   "outputs": [],
   "source": [
    "graph_group_stats(ctrl_pred, cask_pred, 'Predicted Pellet Retrieval Time', group_names=['Ctrl', 'CASK'], unit='minutes', \n",
    "                  export_path=os.path.join(export_root, 'cask_retrieval_pred.svg'))"
   ]
  },
  {
   "cell_type": "code",
   "execution_count": null,
   "metadata": {},
   "outputs": [],
   "source": [
    "graph_group_stats(ctrl_slope, cask_slope, 'Retrieval Time Best-fit Line Slope', group_names=['Ctrl', 'CASK'], unit='', \n",
    "                  export_path=os.path.join(export_root, 'cask_retrieval_slope.svg'))"
   ]
  },
  {
   "cell_type": "code",
   "execution_count": null,
   "metadata": {},
   "outputs": [],
   "source": [
    "ctrl_all_times, cask_all_times = [], []\n",
    "ctrl_means, cask_means = [], []\n",
    "ctrl_stds, cask_stds = [], []\n",
    "fr1_ctrl_dict, fr1_cask_dict = {}, {}\n",
    "\n",
    "for sheet in fr1_ctrl_sheets:\n",
    "    times, mean, std = mean_pellet_collect_time(fr1_ctrl_path, sheet, remove_outlier=True, n_stds=2, day=3)\n",
    "    ctrl_all_times.append(times)\n",
    "    ctrl_means.append(mean)\n",
    "    ctrl_stds.append(std)\n",
    "    fr1_ctrl_dict[sheet] = mean\n",
    "\n",
    "for sheet in fr1_cask_sheets:\n",
    "    times, mean, std = mean_pellet_collect_time(fr1_cask_path, sheet, remove_outlier=True, n_stds=2, day=3)\n",
    "    cask_all_times.append(times)\n",
    "    cask_means.append(mean)\n",
    "    cask_stds.append(std)\n",
    "    fr1_cask_dict[sheet] = mean"
   ]
  },
  {
   "cell_type": "code",
   "execution_count": null,
   "metadata": {},
   "outputs": [],
   "source": [
    "graph_group_stats(ctrl_means, cask_means, 'Pellet Retrieval Time', group_names=['Ctrl', 'CASK'], unit='minutes', \n",
    "                  export_path=os.path.join('../export/Figure 2/', 'cask_fr1_retrieval_mean.svg'))"
   ]
  },
  {
   "cell_type": "code",
   "execution_count": null,
   "metadata": {},
   "outputs": [],
   "source": [
    "perform_T_test(ctrl_means, cask_means, test_side='two-sided')"
   ]
  },
  {
   "cell_type": "code",
   "execution_count": null,
   "metadata": {},
   "outputs": [],
   "source": [
    "perform_T_test(ctrl_stds, cask_stds, test_side='two-sided')"
   ]
  }
 ],
 "metadata": {
  "kernelspec": {
   "display_name": "ml_general",
   "language": "python",
   "name": "python3"
  },
  "language_info": {
   "codemirror_mode": {
    "name": "ipython",
    "version": 3
   },
   "file_extension": ".py",
   "mimetype": "text/x-python",
   "name": "python",
   "nbconvert_exporter": "python",
   "pygments_lexer": "ipython3",
   "version": "3.10.16"
  },
  "orig_nbformat": 4
 },
 "nbformat": 4,
 "nbformat_minor": 2
}
