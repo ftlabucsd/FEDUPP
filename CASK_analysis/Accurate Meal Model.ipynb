{
 "cells": [
  {
   "cell_type": "markdown",
   "metadata": {},
   "source": [
    "This notebook is to half-manually collect accurate and inaccurate meal data with clusters of KMeans algorithm. \n",
    "\n",
    "We generally observe some raw data and the cluster visualizaion with PCA in one cluster of KMeans and decide if this cluster can be considered as an accurate meal cluster.\n",
    "\n",
    "Then, we trained two models on these semi-labelled data to identify the accuracy pattern for an accurate meal."
   ]
  },
  {
   "cell_type": "code",
   "execution_count": 3,
   "metadata": {},
   "outputs": [],
   "source": [
    "import sys\n",
    "sys.path.insert(0, '../scripts')\n",
    "\n",
    "import torch\n",
    "from sklearn.model_selection import train_test_split\n",
    "from torch.utils.data import DataLoader\n",
    "from meal_classifiers import *\n",
    "from unsupervised_helpers import *\n",
    "import numpy as np\n",
    "from path import rev_cask_raw, rev_ctrl_raw\n",
    "\n",
    "time_threshold = 60\n",
    "pellet_count_threshold = 2"
   ]
  },
  {
   "cell_type": "code",
   "execution_count": null,
   "metadata": {},
   "outputs": [],
   "source": [
    "ctrl_data = extract_data_full_group('../data/reversal_ctrl.xlsx', sheets=rev_ctrl_raw)"
   ]
  },
  {
   "cell_type": "code",
   "execution_count": null,
   "metadata": {},
   "outputs": [],
   "source": [
    "exp_data = extract_data_full_group('../data/reversal_cask.xlsx', sheets=rev_cask_raw)"
   ]
  },
  {
   "cell_type": "code",
   "execution_count": 6,
   "metadata": {},
   "outputs": [],
   "source": [
    "ctrl_input = dictionary2dataset(ctrl_data)\n",
    "exp_input = dictionary2dataset(exp_data)"
   ]
  },
  {
   "cell_type": "markdown",
   "metadata": {},
   "source": [
    "### Control Data 3-Pellet"
   ]
  },
  {
   "cell_type": "code",
   "execution_count": null,
   "metadata": {},
   "outputs": [],
   "source": [
    "find_k_by_elbow(ctrl_data[3])"
   ]
  },
  {
   "cell_type": "code",
   "execution_count": null,
   "metadata": {},
   "outputs": [],
   "source": [
    "model, meals_by_category = fit_model_single(ctrl_data[3], k=4)"
   ]
  },
  {
   "cell_type": "code",
   "execution_count": null,
   "metadata": {},
   "outputs": [],
   "source": [
    "meals_by_category[2][:20]"
   ]
  },
  {
   "cell_type": "code",
   "execution_count": null,
   "metadata": {},
   "outputs": [],
   "source": [
    "new_good, new_bad = collect_meals_from_categories(meals_by_category, [0, 3])\n",
    "update_data('./CASK_ctrl_good.pkl', new_good)\n",
    "update_data('./CASK_ctrl_bad.pkl', new_bad)"
   ]
  },
  {
   "cell_type": "markdown",
   "metadata": {},
   "source": [
    "#### Control Data 4-Pellet"
   ]
  },
  {
   "cell_type": "code",
   "execution_count": null,
   "metadata": {},
   "outputs": [],
   "source": [
    "find_k_by_elbow(ctrl_data[4])"
   ]
  },
  {
   "cell_type": "code",
   "execution_count": null,
   "metadata": {},
   "outputs": [],
   "source": [
    "model, meals_by_category = fit_model_single(ctrl_data[4], k=7)"
   ]
  },
  {
   "cell_type": "code",
   "execution_count": null,
   "metadata": {},
   "outputs": [],
   "source": [
    "meals_by_category[1][:20]"
   ]
  },
  {
   "cell_type": "code",
   "execution_count": null,
   "metadata": {},
   "outputs": [],
   "source": [
    "new_good, new_bad = collect_meals_from_categories(meals_by_category, [1, 4])\n",
    "update_data('./CASK_ctrl_good.pkl', new_good)\n",
    "update_data('./CASK_ctrl_bad.pkl', new_bad)"
   ]
  },
  {
   "cell_type": "markdown",
   "metadata": {},
   "source": [
    "#### Control Data 5-Pellet"
   ]
  },
  {
   "cell_type": "code",
   "execution_count": null,
   "metadata": {},
   "outputs": [],
   "source": [
    "find_k_by_elbow(ctrl_data[5])"
   ]
  },
  {
   "cell_type": "code",
   "execution_count": null,
   "metadata": {},
   "outputs": [],
   "source": [
    "model, meals_by_category = fit_model_single(ctrl_data[5], k=8)"
   ]
  },
  {
   "cell_type": "code",
   "execution_count": null,
   "metadata": {},
   "outputs": [],
   "source": [
    "meals_by_category[8][:20]"
   ]
  },
  {
   "cell_type": "code",
   "execution_count": null,
   "metadata": {},
   "outputs": [],
   "source": [
    "new_good, new_bad = collect_meals_from_categories(meals_by_category, [1, 3, 7])\n",
    "update_data('./CASK_ctrl_good.pkl', new_good)\n",
    "update_data('./CASK_ctrl_bad.pkl', new_bad)"
   ]
  },
  {
   "cell_type": "code",
   "execution_count": null,
   "metadata": {},
   "outputs": [],
   "source": [
    "463/(463+360)"
   ]
  },
  {
   "cell_type": "markdown",
   "metadata": {},
   "source": [
    "#### CASK Data 3-Pellet"
   ]
  },
  {
   "cell_type": "code",
   "execution_count": null,
   "metadata": {},
   "outputs": [],
   "source": [
    "find_k_by_elbow(exp_data[3])"
   ]
  },
  {
   "cell_type": "code",
   "execution_count": null,
   "metadata": {},
   "outputs": [],
   "source": [
    "model, meals_by_category = fit_model_single(exp_data[3], k=6)"
   ]
  },
  {
   "cell_type": "code",
   "execution_count": null,
   "metadata": {},
   "outputs": [],
   "source": [
    "meals_by_category[5][:10]"
   ]
  },
  {
   "cell_type": "code",
   "execution_count": null,
   "metadata": {},
   "outputs": [],
   "source": [
    "new_good, new_bad = collect_meals_from_categories(meals_by_category, [0, 3])\n",
    "update_data('./CASK_exp_good.pkl', new_good)\n",
    "update_data('./CASK_exp_bad.pkl', new_bad)"
   ]
  },
  {
   "cell_type": "markdown",
   "metadata": {},
   "source": [
    "#### CASK Data 4-Pellet"
   ]
  },
  {
   "cell_type": "code",
   "execution_count": null,
   "metadata": {},
   "outputs": [],
   "source": [
    "find_k_by_elbow(exp_data[4])"
   ]
  },
  {
   "cell_type": "code",
   "execution_count": null,
   "metadata": {},
   "outputs": [],
   "source": [
    "model, meals_by_category = fit_model_single(exp_data[4], k=9)"
   ]
  },
  {
   "cell_type": "code",
   "execution_count": null,
   "metadata": {},
   "outputs": [],
   "source": [
    "meals_by_category[6][:20]"
   ]
  },
  {
   "cell_type": "code",
   "execution_count": null,
   "metadata": {},
   "outputs": [],
   "source": [
    "new_good, new_bad = collect_meals_from_categories(meals_by_category, [2, 6])\n",
    "update_data('./CASK_exp_good.pkl', new_good)\n",
    "update_data('./CASK_exp_bad.pkl', new_bad)"
   ]
  },
  {
   "cell_type": "markdown",
   "metadata": {},
   "source": [
    "#### CASK Data 5-Pellet"
   ]
  },
  {
   "cell_type": "code",
   "execution_count": null,
   "metadata": {},
   "outputs": [],
   "source": [
    "find_k_by_elbow(exp_data[5])"
   ]
  },
  {
   "cell_type": "code",
   "execution_count": null,
   "metadata": {},
   "outputs": [],
   "source": [
    "model, meals_by_category = fit_model_single(exp_data[5], k=12)"
   ]
  },
  {
   "cell_type": "code",
   "execution_count": null,
   "metadata": {},
   "outputs": [],
   "source": [
    "meals_by_category[12][:20]"
   ]
  },
  {
   "cell_type": "code",
   "execution_count": null,
   "metadata": {},
   "outputs": [],
   "source": [
    "new_good, new_bad = collect_meals_from_categories(meals_by_category, [1, 3, 6])\n",
    "update_data('./CASK_exp_good.pkl', new_good)\n",
    "update_data('./CASK_exp_bad.pkl', new_bad)"
   ]
  },
  {
   "cell_type": "code",
   "execution_count": null,
   "metadata": {},
   "outputs": [],
   "source": [
    "1107/(1107+976)"
   ]
  },
  {
   "cell_type": "markdown",
   "metadata": {},
   "source": [
    "### Model Training"
   ]
  },
  {
   "cell_type": "code",
   "execution_count": 4,
   "metadata": {},
   "outputs": [],
   "source": [
    "# good meals are class 0\n",
    "ctrl_X, ctrl_y = create_dataset_single_group(experiment='CASK', ctrl=True)\n",
    "exp_X, exp_y = create_dataset_single_group(experiment='CASK', ctrl=False)\n",
    "np.savez('CASK_data.npz', ctrl_X=ctrl_X, ctrl_y=ctrl_y, exp_X=exp_X, exp_y=exp_y)"
   ]
  },
  {
   "cell_type": "code",
   "execution_count": null,
   "metadata": {},
   "outputs": [],
   "source": [
    "device = 'cuda' if torch.cuda.is_available() else 'cpu'\n",
    "data = np.load('CASK_data.npz')\n",
    "ctrl_X, ctrl_y, exp_X, exp_y = data['ctrl_X'], data['ctrl_y'], data['exp_X'], data['exp_y']\n",
    "X, y = merge_dataset(ctrl_X, ctrl_y, exp_X, exp_y)\n",
    "ctrl_input = torch.Tensor(ctrl_X).to(device)\n",
    "exp_input = torch.Tensor(exp_X).to(device)\n",
    "\n",
    "X_train, X_test, y_train, y_test = train_test_split(X, y, shuffle=True, test_size=0.1)\n",
    "print(f'Train Size: {len(y_train)},  Test Size: {len(y_test)}')"
   ]
  },
  {
   "cell_type": "code",
   "execution_count": 3,
   "metadata": {},
   "outputs": [],
   "source": [
    "X_train_tensor = torch.tensor(X_train, dtype=torch.float32)\n",
    "y_train_tensor = torch.tensor(y_train, dtype=torch.long)\n",
    "X_test_tensor = torch.tensor(X_test, dtype=torch.float32, device=device)\n",
    "y_test_tensor = torch.tensor(y_test, dtype=torch.long)\n",
    "\n",
    "lr = 0.0001\n",
    "batch_size = 256\n",
    "num_epochs = 200\n",
    "train_dataset = TimeSeriesDataset(X_train_tensor, y_train_tensor)\n",
    "train_loader = DataLoader(train_dataset, batch_size=batch_size, shuffle=True)"
   ]
  },
  {
   "cell_type": "code",
   "execution_count": null,
   "metadata": {},
   "outputs": [],
   "source": [
    "model = RNNClassifier(input_size=1, hidden_size=400, num_layers=2, num_classes=2).to(device)\n",
    "model = train(model, lr, num_epochs, train_loader, X_test_tensor, y_test_tensor)"
   ]
  },
  {
   "cell_type": "code",
   "execution_count": null,
   "metadata": {},
   "outputs": [],
   "source": [
    "lr = 0.001\n",
    "model = CNNClassifier(num_classes=2, maxlen=4).to(device)\n",
    "model = train(model, lr, num_epochs, train_loader, X_test_tensor, y_test_tensor)"
   ]
  },
  {
   "cell_type": "code",
   "execution_count": null,
   "metadata": {},
   "outputs": [],
   "source": [
    "count_parameters(model)"
   ]
  },
  {
   "cell_type": "code",
   "execution_count": null,
   "metadata": {},
   "outputs": [],
   "source": [
    "model = RNNClassifier(input_size=1, hidden_size=400, num_layers=2, num_classes=2).to(device)\n",
    "model.load_state_dict(torch.load('../data/LSTM_from_CASK.pth'))\n",
    "evaluate_meals_by_groups(model, ctrl_input, ctrl_y, exp_input, exp_y)"
   ]
  },
  {
   "cell_type": "code",
   "execution_count": null,
   "metadata": {},
   "outputs": [],
   "source": [
    "model = CNNClassifier(num_classes=2, maxlen=4).to(device)\n",
    "model.load_state_dict(torch.load('./CNN_from_CASK.pth'))\n",
    "evaluate_meals_by_groups(model, ctrl_input, ctrl_y, exp_input, exp_y)"
   ]
  },
  {
   "cell_type": "code",
   "execution_count": null,
   "metadata": {},
   "outputs": [],
   "source": [
    "model = RNNClassifier(input_size=1, hidden_size=400, num_layers=2, num_classes=2).to(device)\n",
    "model.load_state_dict(torch.load('../data/LSTM_from_CASK.pth'))\n",
    "evaluate_meals_on_new_data(model, ctrl_input.to(device), exp_input.to(device))"
   ]
  },
  {
   "cell_type": "code",
   "execution_count": null,
   "metadata": {},
   "outputs": [],
   "source": [
    "model = CNNClassifier(num_classes=2, maxlen=4).to(device)\n",
    "model.load_state_dict(torch.load('../data/CNN_from_CASK.pth'))\n",
    "evaluate_meals_on_new_data(model, ctrl_input.to(device), exp_input.to(device))"
   ]
  },
  {
   "cell_type": "code",
   "execution_count": 23,
   "metadata": {},
   "outputs": [],
   "source": [
    "torch.save(model.state_dict(), './CNN_from_CASK.pth')"
   ]
  }
 ],
 "metadata": {
  "kernelspec": {
   "display_name": "ml_general",
   "language": "python",
   "name": "python3"
  },
  "language_info": {
   "codemirror_mode": {
    "name": "ipython",
    "version": 3
   },
   "file_extension": ".py",
   "mimetype": "text/x-python",
   "name": "python",
   "nbconvert_exporter": "python",
   "pygments_lexer": "ipython3",
   "version": "3.9.2"
  }
 },
 "nbformat": 4,
 "nbformat_minor": 2
}
