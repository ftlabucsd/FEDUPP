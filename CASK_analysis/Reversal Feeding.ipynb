{
 "cells": [
  {
   "cell_type": "markdown",
   "metadata": {},
   "source": [
    "This notebook contains analysis of food intake and meal in reversal session.\n",
    "\n",
    "All analyses are for figure 4."
   ]
  },
  {
   "cell_type": "markdown",
   "metadata": {},
   "source": [
    "## Pellet and Meal Analysis and Distribution"
   ]
  },
  {
   "cell_type": "code",
   "execution_count": null,
   "metadata": {},
   "outputs": [],
   "source": [
    "import sys\n",
    "sys.path.insert(0, '../scripts')\n",
    "\n",
    "import os\n",
    "import numpy as np\n",
    "import meals as ml\n",
    "from accuracy import graph_group_stats\n",
    "from path import *\n",
    "import intervals as invs\n",
    "import warnings\n",
    "warnings.filterwarnings('ignore')\n",
    "\n",
    "export_root = '../export/Supplementary/'\n",
    "os.makedirs(os.path.join(export_root, 'CASK_meal'), exist_ok=True)\n",
    "time_threshold = 60\n",
    "pellet_threshold = 2\n",
    "\n",
    "# Initialize all data lists\n",
    "ctrl_avg_pellet, cask_avg_pellet = [], []  # pellet per hour\n",
    "ctrl_inactive_meals, cask_inactive_meals = [], []  # percentage of meals in inactive/inactive phase\n",
    "ctrl_fir_meal, cask_fir_meal = [], []\n",
    "ctrl_fir_good_meal, cask_fir_good_meal = [], []\n",
    "flip_ctrl_meal_count, flip_cask_meal_count = [], []\n",
    "ctrl_in_meal_ratios, cask_in_meal_ratios = [], []"
   ]
  },
  {
   "cell_type": "code",
   "execution_count": null,
   "metadata": {},
   "outputs": [],
   "source": [
    "for sheet in rev_ctrl_sheets:\n",
    "    metrics = ml.process_meal_data(sheet, rev_ctrl_path, is_cask=False, \n",
    "                                   export_root=os.path.join(export_root, 'CASK_meal'))\n",
    "    \n",
    "    ctrl_avg_pellet.append(metrics['avg_pellet'])\n",
    "    ctrl_inactive_meals.append(metrics['inactive_meals'])\n",
    "    ctrl_fir_meal.append(metrics['fir_meal'])\n",
    "    ctrl_fir_good_meal.append(metrics['fir_good_meal'])\n",
    "    flip_ctrl_meal_count.append(metrics['meal_count'])\n",
    "    ctrl_in_meal_ratios.append(metrics['in_meal_ratio'])\n",
    "\n",
    "for sheet in rev_cask_sheets:\n",
    "    metrics = ml.process_meal_data(sheet, rev_cask_path, is_cask=True, \n",
    "                                   export_root=os.path.join(export_root, 'CASK_meal'))\n",
    "    \n",
    "    cask_avg_pellet.append(metrics['avg_pellet'])\n",
    "    cask_inactive_meals.append(metrics['inactive_meals'])\n",
    "    cask_fir_meal.append(metrics['fir_meal'])\n",
    "    cask_fir_good_meal.append(metrics['fir_good_meal'])\n",
    "    flip_cask_meal_count.append(metrics['meal_count'])\n",
    "    cask_in_meal_ratios.append(metrics['in_meal_ratio'])"
   ]
  },
  {
   "cell_type": "markdown",
   "metadata": {},
   "source": [
    "### Meal Analysis"
   ]
  },
  {
   "cell_type": "code",
   "execution_count": null,
   "metadata": {},
   "outputs": [],
   "source": [
    "ctrl_light_meals = 1 - np.array(ctrl_inactive_meals)\n",
    "cask_light_meals = 1 - np.array(cask_inactive_meals)"
   ]
  },
  {
   "cell_type": "markdown",
   "metadata": {},
   "source": [
    "#### Inactive and active meal in group"
   ]
  },
  {
   "cell_type": "code",
   "execution_count": null,
   "metadata": {},
   "outputs": [],
   "source": [
    "invs.perform_T_test(ctrl_light_meals, ctrl_inactive_meals)"
   ]
  },
  {
   "cell_type": "code",
   "execution_count": null,
   "metadata": {},
   "outputs": [],
   "source": [
    "invs.perform_T_test(cask_inactive_meals, cask_light_meals)"
   ]
  },
  {
   "cell_type": "markdown",
   "metadata": {},
   "source": [
    "#### Average Meal Count per Day"
   ]
  },
  {
   "cell_type": "code",
   "execution_count": null,
   "metadata": {},
   "outputs": [],
   "source": [
    "invs.perform_T_test(flip_ctrl_meal_count, flip_cask_meal_count, test_side='greater')"
   ]
  },
  {
   "cell_type": "markdown",
   "metadata": {},
   "source": [
    "#### Inactive and active meal between group"
   ]
  },
  {
   "cell_type": "code",
   "execution_count": null,
   "metadata": {},
   "outputs": [],
   "source": [
    "invs.perform_T_test(ctrl_inactive_meals, cask_inactive_meals, test_side='less')"
   ]
  },
  {
   "cell_type": "markdown",
   "metadata": {},
   "source": [
    "* Mice have significant more meals in their active/day time\n",
    "* No significant difference in the proportion of inactive meals between control and cask groups"
   ]
  },
  {
   "cell_type": "markdown",
   "metadata": {},
   "source": [
    "### Average Pellet"
   ]
  },
  {
   "cell_type": "code",
   "execution_count": null,
   "metadata": {},
   "outputs": [],
   "source": [
    "graph_group_stats(ctrl_avg_pellet, cask_avg_pellet, stats_name='Average Pellet', \n",
    "                  unit='pellets', group_names=['Control', 'CASK'], \n",
    "                  export_path=os.path.join(export_root, '../Figure 4/CASK_pellet_by_day.svg'))"
   ]
  },
  {
   "cell_type": "code",
   "execution_count": null,
   "metadata": {},
   "outputs": [],
   "source": [
    "invs.perform_T_test(ctrl_avg_pellet, cask_avg_pellet, test_side='two-sided')"
   ]
  },
  {
   "cell_type": "code",
   "execution_count": null,
   "metadata": {},
   "outputs": [],
   "source": [
    "print(np.mean(ctrl_in_meal_ratios), np.std(ctrl_in_meal_ratios) / np.sqrt(len(ctrl_in_meal_ratios)))\n",
    "print(np.mean(cask_in_meal_ratios), np.std(cask_in_meal_ratios) / np.sqrt(len(cask_in_meal_ratios)))"
   ]
  }
 ],
 "metadata": {
  "kernelspec": {
   "display_name": "ml_general",
   "language": "python",
   "name": "python3"
  },
  "language_info": {
   "codemirror_mode": {
    "name": "ipython",
    "version": 3
   },
   "file_extension": ".py",
   "mimetype": "text/x-python",
   "name": "python",
   "nbconvert_exporter": "python",
   "pygments_lexer": "ipython3",
   "version": "3.10.16"
  },
  "orig_nbformat": 4
 },
 "nbformat": 4,
 "nbformat_minor": 2
}
