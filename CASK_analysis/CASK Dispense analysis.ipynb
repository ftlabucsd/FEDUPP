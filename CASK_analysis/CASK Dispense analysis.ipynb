{
 "cells": [
  {
   "cell_type": "code",
   "execution_count": 1,
   "metadata": {},
   "outputs": [],
   "source": [
    "import sys\n",
    "sys.path.insert(0, '../scripts')\n",
    "\n",
    "import os\n",
    "import json\n",
    "from path import fr1_ctrl_path, fr1_cask_path, fr1_ctrl_sheets, fr1_cask_sheets, \\\n",
    "                rev_ctrl_path, rev_cask_path, rev_ctrl_sheets, rev_cask_sheets\n",
    "dispense_stats = {}"
   ]
  },
  {
   "cell_type": "code",
   "execution_count": 2,
   "metadata": {},
   "outputs": [],
   "source": [
    "import pandas as pd\n",
    "import matplotlib.pyplot as plt\n",
    "from preprocessing import read_excel_by_sheet\n",
    "from tools import get_bhv_num\n",
    "\n",
    "def plot_motor_turn(excel_path, sheet):\n",
    "    data = pd.read_excel(excel_path, sheet_name=sheet)\n",
    "    data = data[(data['Event'] == 'Pellet') & (data['Motor_Turns'] > 1)][['Motor_Turns', 'Pellet_Count']]\n",
    "    exceeding_cnt = int((data['Motor_Turns'] > 15).astype(int).sum())\n",
    "    # group, num = get_bhv_num(sheet)\n",
    "\n",
    "    # plt.figure(figsize=(15, 5))\n",
    "    # plt.bar(data['Pellet_Count'], height=data['Motor_Turns'])\n",
    "    # plt.axhline(y=15, color='r', linestyle='--', linewidth=2)\n",
    "    # plt.title(f'Motor Turns Statistics of Run {group} Mouse {num}', fontsize=20)\n",
    "    # plt.xlabel('Pellet Count', fontsize=16)\n",
    "    # plt.ylabel('Motor Turns', fontsize=16)\n",
    "\n",
    "    # threshold_line = plt.Line2D([0], [0], color='red', linestyle='--', linewidth=2, label=\"Threshold\")\n",
    "    # n_count_text = plt.Line2D([0], [0], color='none', label=f\"Exceeding Cnt: {exceeding_cnt}\")  # Invisible handle\n",
    "\n",
    "    # plt.legend(handles=[threshold_line, n_count_text])\n",
    "    # plt.show()\n",
    "    return exceeding_cnt, round(exceeding_cnt / len(data), 3)"
   ]
  },
  {
   "cell_type": "markdown",
   "metadata": {},
   "source": [
    "### FR1 ctrl"
   ]
  },
  {
   "cell_type": "code",
   "execution_count": 3,
   "metadata": {},
   "outputs": [],
   "source": [
    "temp_dict = {}\n",
    "for sheet in fr1_ctrl_sheets[:]:\n",
    "    cnt, prop = plot_motor_turn(fr1_ctrl_path, sheet)\n",
    "    temp_dict[sheet] = [cnt, prop]\n",
    "dispense_stats['FR1_ctrl'] = temp_dict"
   ]
  },
  {
   "cell_type": "code",
   "execution_count": 4,
   "metadata": {},
   "outputs": [],
   "source": [
    "temp_dict = {}\n",
    "for sheet in fr1_cask_sheets:\n",
    "    cnt, prop = plot_motor_turn(fr1_cask_path, sheet)\n",
    "    temp_dict[sheet] = [cnt, prop]\n",
    "dispense_stats['FR1_cask'] = temp_dict"
   ]
  },
  {
   "cell_type": "code",
   "execution_count": 5,
   "metadata": {},
   "outputs": [],
   "source": [
    "temp_dict = {}\n",
    "for sheet in rev_ctrl_sheets:\n",
    "    cnt, prop = plot_motor_turn(rev_ctrl_path, sheet)\n",
    "    temp_dict[sheet] = [cnt, prop]\n",
    "dispense_stats['rev_ctrl'] = temp_dict"
   ]
  },
  {
   "cell_type": "code",
   "execution_count": 6,
   "metadata": {},
   "outputs": [],
   "source": [
    "temp_dict = {}\n",
    "for sheet in rev_cask_sheets:\n",
    "    cnt, prop = plot_motor_turn(rev_cask_path, sheet)\n",
    "    temp_dict[sheet] = [cnt, prop]\n",
    "dispense_stats['rev_cask'] = temp_dict"
   ]
  },
  {
   "cell_type": "code",
   "execution_count": 7,
   "metadata": {},
   "outputs": [],
   "source": [
    "with open('../stats/cask_dispense.json', 'w') as f:\n",
    "    json.dump(dispense_stats, f)"
   ]
  },
  {
   "cell_type": "code",
   "execution_count": 8,
   "metadata": {},
   "outputs": [],
   "source": [
    "import pickle\n",
    "import numpy as np\n",
    "ctrl_acc_dict, cask_acc_dict = pickle.load(open('../data/ctrl_fr1_acc.pkl', 'rb'))\n",
    "ctrl_dispense_stats, cask_dispense_stats = dispense_stats['FR1_ctrl'], dispense_stats['FR1_cask']"
   ]
  },
  {
   "cell_type": "code",
   "execution_count": 9,
   "metadata": {},
   "outputs": [],
   "source": [
    "ctrl_array = []\n",
    "for key, value in ctrl_acc_dict.items():\n",
    "    temp = [value]\n",
    "    temp.extend(ctrl_dispense_stats[key])\n",
    "    ctrl_array.append(temp)\n",
    "\n",
    "cask_array = []\n",
    "for key, value in cask_acc_dict.items():\n",
    "    temp = [value]\n",
    "    temp.extend(cask_dispense_stats[key])\n",
    "    cask_array.append(temp)\n",
    "\n",
    "ctrl_array = np.array(ctrl_array)\n",
    "cask_array = np.array(cask_array)"
   ]
  },
  {
   "cell_type": "code",
   "execution_count": 10,
   "metadata": {},
   "outputs": [
    {
     "name": "stdout",
     "output_type": "stream",
     "text": [
      "Control Correlation Matrix\n",
      "[[1.         0.19210653 0.19212246]\n",
      " [0.19210653 1.         0.99982604]\n",
      " [0.19212246 0.99982604 1.        ]]\n",
      "CASK Correlation Matrix\n",
      "[[1.         0.02985223 0.02985223]\n",
      " [0.02985223 1.         1.        ]\n",
      " [0.02985223 1.         1.        ]]\n"
     ]
    }
   ],
   "source": [
    "print('Control Correlation Matrix')\n",
    "print(np.corrcoef(ctrl_array, rowvar=False))\n",
    "print('CASK Correlation Matrix')\n",
    "print(np.corrcoef(cask_array, rowvar=False))"
   ]
  }
 ],
 "metadata": {
  "kernelspec": {
   "display_name": "yolo",
   "language": "python",
   "name": "python3"
  },
  "language_info": {
   "codemirror_mode": {
    "name": "ipython",
    "version": 3
   },
   "file_extension": ".py",
   "mimetype": "text/x-python",
   "name": "python",
   "nbconvert_exporter": "python",
   "pygments_lexer": "ipython3",
   "version": "3.9.2"
  }
 },
 "nbformat": 4,
 "nbformat_minor": 2
}
