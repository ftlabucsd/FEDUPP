{
 "cells": [
  {
   "cell_type": "markdown",
   "metadata": {},
   "source": [
    "This notebook is for sanity check about the FED3 device data.\n",
    "\n",
    "The ``Motor_Turns`` column implies the status of the FED3. Though there is no official cutoff for its value when the device get stuck, we use an empirical values based on our data to check the ratio of pellets happens during dispense (or not well-feedbacked periods).\n",
    "\n",
    "We choose 15 as a not good pellet release and count the percentage of such bad releases among all pellet release events in a session.\n",
    "\n",
    "When the percentage of bad pellet releases are too many (> 30% or > 25% based on different data), we drop that sample."
   ]
  },
  {
   "cell_type": "code",
   "execution_count": 1,
   "metadata": {},
   "outputs": [],
   "source": [
    "import sys\n",
    "sys.path.insert(0, '../scripts')\n",
    "\n",
    "import pandas as pd\n",
    "import json\n",
    "from path import fr1_ctrl_path, fr1_cask_path, fr1_ctrl_sheets, fr1_cask_sheets, \\\n",
    "                rev_ctrl_path, rev_cask_path, rev_ctrl_sheets, rev_cask_sheets\n",
    "dispense_stats = {}"
   ]
  },
  {
   "cell_type": "code",
   "execution_count": 2,
   "metadata": {},
   "outputs": [],
   "source": [
    "def plot_motor_turn(excel_path, sheet):\n",
    "    data = pd.read_excel(excel_path, sheet_name=sheet)\n",
    "    data = data[(data['Event'] == 'Pellet') & (data['Motor_Turns'] > 1)][['Motor_Turns', 'Pellet_Count']]\n",
    "    exceeding_cnt = int((data['Motor_Turns'] > 15).astype(int).sum())\n",
    "    return exceeding_cnt, round(exceeding_cnt / len(data), 3)"
   ]
  },
  {
   "cell_type": "markdown",
   "metadata": {},
   "source": [
    "### FR1 ctrl"
   ]
  },
  {
   "cell_type": "code",
   "execution_count": 3,
   "metadata": {},
   "outputs": [],
   "source": [
    "temp_dict = {}\n",
    "for sheet in fr1_ctrl_sheets[:]:\n",
    "    cnt, prop = plot_motor_turn(fr1_ctrl_path, sheet)\n",
    "    temp_dict[sheet] = [cnt, prop]\n",
    "dispense_stats['FR1_ctrl'] = temp_dict\n",
    "\n",
    "temp_dict = {}\n",
    "for sheet in fr1_cask_sheets:\n",
    "    cnt, prop = plot_motor_turn(fr1_cask_path, sheet)\n",
    "    temp_dict[sheet] = [cnt, prop]\n",
    "dispense_stats['FR1_cask'] = temp_dict\n",
    "\n",
    "temp_dict = {}\n",
    "for sheet in rev_ctrl_sheets:\n",
    "    cnt, prop = plot_motor_turn(rev_ctrl_path, sheet)\n",
    "    temp_dict[sheet] = [cnt, prop]\n",
    "dispense_stats['rev_ctrl'] = temp_dict\n",
    "\n",
    "temp_dict = {}\n",
    "for sheet in rev_cask_sheets:\n",
    "    cnt, prop = plot_motor_turn(rev_cask_path, sheet)\n",
    "    temp_dict[sheet] = [cnt, prop]\n",
    "dispense_stats['rev_cask'] = temp_dict"
   ]
  },
  {
   "cell_type": "code",
   "execution_count": 4,
   "metadata": {},
   "outputs": [],
   "source": [
    "with open('../stats/cask_dispense.json', 'w') as f:\n",
    "    json.dump(dispense_stats, f)"
   ]
  }
 ],
 "metadata": {
  "kernelspec": {
   "display_name": "ml_general",
   "language": "python",
   "name": "python3"
  },
  "language_info": {
   "codemirror_mode": {
    "name": "ipython",
    "version": 3
   },
   "file_extension": ".py",
   "mimetype": "text/x-python",
   "name": "python",
   "nbconvert_exporter": "python",
   "pygments_lexer": "ipython3",
   "version": "3.10.16"
  }
 },
 "nbformat": 4,
 "nbformat_minor": 2
}
