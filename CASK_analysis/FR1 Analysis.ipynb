{
 "cells": [
  {
   "cell_type": "markdown",
   "metadata": {},
   "source": [
    "This notebook contains plots and analysis statistics of FR1, including\n",
    "\n",
    "1. [Figure 2] Accuracy/Correct Rate of FED3 session in FR1\n",
    "\n",
    "2. [Figure 2] Food Intake Pattern in FR1"
   ]
  },
  {
   "cell_type": "markdown",
   "metadata": {},
   "source": [
    "### CASK FR1 Correct Rate"
   ]
  },
  {
   "cell_type": "code",
   "execution_count": 1,
   "metadata": {},
   "outputs": [],
   "source": [
    "import sys\n",
    "sys.path.insert(0, '../scripts')\n",
    "\n",
    "import os\n",
    "import numpy as np\n",
    "from accuracy import read_and_record, graph_group_stats, plot_cumulative_accuracy\n",
    "from path import fr1_ctrl_path, fr1_cask_path, fr1_ctrl_sheets, fr1_cask_sheets\n",
    "from preprocessing import read_excel_by_sheet\n",
    "from intervals import perform_T_test\n",
    "import warnings\n",
    "warnings.filterwarnings('ignore')\n",
    "\n",
    "import meals as ml\n",
    "\n",
    "export_root = '../export/Figure 2'\n",
    "os.makedirs(export_root, exist_ok=True)\n",
    "ctrl_group_data, cask_group_data = [], []\n",
    "ctrl_ending_corr, cask_ending_corr = [], []\n",
    "ctrl_learned_time, cask_learned_time = [], []\n",
    "ctrl_acc_dict, cask_acc_dict = {}, {}"
   ]
  },
  {
   "cell_type": "code",
   "execution_count": 2,
   "metadata": {},
   "outputs": [],
   "source": [
    "for sheet in fr1_ctrl_sheets:\n",
    "    data = read_and_record(path=fr1_ctrl_path, sheet=sheet, \n",
    "                        ending_corr=ctrl_ending_corr, \n",
    "                        learned_time=ctrl_learned_time,\n",
    "                        acc_dict=ctrl_acc_dict)\n",
    "    ctrl_group_data.append(data)\n",
    "\n",
    "for sheet in fr1_cask_sheets:\n",
    "    data = read_and_record(path=fr1_cask_path, sheet=sheet, \n",
    "                        ending_corr=cask_ending_corr, \n",
    "                        learned_time=cask_learned_time,\n",
    "                        acc_dict=cask_acc_dict)\n",
    "    cask_group_data.append(data)"
   ]
  },
  {
   "cell_type": "code",
   "execution_count": null,
   "metadata": {},
   "outputs": [],
   "source": [
    "all_binned = plot_cumulative_accuracy([ctrl_group_data, cask_group_data], \n",
    "                    [\"Control\", 'CASK'], bin_size_sec=5,\n",
    "                    export_path=os.path.join(export_root, f'cask_fr1_accuracy.svg'))"
   ]
  },
  {
   "cell_type": "code",
   "execution_count": null,
   "metadata": {},
   "outputs": [],
   "source": [
    "all_binned[0]"
   ]
  },
  {
   "cell_type": "markdown",
   "metadata": {},
   "source": [
    "#### Analysis"
   ]
  },
  {
   "cell_type": "code",
   "execution_count": null,
   "metadata": {},
   "outputs": [],
   "source": [
    "perform_T_test(ctrl_learned_time, cask_learned_time, test_side='two-sided')"
   ]
  },
  {
   "cell_type": "code",
   "execution_count": null,
   "metadata": {},
   "outputs": [],
   "source": [
    "graph_group_stats(ctrl=ctrl_learned_time, exp=cask_learned_time, \n",
    "                  group_names=['Ctrl', 'CASK'], stats_name='First Learned Line', unit='hours',\n",
    "                  export_path=os.path.join(export_root, 'CASK_FR1_FirstLearnedLine_violinplot.svg')\n",
    "                  )"
   ]
  },
  {
   "cell_type": "code",
   "execution_count": 51,
   "metadata": {},
   "outputs": [],
   "source": [
    "import pickle\n",
    "pickle.dump((ctrl_acc_dict, cask_acc_dict), open('../data/ctrl_fr1_acc.pkl', 'wb'))"
   ]
  },
  {
   "cell_type": "markdown",
   "metadata": {},
   "source": [
    "#### Ctrl/Cask Ending/Overall Correct Rate"
   ]
  },
  {
   "cell_type": "code",
   "execution_count": null,
   "metadata": {},
   "outputs": [],
   "source": [
    "perform_T_test(ctrl_ending_corr, cask_ending_corr, test_side='two-sided')"
   ]
  },
  {
   "cell_type": "code",
   "execution_count": null,
   "metadata": {},
   "outputs": [],
   "source": [
    "graph_group_stats(ctrl=ctrl_ending_corr, exp=cask_ending_corr, group_names=['Ctrl', 'CASK'], stats_name='Average Correct Rate', unit='%',\n",
    "                  export_path=os.path.join(export_root, 'CASK_FR1_accuracy_barplot.svg'))"
   ]
  },
  {
   "cell_type": "markdown",
   "metadata": {},
   "source": [
    "### CASK FR1 Meal Analysis"
   ]
  },
  {
   "cell_type": "code",
   "execution_count": 8,
   "metadata": {},
   "outputs": [],
   "source": [
    "export_root = '../export/Figure 2/CASK_FR1_Meal/'\n",
    "os.makedirs(export_root, exist_ok=True)\n",
    "\n",
    "# Initialize all data lists\n",
    "ctrl_avg_pellet, cask_avg_pellet = [], []  # pellet per hour\n",
    "ctrl_dark_meals, cask_dark_meals = [], []  # percentage of meals in inactive/dark phase\n",
    "ctrl_fir_meal, cask_fir_meal = [], []\n",
    "ctrl_fir_good_meal, cask_fir_good_meal = [], []\n",
    "flip_ctrl_meal_count, flip_cask_meal_count = [], []\n",
    "ctrl_in_meal_ratios, cask_in_meal_ratios = [], []"
   ]
  },
  {
   "cell_type": "code",
   "execution_count": null,
   "metadata": {},
   "outputs": [],
   "source": [
    "for sheet in fr1_ctrl_sheets:\n",
    "    metrics = ml.process_meal_data(sheet, fr1_ctrl_path, is_cask=False, \n",
    "                                   export_root=export_root)\n",
    "    \n",
    "    ctrl_avg_pellet.append(metrics['avg_pellet'])\n",
    "    ctrl_dark_meals.append(metrics['dark_meals'])\n",
    "    ctrl_fir_meal.append(metrics['fir_meal'])\n",
    "    ctrl_fir_good_meal.append(metrics['fir_good_meal'])\n",
    "    flip_ctrl_meal_count.append(metrics['meal_count'])\n",
    "    ctrl_in_meal_ratios.append(metrics['in_meal_ratio'])\n",
    "\n",
    "for sheet in fr1_cask_sheets:\n",
    "    metrics = ml.process_meal_data(sheet, fr1_cask_path, is_cask=True, \n",
    "                                   export_root=export_root)\n",
    "    \n",
    "    cask_avg_pellet.append(metrics['avg_pellet'])\n",
    "    cask_dark_meals.append(metrics['dark_meals'])\n",
    "    cask_fir_meal.append(metrics['fir_meal'])\n",
    "    cask_fir_good_meal.append(metrics['fir_good_meal'])\n",
    "    flip_cask_meal_count.append(metrics['meal_count'])\n",
    "    cask_in_meal_ratios.append(metrics['in_meal_ratio'])"
   ]
  },
  {
   "cell_type": "code",
   "execution_count": 10,
   "metadata": {},
   "outputs": [],
   "source": [
    "ctrl_light_meals = 1 - np.array(ctrl_dark_meals)\n",
    "cask_light_meals = 1 - np.array(cask_dark_meals)"
   ]
  },
  {
   "cell_type": "markdown",
   "metadata": {},
   "source": [
    "#### Inactive and active meal in group"
   ]
  },
  {
   "cell_type": "code",
   "execution_count": null,
   "metadata": {},
   "outputs": [],
   "source": [
    "perform_T_test(ctrl_light_meals, ctrl_dark_meals)"
   ]
  },
  {
   "cell_type": "code",
   "execution_count": null,
   "metadata": {},
   "outputs": [],
   "source": [
    "perform_T_test(cask_dark_meals, cask_light_meals)"
   ]
  },
  {
   "cell_type": "markdown",
   "metadata": {},
   "source": [
    "#### Average Meal Count per Day"
   ]
  },
  {
   "cell_type": "code",
   "execution_count": null,
   "metadata": {},
   "outputs": [],
   "source": [
    "perform_T_test(flip_ctrl_meal_count, flip_cask_meal_count, test_side='two-sided')"
   ]
  },
  {
   "cell_type": "markdown",
   "metadata": {},
   "source": [
    "#### Inactive and active meal between group"
   ]
  },
  {
   "cell_type": "code",
   "execution_count": null,
   "metadata": {},
   "outputs": [],
   "source": [
    "perform_T_test(ctrl_dark_meals, cask_dark_meals, test_side='two-sided')"
   ]
  },
  {
   "cell_type": "markdown",
   "metadata": {},
   "source": [
    "### Average Pellet"
   ]
  },
  {
   "cell_type": "code",
   "execution_count": null,
   "metadata": {},
   "outputs": [],
   "source": [
    "graph_group_stats(ctrl_avg_pellet, cask_avg_pellet, stats_name='FR1 Average Pellet', unit='pellets', group_names=['Control', 'CASK'],\n",
    "                  export_path=os.path.join(export_root, '../CASK_FR1_pellet count.svg'))"
   ]
  },
  {
   "cell_type": "code",
   "execution_count": null,
   "metadata": {},
   "outputs": [],
   "source": [
    "perform_T_test(ctrl_avg_pellet, cask_avg_pellet, test_side='two-sided')"
   ]
  },
  {
   "cell_type": "markdown",
   "metadata": {},
   "source": [
    "#### Time needed to start the first meal"
   ]
  },
  {
   "cell_type": "code",
   "execution_count": null,
   "metadata": {},
   "outputs": [],
   "source": [
    "graph_group_stats(ctrl_fir_meal, cask_fir_meal, stats_name='First Meal Time', unit='hours',group_names=['Control', 'CASK'],\n",
    "                  export_path=os.path.join(export_root, '../CASK_FR1_1stMealTime.svg'))"
   ]
  },
  {
   "cell_type": "code",
   "execution_count": null,
   "metadata": {},
   "outputs": [],
   "source": [
    "perform_T_test(ctrl_fir_meal, cask_fir_meal, test_side='two-sided')"
   ]
  },
  {
   "cell_type": "markdown",
   "metadata": {},
   "source": [
    "#### Time needed to start the first **Good** meal"
   ]
  },
  {
   "cell_type": "code",
   "execution_count": null,
   "metadata": {},
   "outputs": [],
   "source": [
    "graph_group_stats(ctrl_fir_good_meal, cask_fir_good_meal, stats_name='First Good Meal Time', unit='hours', group_names=['Control', 'CASK'],\n",
    "                    export_path=os.path.join(export_root, '../CASK_FR1_1stGoodMealTime.svg'))"
   ]
  },
  {
   "cell_type": "code",
   "execution_count": null,
   "metadata": {},
   "outputs": [],
   "source": [
    "perform_T_test(ctrl_fir_good_meal, cask_fir_good_meal, test_side='two-sided')"
   ]
  },
  {
   "cell_type": "markdown",
   "metadata": {},
   "source": [
    "### In-meal pellet percentage"
   ]
  },
  {
   "cell_type": "code",
   "execution_count": null,
   "metadata": {},
   "outputs": [],
   "source": [
    "print(np.mean(ctrl_in_meal_ratios), np.std(ctrl_in_meal_ratios) / np.sqrt(len(ctrl_in_meal_ratios)))\n",
    "print(np.mean(cask_in_meal_ratios), np.std(cask_in_meal_ratios) / np.sqrt(len(cask_in_meal_ratios)))"
   ]
  }
 ],
 "metadata": {
  "kernelspec": {
   "display_name": "ml_general",
   "language": "python",
   "name": "python3"
  },
  "language_info": {
   "codemirror_mode": {
    "name": "ipython",
    "version": 3
   },
   "file_extension": ".py",
   "mimetype": "text/x-python",
   "name": "python",
   "nbconvert_exporter": "python",
   "pygments_lexer": "ipython3",
   "version": "3.10.16"
  },
  "orig_nbformat": 4
 },
 "nbformat": 4,
 "nbformat_minor": 2
}
