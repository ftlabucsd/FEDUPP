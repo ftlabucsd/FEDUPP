{
 "cells": [
  {
   "cell_type": "code",
   "execution_count": 1,
   "metadata": {},
   "outputs": [],
   "source": [
    "import sys\n",
    "sys.path.insert(0, '../scripts')\n",
    "\n",
    "import torch\n",
    "\n",
    "import meals as ml\n",
    "from meal_classifiers import *\n",
    "from unsupervised_helpers import *\n",
    "import numpy as np\n",
    "from preprocessing import read_excel_by_sheet\n",
    "from sklearn.metrics.pairwise import cosine_similarity\n",
    "time_threshold = 60\n",
    "pellet_count_threshold = 2\n",
    "from path import *"
   ]
  },
  {
   "cell_type": "code",
   "execution_count": 2,
   "metadata": {},
   "outputs": [],
   "source": [
    "def good_meal_by_n_pellets(predictions, categories):\n",
    "    category_counts = {3: {'total': 0, 'zeros': 0},\n",
    "                    4: {'total': 0, 'zeros': 0},\n",
    "                    5: {'total': 0, 'zeros': 0}}\n",
    "\n",
    "    # Loop through the predictions and categories\n",
    "    for pred, cat in zip(predictions, categories):\n",
    "        if cat in category_counts:\n",
    "            category_counts[cat]['total'] += 1\n",
    "            if pred == 0:\n",
    "                category_counts[cat]['zeros'] += 1\n",
    "\n",
    "    temp_list = []\n",
    "    for cat in category_counts:\n",
    "        total = category_counts[cat]['total']\n",
    "        zeros = category_counts[cat]['zeros']\n",
    "        percentage = (zeros / total) * 100 if total > 0 else 0\n",
    "        temp_list.append(percentage)\n",
    "    return temp_list"
   ]
  },
  {
   "cell_type": "code",
   "execution_count": 3,
   "metadata": {},
   "outputs": [
    {
     "data": {
      "text/plain": [
       "<All keys matched successfully>"
      ]
     },
     "execution_count": 3,
     "metadata": {},
     "output_type": "execute_result"
    }
   ],
   "source": [
    "device = 'cuda' if torch.cuda.is_available() else 'cpu'\n",
    "# model = CNNClassifier(num_classes=2, maxlen=4).to(device)\n",
    "model = RNNClassifier(input_size=1, hidden_size=400, num_classes=2, num_layers=2).to(device)\n",
    "model.load_state_dict(torch.load('./LSTM_from_CASK.pth'))"
   ]
  },
  {
   "cell_type": "code",
   "execution_count": 4,
   "metadata": {},
   "outputs": [],
   "source": [
    "ctrl_data = []\n",
    "cask_data = []\n",
    "\n",
    "for sheet in rev_ctrl_sheets[:]:\n",
    "    data = read_excel_by_sheet(sheet, rev_ctrl_path)\n",
    "    meals, meals_len = ml.extract_meals_for_model(data, time_threshold, pellet_count_threshold)\n",
    "    preds = predict(model, meals)\n",
    "    ctrl_data.append(good_meal_by_n_pellets(preds, meals_len))\n",
    "\n",
    "for sheet in rev_cask_sheets:\n",
    "    data = read_excel_by_sheet(sheet, rev_cask_path)\n",
    "    meals, meals_len = ml.extract_meals_for_model(data, time_threshold, pellet_count_threshold)\n",
    "    preds = predict(model, meals)\n",
    "    cask_data.append(good_meal_by_n_pellets(preds, meals_len))\n",
    "\n",
    "ctrl_data = np.array(ctrl_data)\n",
    "cask_data = np.array(cask_data)"
   ]
  },
  {
   "cell_type": "markdown",
   "metadata": {},
   "source": [
    "#### Cosine Similarity"
   ]
  },
  {
   "cell_type": "code",
   "execution_count": 5,
   "metadata": {},
   "outputs": [
    {
     "name": "stdout",
     "output_type": "stream",
     "text": [
      "Mean Similarity: 0.9707122768469617\n",
      "Max Similarity: 0.9999799078019359\n",
      "Min Similarity: 0.7226637203153151\n",
      "Variance of Similarity: 0.001962304382042059\n"
     ]
    }
   ],
   "source": [
    "similarity_matrix = cosine_similarity(ctrl_data, cask_data)\n",
    "\n",
    "mean_similarity = np.mean(similarity_matrix)\n",
    "max_similarity = np.max(similarity_matrix)\n",
    "min_similarity = np.min(similarity_matrix)\n",
    "variance_similarity = np.var(similarity_matrix)\n",
    "\n",
    "print(\"Mean Similarity:\", mean_similarity)\n",
    "print(\"Max Similarity:\", max_similarity)\n",
    "print(\"Min Similarity:\", min_similarity)\n",
    "print(\"Variance of Similarity:\", variance_similarity)"
   ]
  },
  {
   "cell_type": "markdown",
   "metadata": {},
   "source": [
    "#### Centroids Cosine Similarity"
   ]
  },
  {
   "cell_type": "code",
   "execution_count": 6,
   "metadata": {},
   "outputs": [
    {
     "name": "stdout",
     "output_type": "stream",
     "text": [
      "Cosine Similarity Between Group Centroids: 0.9999996586557744\n"
     ]
    }
   ],
   "source": [
    "# Compute centroids\n",
    "centroid_M1 = np.mean(ctrl_data, axis=0)\n",
    "centroid_M2 = np.mean(cask_data, axis=0)\n",
    "\n",
    "# Compute cosine similarity between centroids\n",
    "centroid_similarity = cosine_similarity([centroid_M1], [centroid_M2])[0][0]\n",
    "\n",
    "print(\"Cosine Similarity Between Group Centroids:\", centroid_similarity)"
   ]
  },
  {
   "cell_type": "code",
   "execution_count": 7,
   "metadata": {},
   "outputs": [
    {
     "name": "stdout",
     "output_type": "stream",
     "text": [
      "Control Group Mean: [54.71109913 52.89117039 53.03310483]; STD: [ 8.3805239  11.39277633 14.44403729]\n",
      "CASK Group Mean: [48.61574713 47.05912941 47.090181  ]; STD: [10.82321876 11.04119935 15.44495944]\n"
     ]
    }
   ],
   "source": [
    "std_M1 = np.std(ctrl_data, axis=0)\n",
    "std_M2 = np.std(cask_data, axis=0)\n",
    "print(f'Control Group Mean: {centroid_M1}; STD: {std_M1}')\n",
    "print(f'CASK Group Mean: {centroid_M2}; STD: {std_M2}')"
   ]
  },
  {
   "cell_type": "markdown",
   "metadata": {},
   "source": [
    "#### Wasserstein Distance"
   ]
  },
  {
   "cell_type": "code",
   "execution_count": 8,
   "metadata": {},
   "outputs": [
    {
     "name": "stdout",
     "output_type": "stream",
     "text": [
      "Wasserstein distances per dimension (normalized): [0.6048234134884379, 0.502766919167065, 0.408190295638837]\n",
      "Mean Wasserstein Distance (normalized): 0.5052602094314466\n",
      "Mean Wasserstein distance (unnormalized): 6.046053759558366\n"
     ]
    }
   ],
   "source": [
    "from scipy.stats import wasserstein_distance\n",
    "\n",
    "# Compute pairwise Wasserstein distance for each dimension\n",
    "# Combine data for normalization\n",
    "combined_data = np.vstack([ctrl_data, cask_data])\n",
    "\n",
    "# Compute mean and std for normalization (column-wise)\n",
    "mean = np.mean(combined_data, axis=0)\n",
    "std = np.std(combined_data, axis=0)\n",
    "\n",
    "# Normalize both datasets\n",
    "ctrl_data_normalized = (ctrl_data - mean) / std\n",
    "cask_data_normalized = (cask_data - mean) / std\n",
    "\n",
    "# Compute Wasserstein distance for normalized data (dimension-wise)\n",
    "wasserstein_distances = [\n",
    "    wasserstein_distance(ctrl_data_normalized[:, i], cask_data_normalized[:, i])\n",
    "    for i in range(ctrl_data_normalized.shape[1])\n",
    "]\n",
    "unnormalized_distance = [wasserstein_distance(ctrl_data[:, i], cask_data[:, i])\n",
    "    for i in range(ctrl_data.shape[1])]\n",
    "unnormalized_mean = np.mean(unnormalized_distance)\n",
    "\n",
    "mean_wasserstein_distance = np.mean(wasserstein_distances)\n",
    "\n",
    "print(\"Wasserstein distances per dimension (normalized):\", wasserstein_distances)\n",
    "print(\"Mean Wasserstein Distance (normalized):\", mean_wasserstein_distance)\n",
    "print(\"Mean Wasserstein distance (unnormalized):\", unnormalized_mean)"
   ]
  },
  {
   "cell_type": "markdown",
   "metadata": {},
   "source": [
    "#### KL Divergence"
   ]
  },
  {
   "cell_type": "code",
   "execution_count": 9,
   "metadata": {},
   "outputs": [
    {
     "name": "stdout",
     "output_type": "stream",
     "text": [
      "KL Divergence (ctrl || cask): 1.6059875915650688\n",
      "KL Divergence (cask || ctrl): 2.20475664166971\n"
     ]
    }
   ],
   "source": [
    "import numpy as np\n",
    "from scipy.stats import entropy\n",
    "\n",
    "# Flatten matrices to compare all dimensions together\n",
    "M1_flattened = ctrl_data.flatten()\n",
    "M2_flattened = cask_data.flatten()\n",
    "\n",
    "# Estimate probability distributions with histograms\n",
    "bins = np.histogram_bin_edges(np.concatenate([M1_flattened, M2_flattened]), bins=30)\n",
    "P, _ = np.histogram(M1_flattened, bins=bins, density=True)\n",
    "Q, _ = np.histogram(M2_flattened, bins=bins, density=True)\n",
    "\n",
    "# Add a small value to avoid division by zero\n",
    "epsilon = 1e-10\n",
    "P += epsilon\n",
    "Q += epsilon\n",
    "\n",
    "# Normalize to make valid probability distributions\n",
    "P /= P.sum()\n",
    "Q /= Q.sum()\n",
    "\n",
    "# Compute KL divergence\n",
    "kl_divergence = entropy(P, Q)  # D_KL(P || Q)\n",
    "print(f\"KL Divergence (ctrl || cask): {kl_divergence}\")\n",
    "kl_divergence = entropy(Q, P)  # D_KL(P || Q)\n",
    "print(f\"KL Divergence (cask || ctrl): {kl_divergence}\")\n"
   ]
  },
  {
   "cell_type": "markdown",
   "metadata": {},
   "source": [
    "#### 3D Visualization"
   ]
  },
  {
   "cell_type": "code",
   "execution_count": 10,
   "metadata": {},
   "outputs": [
    {
     "data": {
      "application/vnd.plotly.v1+json": {
       "config": {
        "plotlyServerURL": "https://plot.ly"
       },
       "data": [
        {
         "marker": {
          "color": "blue",
          "opacity": 0.7,
          "size": 5
         },
         "mode": "markers",
         "name": "Control Group",
         "type": "scatter3d",
         "x": [
          67.64705882352942,
          39.50617283950617,
          41.891891891891895,
          46.15384615384615,
          46.73913043478261,
          56.36363636363636,
          50,
          54.166666666666664,
          63.1578947368421,
          58.06451612903226,
          55.072463768115945,
          65.85365853658537,
          57.99999999999999,
          44.26229508196721,
          37.5,
          47.94520547945205,
          56.97674418604651,
          55.26315789473685,
          63.013698630136986,
          56.060606060606055,
          59,
          45.45454545454545,
          64.36781609195403,
          65,
          62.616822429906534,
          54.621848739495796,
          62.5
         ],
         "y": [
          51.85185185185185,
          49.152542372881356,
          36.11111111111111,
          45,
          62.745098039215684,
          54.41176470588235,
          38.775510204081634,
          63.41463414634146,
          45.94594594594595,
          50,
          69.04761904761905,
          54.054054054054056,
          59.09090909090909,
          48,
          16.666666666666664,
          43.58974358974359,
          58.333333333333336,
          53.191489361702125,
          45.76271186440678,
          50,
          58.490566037735846,
          50,
          62.19512195121951,
          63.013698630136986,
          59.55056179775281,
          66.66666666666666,
          73
         ],
         "z": [
          22.22222222222222,
          51.28205128205128,
          30,
          56.00000000000001,
          54.83870967741935,
          60.86956521739131,
          48.38709677419355,
          55.55555555555556,
          21.052631578947366,
          71.42857142857143,
          70,
          54.166666666666664,
          52.63157894736842,
          40.909090909090914,
          25,
          48.38709677419355,
          63.33333333333333,
          42.857142857142854,
          54.761904761904766,
          50,
          66.66666666666666,
          62.5,
          61.29032258064516,
          75,
          60.86956521739131,
          66.66666666666666,
          65.21739130434783
         ]
        },
        {
         "marker": {
          "color": "red",
          "opacity": 0.7,
          "size": 5
         },
         "mode": "markers",
         "name": "Cask Group",
         "type": "scatter3d",
         "x": [
          56.25,
          40,
          23.076923076923077,
          39.39393939393939,
          53.57142857142857,
          51.92307692307693,
          41.66666666666667,
          62.22222222222222,
          63.888888888888886,
          50,
          25,
          46.34146341463415,
          31.818181818181817,
          44.44444444444444,
          39.285714285714285,
          58.69565217391305,
          54.166666666666664,
          53.75,
          51.35135135135135,
          57.14285714285714,
          58.82352941176471,
          52.892561983471076,
          59.45945945945946,
          51.61290322580645
         ],
         "y": [
          38.46153846153847,
          41.66666666666667,
          53.84615384615385,
          57.14285714285714,
          50,
          50.943396226415096,
          38.23529411764706,
          63.1578947368421,
          66.66666666666666,
          58.82352941176471,
          16.666666666666664,
          55.172413793103445,
          29.166666666666668,
          53.333333333333336,
          47.540983606557376,
          51.64835164835166,
          39.53488372093023,
          42.66666666666667,
          34.92063492063492,
          47.05882352941176,
          37.096774193548384,
          51.68539325842697,
          48.214285714285715,
          55.769230769230774
         ],
         "z": [
          58.333333333333336,
          58.82352941176471,
          42.857142857142854,
          41.66666666666667,
          50,
          68.75,
          44,
          66.66666666666666,
          61.904761904761905,
          0,
          28.57142857142857,
          65,
          42.857142857142854,
          54.166666666666664,
          24.137931034482758,
          50,
          27.586206896551722,
          44.230769230769226,
          34.146341463414636,
          57.692307692307686,
          48.57142857142857,
          51.11111111111111,
          59.09090909090909,
          50
         ]
        }
       ],
       "layout": {
        "height": 600,
        "margin": {
         "b": 10,
         "l": 10,
         "r": 10,
         "t": 30
        },
        "scene": {
         "xaxis": {
          "backgroundcolor": "rgba(211,211,211)",
          "title": {
           "text": "Feature 1"
          }
         },
         "yaxis": {
          "backgroundcolor": "rgba(211,211,211)",
          "title": {
           "text": "Feature 2"
          }
         },
         "zaxis": {
          "backgroundcolor": "rgba(211,211,211)",
          "title": {
           "text": "Feature 3"
          }
         }
        },
        "template": {
         "data": {
          "bar": [
           {
            "error_x": {
             "color": "#2a3f5f"
            },
            "error_y": {
             "color": "#2a3f5f"
            },
            "marker": {
             "line": {
              "color": "#E5ECF6",
              "width": 0.5
             },
             "pattern": {
              "fillmode": "overlay",
              "size": 10,
              "solidity": 0.2
             }
            },
            "type": "bar"
           }
          ],
          "barpolar": [
           {
            "marker": {
             "line": {
              "color": "#E5ECF6",
              "width": 0.5
             },
             "pattern": {
              "fillmode": "overlay",
              "size": 10,
              "solidity": 0.2
             }
            },
            "type": "barpolar"
           }
          ],
          "carpet": [
           {
            "aaxis": {
             "endlinecolor": "#2a3f5f",
             "gridcolor": "white",
             "linecolor": "white",
             "minorgridcolor": "white",
             "startlinecolor": "#2a3f5f"
            },
            "baxis": {
             "endlinecolor": "#2a3f5f",
             "gridcolor": "white",
             "linecolor": "white",
             "minorgridcolor": "white",
             "startlinecolor": "#2a3f5f"
            },
            "type": "carpet"
           }
          ],
          "choropleth": [
           {
            "colorbar": {
             "outlinewidth": 0,
             "ticks": ""
            },
            "type": "choropleth"
           }
          ],
          "contour": [
           {
            "colorbar": {
             "outlinewidth": 0,
             "ticks": ""
            },
            "colorscale": [
             [
              0,
              "#0d0887"
             ],
             [
              0.1111111111111111,
              "#46039f"
             ],
             [
              0.2222222222222222,
              "#7201a8"
             ],
             [
              0.3333333333333333,
              "#9c179e"
             ],
             [
              0.4444444444444444,
              "#bd3786"
             ],
             [
              0.5555555555555556,
              "#d8576b"
             ],
             [
              0.6666666666666666,
              "#ed7953"
             ],
             [
              0.7777777777777778,
              "#fb9f3a"
             ],
             [
              0.8888888888888888,
              "#fdca26"
             ],
             [
              1,
              "#f0f921"
             ]
            ],
            "type": "contour"
           }
          ],
          "contourcarpet": [
           {
            "colorbar": {
             "outlinewidth": 0,
             "ticks": ""
            },
            "type": "contourcarpet"
           }
          ],
          "heatmap": [
           {
            "colorbar": {
             "outlinewidth": 0,
             "ticks": ""
            },
            "colorscale": [
             [
              0,
              "#0d0887"
             ],
             [
              0.1111111111111111,
              "#46039f"
             ],
             [
              0.2222222222222222,
              "#7201a8"
             ],
             [
              0.3333333333333333,
              "#9c179e"
             ],
             [
              0.4444444444444444,
              "#bd3786"
             ],
             [
              0.5555555555555556,
              "#d8576b"
             ],
             [
              0.6666666666666666,
              "#ed7953"
             ],
             [
              0.7777777777777778,
              "#fb9f3a"
             ],
             [
              0.8888888888888888,
              "#fdca26"
             ],
             [
              1,
              "#f0f921"
             ]
            ],
            "type": "heatmap"
           }
          ],
          "heatmapgl": [
           {
            "colorbar": {
             "outlinewidth": 0,
             "ticks": ""
            },
            "colorscale": [
             [
              0,
              "#0d0887"
             ],
             [
              0.1111111111111111,
              "#46039f"
             ],
             [
              0.2222222222222222,
              "#7201a8"
             ],
             [
              0.3333333333333333,
              "#9c179e"
             ],
             [
              0.4444444444444444,
              "#bd3786"
             ],
             [
              0.5555555555555556,
              "#d8576b"
             ],
             [
              0.6666666666666666,
              "#ed7953"
             ],
             [
              0.7777777777777778,
              "#fb9f3a"
             ],
             [
              0.8888888888888888,
              "#fdca26"
             ],
             [
              1,
              "#f0f921"
             ]
            ],
            "type": "heatmapgl"
           }
          ],
          "histogram": [
           {
            "marker": {
             "pattern": {
              "fillmode": "overlay",
              "size": 10,
              "solidity": 0.2
             }
            },
            "type": "histogram"
           }
          ],
          "histogram2d": [
           {
            "colorbar": {
             "outlinewidth": 0,
             "ticks": ""
            },
            "colorscale": [
             [
              0,
              "#0d0887"
             ],
             [
              0.1111111111111111,
              "#46039f"
             ],
             [
              0.2222222222222222,
              "#7201a8"
             ],
             [
              0.3333333333333333,
              "#9c179e"
             ],
             [
              0.4444444444444444,
              "#bd3786"
             ],
             [
              0.5555555555555556,
              "#d8576b"
             ],
             [
              0.6666666666666666,
              "#ed7953"
             ],
             [
              0.7777777777777778,
              "#fb9f3a"
             ],
             [
              0.8888888888888888,
              "#fdca26"
             ],
             [
              1,
              "#f0f921"
             ]
            ],
            "type": "histogram2d"
           }
          ],
          "histogram2dcontour": [
           {
            "colorbar": {
             "outlinewidth": 0,
             "ticks": ""
            },
            "colorscale": [
             [
              0,
              "#0d0887"
             ],
             [
              0.1111111111111111,
              "#46039f"
             ],
             [
              0.2222222222222222,
              "#7201a8"
             ],
             [
              0.3333333333333333,
              "#9c179e"
             ],
             [
              0.4444444444444444,
              "#bd3786"
             ],
             [
              0.5555555555555556,
              "#d8576b"
             ],
             [
              0.6666666666666666,
              "#ed7953"
             ],
             [
              0.7777777777777778,
              "#fb9f3a"
             ],
             [
              0.8888888888888888,
              "#fdca26"
             ],
             [
              1,
              "#f0f921"
             ]
            ],
            "type": "histogram2dcontour"
           }
          ],
          "mesh3d": [
           {
            "colorbar": {
             "outlinewidth": 0,
             "ticks": ""
            },
            "type": "mesh3d"
           }
          ],
          "parcoords": [
           {
            "line": {
             "colorbar": {
              "outlinewidth": 0,
              "ticks": ""
             }
            },
            "type": "parcoords"
           }
          ],
          "pie": [
           {
            "automargin": true,
            "type": "pie"
           }
          ],
          "scatter": [
           {
            "fillpattern": {
             "fillmode": "overlay",
             "size": 10,
             "solidity": 0.2
            },
            "type": "scatter"
           }
          ],
          "scatter3d": [
           {
            "line": {
             "colorbar": {
              "outlinewidth": 0,
              "ticks": ""
             }
            },
            "marker": {
             "colorbar": {
              "outlinewidth": 0,
              "ticks": ""
             }
            },
            "type": "scatter3d"
           }
          ],
          "scattercarpet": [
           {
            "marker": {
             "colorbar": {
              "outlinewidth": 0,
              "ticks": ""
             }
            },
            "type": "scattercarpet"
           }
          ],
          "scattergeo": [
           {
            "marker": {
             "colorbar": {
              "outlinewidth": 0,
              "ticks": ""
             }
            },
            "type": "scattergeo"
           }
          ],
          "scattergl": [
           {
            "marker": {
             "colorbar": {
              "outlinewidth": 0,
              "ticks": ""
             }
            },
            "type": "scattergl"
           }
          ],
          "scattermapbox": [
           {
            "marker": {
             "colorbar": {
              "outlinewidth": 0,
              "ticks": ""
             }
            },
            "type": "scattermapbox"
           }
          ],
          "scatterpolar": [
           {
            "marker": {
             "colorbar": {
              "outlinewidth": 0,
              "ticks": ""
             }
            },
            "type": "scatterpolar"
           }
          ],
          "scatterpolargl": [
           {
            "marker": {
             "colorbar": {
              "outlinewidth": 0,
              "ticks": ""
             }
            },
            "type": "scatterpolargl"
           }
          ],
          "scatterternary": [
           {
            "marker": {
             "colorbar": {
              "outlinewidth": 0,
              "ticks": ""
             }
            },
            "type": "scatterternary"
           }
          ],
          "surface": [
           {
            "colorbar": {
             "outlinewidth": 0,
             "ticks": ""
            },
            "colorscale": [
             [
              0,
              "#0d0887"
             ],
             [
              0.1111111111111111,
              "#46039f"
             ],
             [
              0.2222222222222222,
              "#7201a8"
             ],
             [
              0.3333333333333333,
              "#9c179e"
             ],
             [
              0.4444444444444444,
              "#bd3786"
             ],
             [
              0.5555555555555556,
              "#d8576b"
             ],
             [
              0.6666666666666666,
              "#ed7953"
             ],
             [
              0.7777777777777778,
              "#fb9f3a"
             ],
             [
              0.8888888888888888,
              "#fdca26"
             ],
             [
              1,
              "#f0f921"
             ]
            ],
            "type": "surface"
           }
          ],
          "table": [
           {
            "cells": {
             "fill": {
              "color": "#EBF0F8"
             },
             "line": {
              "color": "white"
             }
            },
            "header": {
             "fill": {
              "color": "#C8D4E3"
             },
             "line": {
              "color": "white"
             }
            },
            "type": "table"
           }
          ]
         },
         "layout": {
          "annotationdefaults": {
           "arrowcolor": "#2a3f5f",
           "arrowhead": 0,
           "arrowwidth": 1
          },
          "autotypenumbers": "strict",
          "coloraxis": {
           "colorbar": {
            "outlinewidth": 0,
            "ticks": ""
           }
          },
          "colorscale": {
           "diverging": [
            [
             0,
             "#8e0152"
            ],
            [
             0.1,
             "#c51b7d"
            ],
            [
             0.2,
             "#de77ae"
            ],
            [
             0.3,
             "#f1b6da"
            ],
            [
             0.4,
             "#fde0ef"
            ],
            [
             0.5,
             "#f7f7f7"
            ],
            [
             0.6,
             "#e6f5d0"
            ],
            [
             0.7,
             "#b8e186"
            ],
            [
             0.8,
             "#7fbc41"
            ],
            [
             0.9,
             "#4d9221"
            ],
            [
             1,
             "#276419"
            ]
           ],
           "sequential": [
            [
             0,
             "#0d0887"
            ],
            [
             0.1111111111111111,
             "#46039f"
            ],
            [
             0.2222222222222222,
             "#7201a8"
            ],
            [
             0.3333333333333333,
             "#9c179e"
            ],
            [
             0.4444444444444444,
             "#bd3786"
            ],
            [
             0.5555555555555556,
             "#d8576b"
            ],
            [
             0.6666666666666666,
             "#ed7953"
            ],
            [
             0.7777777777777778,
             "#fb9f3a"
            ],
            [
             0.8888888888888888,
             "#fdca26"
            ],
            [
             1,
             "#f0f921"
            ]
           ],
           "sequentialminus": [
            [
             0,
             "#0d0887"
            ],
            [
             0.1111111111111111,
             "#46039f"
            ],
            [
             0.2222222222222222,
             "#7201a8"
            ],
            [
             0.3333333333333333,
             "#9c179e"
            ],
            [
             0.4444444444444444,
             "#bd3786"
            ],
            [
             0.5555555555555556,
             "#d8576b"
            ],
            [
             0.6666666666666666,
             "#ed7953"
            ],
            [
             0.7777777777777778,
             "#fb9f3a"
            ],
            [
             0.8888888888888888,
             "#fdca26"
            ],
            [
             1,
             "#f0f921"
            ]
           ]
          },
          "colorway": [
           "#636efa",
           "#EF553B",
           "#00cc96",
           "#ab63fa",
           "#FFA15A",
           "#19d3f3",
           "#FF6692",
           "#B6E880",
           "#FF97FF",
           "#FECB52"
          ],
          "font": {
           "color": "#2a3f5f"
          },
          "geo": {
           "bgcolor": "white",
           "lakecolor": "white",
           "landcolor": "#E5ECF6",
           "showlakes": true,
           "showland": true,
           "subunitcolor": "white"
          },
          "hoverlabel": {
           "align": "left"
          },
          "hovermode": "closest",
          "mapbox": {
           "style": "light"
          },
          "paper_bgcolor": "white",
          "plot_bgcolor": "#E5ECF6",
          "polar": {
           "angularaxis": {
            "gridcolor": "white",
            "linecolor": "white",
            "ticks": ""
           },
           "bgcolor": "#E5ECF6",
           "radialaxis": {
            "gridcolor": "white",
            "linecolor": "white",
            "ticks": ""
           }
          },
          "scene": {
           "xaxis": {
            "backgroundcolor": "#E5ECF6",
            "gridcolor": "white",
            "gridwidth": 2,
            "linecolor": "white",
            "showbackground": true,
            "ticks": "",
            "zerolinecolor": "white"
           },
           "yaxis": {
            "backgroundcolor": "#E5ECF6",
            "gridcolor": "white",
            "gridwidth": 2,
            "linecolor": "white",
            "showbackground": true,
            "ticks": "",
            "zerolinecolor": "white"
           },
           "zaxis": {
            "backgroundcolor": "#E5ECF6",
            "gridcolor": "white",
            "gridwidth": 2,
            "linecolor": "white",
            "showbackground": true,
            "ticks": "",
            "zerolinecolor": "white"
           }
          },
          "shapedefaults": {
           "line": {
            "color": "#2a3f5f"
           }
          },
          "ternary": {
           "aaxis": {
            "gridcolor": "white",
            "linecolor": "white",
            "ticks": ""
           },
           "baxis": {
            "gridcolor": "white",
            "linecolor": "white",
            "ticks": ""
           },
           "bgcolor": "#E5ECF6",
           "caxis": {
            "gridcolor": "white",
            "linecolor": "white",
            "ticks": ""
           }
          },
          "title": {
           "x": 0.05
          },
          "xaxis": {
           "automargin": true,
           "gridcolor": "white",
           "linecolor": "white",
           "ticks": "",
           "title": {
            "standoff": 15
           },
           "zerolinecolor": "white",
           "zerolinewidth": 2
          },
          "yaxis": {
           "automargin": true,
           "gridcolor": "white",
           "linecolor": "white",
           "ticks": "",
           "title": {
            "standoff": 15
           },
           "zerolinecolor": "white",
           "zerolinewidth": 2
          }
         }
        },
        "title": {
         "text": "3D Visualization of Control and Cask Groups (Unnormalized)"
        },
        "width": 800
       }
      }
     },
     "metadata": {},
     "output_type": "display_data"
    }
   ],
   "source": [
    "import matplotlib.pyplot as plt\n",
    "import plotly.graph_objects as go\n",
    "\n",
    "# Create the figure\n",
    "fig = go.Figure()\n",
    "\n",
    "# Add control group points\n",
    "fig.add_trace(go.Scatter3d(\n",
    "    x=ctrl_data[:, 0],\n",
    "    y=ctrl_data[:, 1],\n",
    "    z=ctrl_data[:, 2],\n",
    "    mode='markers',\n",
    "    marker=dict(size=5, color='blue', opacity=0.7),\n",
    "    name='Control Group'\n",
    "))\n",
    "\n",
    "# Add cask group points\n",
    "fig.add_trace(go.Scatter3d(\n",
    "    x=cask_data[:, 0],\n",
    "    y=cask_data[:, 1],\n",
    "    z=cask_data[:, 2],\n",
    "    mode='markers',\n",
    "    marker=dict(size=5, color='red', opacity=0.7),\n",
    "    name='Cask Group'\n",
    "))\n",
    "\n",
    "# Customize layout\n",
    "fig.update_layout(\n",
    "    title=\"3D Visualization of Control and Cask Groups (Unnormalized)\",\n",
    "    scene=dict(\n",
    "        xaxis=dict(title='Feature 1', backgroundcolor='rgba(211,211,211)'),\n",
    "        yaxis=dict(title='Feature 2', backgroundcolor='rgba(211,211,211)'),\n",
    "        zaxis=dict(title='Feature 3', backgroundcolor='rgba(211,211,211)')\n",
    "    ),\n",
    "    margin=dict(l=10, r=10, t=30, b=10),  # Reduce whitespace\n",
    "    width=800,  # Adjust width of the plot\n",
    "    height=600  # Adjust height of the plot\n",
    ")\n",
    "\n",
    "# Show the plot (interactive in Jupyter)\n",
    "fig.show()"
   ]
  },
  {
   "cell_type": "code",
   "execution_count": 11,
   "metadata": {},
   "outputs": [
    {
     "data": {
      "application/vnd.plotly.v1+json": {
       "config": {
        "plotlyServerURL": "https://plot.ly"
       },
       "data": [
        {
         "marker": {
          "color": "blue",
          "opacity": 0.7,
          "size": 5
         },
         "mode": "markers",
         "name": "Control Group",
         "type": "scatter3d",
         "x": [
          1.5682190881386233,
          -1.2241162407613126,
          -0.9873885272632914,
          -0.5644876469368116,
          -0.5064116511761761,
          0.44859907391624587,
          -0.18284538908120765,
          0.23060039026236312,
          1.1227728614774373,
          0.6173722483579626,
          0.32047990751096606,
          1.3902653811040873,
          0.6109705072584479,
          -0.7521805606362894,
          -1.4231827271119206,
          -0.38673645834653086,
          0.5094359158661669,
          0.3394019111422512,
          1.1084647162658359,
          0.418530289963986,
          0.7101974943009057,
          -0.6338771483651034,
          1.2428297121035201,
          1.305559416555648,
          1.0690838866881094,
          0.2757667359049381,
          1.0574919489495054
         ],
         "y": [
          0.1469989224694624,
          -0.08570237628077775,
          -1.2099743487310681,
          -0.4436835602884152,
          1.0860807710511444,
          0.3676831568861576,
          -0.9802825945422623,
          1.1437999480859213,
          -0.3621357230048217,
          -0.012644991789423196,
          1.6294066977305468,
          0.33684573942597595,
          0.7710614963905625,
          -0.18506041918902003,
          -2.88623544844937,
          -0.5652585411471052,
          0.7057526223755637,
          0.26248600938014593,
          -0.3779319142461959,
          -0.012644991789423196,
          0.7193072943409403,
          -0.012644991789423196,
          1.0386685899154355,
          1.1092362138928848,
          0.8106871053434833,
          1.4241502365405494,
          1.97013242330594
         ],
         "z": [
          -1.8411779598072855,
          0.06872104753932265,
          -1.3299991078409872,
          0.37879876873206686,
          0.3024752903739646,
          0.6988411803979231,
          -0.12154403383771087,
          0.3495885486197066,
          -1.9180469601029695,
          1.3928106954897028,
          1.298920702271403,
          0.2583066107685817,
          0.15741604788049648,
          -0.613020977810335,
          -1.658614084105036,
          -0.12154403383771087,
          0.8607674005860043,
          -0.48498916887629057,
          0.297427441276207,
          -0.015539202784792122,
          1.079844051428703,
          0.8059982378753299,
          0.7264946145856406,
          1.6275356785354518,
          0.6988411803979231,
          1.079844051428703,
          0.9845933336710087
         ]
        },
        {
         "marker": {
          "color": "red",
          "opacity": 0.7,
          "size": 5
         },
         "mode": "markers",
         "name": "Cask Group",
         "type": "scatter3d",
         "x": [
          0.4373232799341488,
          -1.175115259505778,
          -2.8543411940704355,
          -1.2352528274102976,
          0.17153670749899586,
          0.007975739846594731,
          -1.009736947768349,
          1.0299288969932672,
          1.1953072087306953,
          -0.18284538908120765,
          -2.6635200651426336,
          -0.54587095143166,
          -1.9869724262167903,
          -0.7341064282059692,
          -1.2459916788218188,
          0.6799979765053756,
          0.23060039026236312,
          0.18925581232800626,
          -0.0487548660508607,
          0.5259188040791993,
          0.6926868495287078,
          0.10417482137218062,
          0.7557882721312238,
          -0.02280186159337403
         ],
         "y": [
          -1.0073493806332505,
          -0.7310426059544095,
          0.3189231378251861,
          0.6031243917805651,
          -0.012644991789423196,
          0.06868304000283962,
          -1.0268533882576398,
          1.1216670305763452,
          1.4241502365405494,
          0.7480113055617396,
          -2.88623544844937,
          0.4332569756233269,
          -1.80863902720189,
          0.2747140538765717,
          -0.2246311730184358,
          0.1294556351882672,
          -0.9148187398105694,
          -0.6448348922546111,
          -1.312602579326066,
          -0.26619709090647764,
          -1.1250025879158545,
          0.13264890770461937,
          -0.16658733768192027,
          0.48470720263249106
         ],
         "z": [
          0.532152424321956,
          0.5643695788576472,
          -0.48498916887629057,
          -0.5632308298915398,
          -0.015539202784792122,
          1.2167669582053908,
          -0.40987717430165066,
          1.079844051428703,
          0.766877407367705,
          -3.30168896542528,
          -1.4238891010592871,
          0.9703057260073542,
          -0.48498916887629057,
          0.2583066107685817,
          -1.7152718386333203,
          -0.015539202784792122,
          -1.4886408205201833,
          -0.39471032924331023,
          -1.057489127524459,
          0.4900222991598979,
          -0.10942919600309191,
          0.05748634749610735,
          0.5819425722407513,
          -0.015539202784792122
         ]
        }
       ],
       "layout": {
        "height": 600,
        "margin": {
         "b": 10,
         "l": 10,
         "r": 10,
         "t": 30
        },
        "scene": {
         "xaxis": {
          "backgroundcolor": "rgba(211,211,211)",
          "title": {
           "text": "Feature 1"
          }
         },
         "yaxis": {
          "backgroundcolor": "rgba(211,211,211)",
          "title": {
           "text": "Feature 2"
          }
         },
         "zaxis": {
          "backgroundcolor": "rgba(211,211,211)",
          "title": {
           "text": "Feature 3"
          }
         }
        },
        "template": {
         "data": {
          "bar": [
           {
            "error_x": {
             "color": "#2a3f5f"
            },
            "error_y": {
             "color": "#2a3f5f"
            },
            "marker": {
             "line": {
              "color": "#E5ECF6",
              "width": 0.5
             },
             "pattern": {
              "fillmode": "overlay",
              "size": 10,
              "solidity": 0.2
             }
            },
            "type": "bar"
           }
          ],
          "barpolar": [
           {
            "marker": {
             "line": {
              "color": "#E5ECF6",
              "width": 0.5
             },
             "pattern": {
              "fillmode": "overlay",
              "size": 10,
              "solidity": 0.2
             }
            },
            "type": "barpolar"
           }
          ],
          "carpet": [
           {
            "aaxis": {
             "endlinecolor": "#2a3f5f",
             "gridcolor": "white",
             "linecolor": "white",
             "minorgridcolor": "white",
             "startlinecolor": "#2a3f5f"
            },
            "baxis": {
             "endlinecolor": "#2a3f5f",
             "gridcolor": "white",
             "linecolor": "white",
             "minorgridcolor": "white",
             "startlinecolor": "#2a3f5f"
            },
            "type": "carpet"
           }
          ],
          "choropleth": [
           {
            "colorbar": {
             "outlinewidth": 0,
             "ticks": ""
            },
            "type": "choropleth"
           }
          ],
          "contour": [
           {
            "colorbar": {
             "outlinewidth": 0,
             "ticks": ""
            },
            "colorscale": [
             [
              0,
              "#0d0887"
             ],
             [
              0.1111111111111111,
              "#46039f"
             ],
             [
              0.2222222222222222,
              "#7201a8"
             ],
             [
              0.3333333333333333,
              "#9c179e"
             ],
             [
              0.4444444444444444,
              "#bd3786"
             ],
             [
              0.5555555555555556,
              "#d8576b"
             ],
             [
              0.6666666666666666,
              "#ed7953"
             ],
             [
              0.7777777777777778,
              "#fb9f3a"
             ],
             [
              0.8888888888888888,
              "#fdca26"
             ],
             [
              1,
              "#f0f921"
             ]
            ],
            "type": "contour"
           }
          ],
          "contourcarpet": [
           {
            "colorbar": {
             "outlinewidth": 0,
             "ticks": ""
            },
            "type": "contourcarpet"
           }
          ],
          "heatmap": [
           {
            "colorbar": {
             "outlinewidth": 0,
             "ticks": ""
            },
            "colorscale": [
             [
              0,
              "#0d0887"
             ],
             [
              0.1111111111111111,
              "#46039f"
             ],
             [
              0.2222222222222222,
              "#7201a8"
             ],
             [
              0.3333333333333333,
              "#9c179e"
             ],
             [
              0.4444444444444444,
              "#bd3786"
             ],
             [
              0.5555555555555556,
              "#d8576b"
             ],
             [
              0.6666666666666666,
              "#ed7953"
             ],
             [
              0.7777777777777778,
              "#fb9f3a"
             ],
             [
              0.8888888888888888,
              "#fdca26"
             ],
             [
              1,
              "#f0f921"
             ]
            ],
            "type": "heatmap"
           }
          ],
          "heatmapgl": [
           {
            "colorbar": {
             "outlinewidth": 0,
             "ticks": ""
            },
            "colorscale": [
             [
              0,
              "#0d0887"
             ],
             [
              0.1111111111111111,
              "#46039f"
             ],
             [
              0.2222222222222222,
              "#7201a8"
             ],
             [
              0.3333333333333333,
              "#9c179e"
             ],
             [
              0.4444444444444444,
              "#bd3786"
             ],
             [
              0.5555555555555556,
              "#d8576b"
             ],
             [
              0.6666666666666666,
              "#ed7953"
             ],
             [
              0.7777777777777778,
              "#fb9f3a"
             ],
             [
              0.8888888888888888,
              "#fdca26"
             ],
             [
              1,
              "#f0f921"
             ]
            ],
            "type": "heatmapgl"
           }
          ],
          "histogram": [
           {
            "marker": {
             "pattern": {
              "fillmode": "overlay",
              "size": 10,
              "solidity": 0.2
             }
            },
            "type": "histogram"
           }
          ],
          "histogram2d": [
           {
            "colorbar": {
             "outlinewidth": 0,
             "ticks": ""
            },
            "colorscale": [
             [
              0,
              "#0d0887"
             ],
             [
              0.1111111111111111,
              "#46039f"
             ],
             [
              0.2222222222222222,
              "#7201a8"
             ],
             [
              0.3333333333333333,
              "#9c179e"
             ],
             [
              0.4444444444444444,
              "#bd3786"
             ],
             [
              0.5555555555555556,
              "#d8576b"
             ],
             [
              0.6666666666666666,
              "#ed7953"
             ],
             [
              0.7777777777777778,
              "#fb9f3a"
             ],
             [
              0.8888888888888888,
              "#fdca26"
             ],
             [
              1,
              "#f0f921"
             ]
            ],
            "type": "histogram2d"
           }
          ],
          "histogram2dcontour": [
           {
            "colorbar": {
             "outlinewidth": 0,
             "ticks": ""
            },
            "colorscale": [
             [
              0,
              "#0d0887"
             ],
             [
              0.1111111111111111,
              "#46039f"
             ],
             [
              0.2222222222222222,
              "#7201a8"
             ],
             [
              0.3333333333333333,
              "#9c179e"
             ],
             [
              0.4444444444444444,
              "#bd3786"
             ],
             [
              0.5555555555555556,
              "#d8576b"
             ],
             [
              0.6666666666666666,
              "#ed7953"
             ],
             [
              0.7777777777777778,
              "#fb9f3a"
             ],
             [
              0.8888888888888888,
              "#fdca26"
             ],
             [
              1,
              "#f0f921"
             ]
            ],
            "type": "histogram2dcontour"
           }
          ],
          "mesh3d": [
           {
            "colorbar": {
             "outlinewidth": 0,
             "ticks": ""
            },
            "type": "mesh3d"
           }
          ],
          "parcoords": [
           {
            "line": {
             "colorbar": {
              "outlinewidth": 0,
              "ticks": ""
             }
            },
            "type": "parcoords"
           }
          ],
          "pie": [
           {
            "automargin": true,
            "type": "pie"
           }
          ],
          "scatter": [
           {
            "fillpattern": {
             "fillmode": "overlay",
             "size": 10,
             "solidity": 0.2
            },
            "type": "scatter"
           }
          ],
          "scatter3d": [
           {
            "line": {
             "colorbar": {
              "outlinewidth": 0,
              "ticks": ""
             }
            },
            "marker": {
             "colorbar": {
              "outlinewidth": 0,
              "ticks": ""
             }
            },
            "type": "scatter3d"
           }
          ],
          "scattercarpet": [
           {
            "marker": {
             "colorbar": {
              "outlinewidth": 0,
              "ticks": ""
             }
            },
            "type": "scattercarpet"
           }
          ],
          "scattergeo": [
           {
            "marker": {
             "colorbar": {
              "outlinewidth": 0,
              "ticks": ""
             }
            },
            "type": "scattergeo"
           }
          ],
          "scattergl": [
           {
            "marker": {
             "colorbar": {
              "outlinewidth": 0,
              "ticks": ""
             }
            },
            "type": "scattergl"
           }
          ],
          "scattermapbox": [
           {
            "marker": {
             "colorbar": {
              "outlinewidth": 0,
              "ticks": ""
             }
            },
            "type": "scattermapbox"
           }
          ],
          "scatterpolar": [
           {
            "marker": {
             "colorbar": {
              "outlinewidth": 0,
              "ticks": ""
             }
            },
            "type": "scatterpolar"
           }
          ],
          "scatterpolargl": [
           {
            "marker": {
             "colorbar": {
              "outlinewidth": 0,
              "ticks": ""
             }
            },
            "type": "scatterpolargl"
           }
          ],
          "scatterternary": [
           {
            "marker": {
             "colorbar": {
              "outlinewidth": 0,
              "ticks": ""
             }
            },
            "type": "scatterternary"
           }
          ],
          "surface": [
           {
            "colorbar": {
             "outlinewidth": 0,
             "ticks": ""
            },
            "colorscale": [
             [
              0,
              "#0d0887"
             ],
             [
              0.1111111111111111,
              "#46039f"
             ],
             [
              0.2222222222222222,
              "#7201a8"
             ],
             [
              0.3333333333333333,
              "#9c179e"
             ],
             [
              0.4444444444444444,
              "#bd3786"
             ],
             [
              0.5555555555555556,
              "#d8576b"
             ],
             [
              0.6666666666666666,
              "#ed7953"
             ],
             [
              0.7777777777777778,
              "#fb9f3a"
             ],
             [
              0.8888888888888888,
              "#fdca26"
             ],
             [
              1,
              "#f0f921"
             ]
            ],
            "type": "surface"
           }
          ],
          "table": [
           {
            "cells": {
             "fill": {
              "color": "#EBF0F8"
             },
             "line": {
              "color": "white"
             }
            },
            "header": {
             "fill": {
              "color": "#C8D4E3"
             },
             "line": {
              "color": "white"
             }
            },
            "type": "table"
           }
          ]
         },
         "layout": {
          "annotationdefaults": {
           "arrowcolor": "#2a3f5f",
           "arrowhead": 0,
           "arrowwidth": 1
          },
          "autotypenumbers": "strict",
          "coloraxis": {
           "colorbar": {
            "outlinewidth": 0,
            "ticks": ""
           }
          },
          "colorscale": {
           "diverging": [
            [
             0,
             "#8e0152"
            ],
            [
             0.1,
             "#c51b7d"
            ],
            [
             0.2,
             "#de77ae"
            ],
            [
             0.3,
             "#f1b6da"
            ],
            [
             0.4,
             "#fde0ef"
            ],
            [
             0.5,
             "#f7f7f7"
            ],
            [
             0.6,
             "#e6f5d0"
            ],
            [
             0.7,
             "#b8e186"
            ],
            [
             0.8,
             "#7fbc41"
            ],
            [
             0.9,
             "#4d9221"
            ],
            [
             1,
             "#276419"
            ]
           ],
           "sequential": [
            [
             0,
             "#0d0887"
            ],
            [
             0.1111111111111111,
             "#46039f"
            ],
            [
             0.2222222222222222,
             "#7201a8"
            ],
            [
             0.3333333333333333,
             "#9c179e"
            ],
            [
             0.4444444444444444,
             "#bd3786"
            ],
            [
             0.5555555555555556,
             "#d8576b"
            ],
            [
             0.6666666666666666,
             "#ed7953"
            ],
            [
             0.7777777777777778,
             "#fb9f3a"
            ],
            [
             0.8888888888888888,
             "#fdca26"
            ],
            [
             1,
             "#f0f921"
            ]
           ],
           "sequentialminus": [
            [
             0,
             "#0d0887"
            ],
            [
             0.1111111111111111,
             "#46039f"
            ],
            [
             0.2222222222222222,
             "#7201a8"
            ],
            [
             0.3333333333333333,
             "#9c179e"
            ],
            [
             0.4444444444444444,
             "#bd3786"
            ],
            [
             0.5555555555555556,
             "#d8576b"
            ],
            [
             0.6666666666666666,
             "#ed7953"
            ],
            [
             0.7777777777777778,
             "#fb9f3a"
            ],
            [
             0.8888888888888888,
             "#fdca26"
            ],
            [
             1,
             "#f0f921"
            ]
           ]
          },
          "colorway": [
           "#636efa",
           "#EF553B",
           "#00cc96",
           "#ab63fa",
           "#FFA15A",
           "#19d3f3",
           "#FF6692",
           "#B6E880",
           "#FF97FF",
           "#FECB52"
          ],
          "font": {
           "color": "#2a3f5f"
          },
          "geo": {
           "bgcolor": "white",
           "lakecolor": "white",
           "landcolor": "#E5ECF6",
           "showlakes": true,
           "showland": true,
           "subunitcolor": "white"
          },
          "hoverlabel": {
           "align": "left"
          },
          "hovermode": "closest",
          "mapbox": {
           "style": "light"
          },
          "paper_bgcolor": "white",
          "plot_bgcolor": "#E5ECF6",
          "polar": {
           "angularaxis": {
            "gridcolor": "white",
            "linecolor": "white",
            "ticks": ""
           },
           "bgcolor": "#E5ECF6",
           "radialaxis": {
            "gridcolor": "white",
            "linecolor": "white",
            "ticks": ""
           }
          },
          "scene": {
           "xaxis": {
            "backgroundcolor": "#E5ECF6",
            "gridcolor": "white",
            "gridwidth": 2,
            "linecolor": "white",
            "showbackground": true,
            "ticks": "",
            "zerolinecolor": "white"
           },
           "yaxis": {
            "backgroundcolor": "#E5ECF6",
            "gridcolor": "white",
            "gridwidth": 2,
            "linecolor": "white",
            "showbackground": true,
            "ticks": "",
            "zerolinecolor": "white"
           },
           "zaxis": {
            "backgroundcolor": "#E5ECF6",
            "gridcolor": "white",
            "gridwidth": 2,
            "linecolor": "white",
            "showbackground": true,
            "ticks": "",
            "zerolinecolor": "white"
           }
          },
          "shapedefaults": {
           "line": {
            "color": "#2a3f5f"
           }
          },
          "ternary": {
           "aaxis": {
            "gridcolor": "white",
            "linecolor": "white",
            "ticks": ""
           },
           "baxis": {
            "gridcolor": "white",
            "linecolor": "white",
            "ticks": ""
           },
           "bgcolor": "#E5ECF6",
           "caxis": {
            "gridcolor": "white",
            "linecolor": "white",
            "ticks": ""
           }
          },
          "title": {
           "x": 0.05
          },
          "xaxis": {
           "automargin": true,
           "gridcolor": "white",
           "linecolor": "white",
           "ticks": "",
           "title": {
            "standoff": 15
           },
           "zerolinecolor": "white",
           "zerolinewidth": 2
          },
          "yaxis": {
           "automargin": true,
           "gridcolor": "white",
           "linecolor": "white",
           "ticks": "",
           "title": {
            "standoff": 15
           },
           "zerolinecolor": "white",
           "zerolinewidth": 2
          }
         }
        },
        "title": {
         "text": "3D Visualization of Control and Cask Groups (Normalized)"
        },
        "width": 800
       }
      }
     },
     "metadata": {},
     "output_type": "display_data"
    }
   ],
   "source": [
    "import matplotlib.pyplot as plt\n",
    "import plotly.graph_objects as go\n",
    "\n",
    "# Create the figure\n",
    "fig = go.Figure()\n",
    "\n",
    "# Add control group points\n",
    "fig.add_trace(go.Scatter3d(\n",
    "    x=ctrl_data_normalized[:, 0],\n",
    "    y=ctrl_data_normalized[:, 1],\n",
    "    z=ctrl_data_normalized[:, 2],\n",
    "    mode='markers',\n",
    "    marker=dict(size=5, color='blue', opacity=0.7),\n",
    "    name='Control Group'\n",
    "))\n",
    "\n",
    "# Add cask group points\n",
    "fig.add_trace(go.Scatter3d(\n",
    "    x=cask_data_normalized[:, 0],\n",
    "    y=cask_data_normalized[:, 1],\n",
    "    z=cask_data_normalized[:, 2],\n",
    "    mode='markers',\n",
    "    marker=dict(size=5, color='red', opacity=0.7),\n",
    "    name='Cask Group'\n",
    "))\n",
    "\n",
    "# Customize layout\n",
    "fig.update_layout(\n",
    "    title=\"3D Visualization of Control and Cask Groups (Normalized)\",\n",
    "    scene=dict(\n",
    "        xaxis=dict(title='Feature 1', backgroundcolor='rgba(211,211,211)'),\n",
    "        yaxis=dict(title='Feature 2', backgroundcolor='rgba(211,211,211)'),\n",
    "        zaxis=dict(title='Feature 3', backgroundcolor='rgba(211,211,211)')\n",
    "    ),\n",
    "    margin=dict(l=10, r=10, t=30, b=10),  # Reduce whitespace\n",
    "    width=800,  # Adjust width of the plot\n",
    "    height=600  # Adjust height of the plot\n",
    ")\n",
    "\n",
    "# Show the plot (interactive in Jupyter)\n",
    "fig.show()"
   ]
  },
  {
   "cell_type": "markdown",
   "metadata": {},
   "source": [
    "#### Logistic Regression"
   ]
  },
  {
   "cell_type": "code",
   "execution_count": 12,
   "metadata": {},
   "outputs": [],
   "source": [
    "X = np.vstack([ctrl_data, cask_data])\n",
    "y = np.hstack([np.zeros(ctrl_data.shape[0]), np.ones(cask_data.shape[0])])"
   ]
  },
  {
   "cell_type": "code",
   "execution_count": 13,
   "metadata": {},
   "outputs": [],
   "source": [
    "from sklearn.model_selection import train_test_split\n",
    "from sklearn.linear_model import LogisticRegression\n",
    "from sklearn.metrics import log_loss, accuracy_score\n"
   ]
  },
  {
   "cell_type": "code",
   "execution_count": 14,
   "metadata": {},
   "outputs": [
    {
     "name": "stdout",
     "output_type": "stream",
     "text": [
      "Log Loss: 0.6771; Train Accuracy: 0.625; Test Accuracy: 0.545\n"
     ]
    }
   ],
   "source": [
    "X_train, X_test, y_train, y_test = train_test_split(X, y, test_size=0.2, random_state=42)\n",
    "\n",
    "# Fit a logistic regression model\n",
    "model = LogisticRegression()\n",
    "model.fit(X_train, y_train)\n",
    "\n",
    "# Predict probabilities on the test set\n",
    "y_pred_proba = model.predict_proba(X_test)\n",
    "\n",
    "# Compute log loss (cross-entropy loss)\n",
    "loss = log_loss(y_test, y_pred_proba)\n",
    "train_acc = accuracy_score(y_true=y_train, y_pred=model.predict(X_train))\n",
    "test_acc = accuracy_score(y_true=y_test, y_pred=model.predict(X_test))\n",
    "print(f\"Log Loss: {loss:.4f}; Train Accuracy: {train_acc:.3f}; Test Accuracy: {test_acc:.3f}\")"
   ]
  },
  {
   "cell_type": "markdown",
   "metadata": {},
   "source": [
    "#### KMeans"
   ]
  },
  {
   "cell_type": "code",
   "execution_count": 15,
   "metadata": {},
   "outputs": [
    {
     "name": "stdout",
     "output_type": "stream",
     "text": [
      "Clustering Accuracy: 0.6078\n"
     ]
    }
   ],
   "source": [
    "kmeans = KMeans(n_clusters=2, random_state=42)\n",
    "y_pred = kmeans.fit_predict(X)\n",
    "\n",
    "# Align predicted labels with true labels (clusters are arbitrarily labeled)\n",
    "if accuracy_score(y, y_pred) < accuracy_score(y, 1 - y_pred):\n",
    "    y_pred = 1 - y_pred\n",
    "\n",
    "# Calculate accuracy\n",
    "accuracy = accuracy_score(y, y_pred)\n",
    "print(f\"Clustering Accuracy: {accuracy:.4f}\")"
   ]
  }
 ],
 "metadata": {
  "kernelspec": {
   "display_name": "yolo",
   "language": "python",
   "name": "python3"
  },
  "language_info": {
   "codemirror_mode": {
    "name": "ipython",
    "version": 3
   },
   "file_extension": ".py",
   "mimetype": "text/x-python",
   "name": "python",
   "nbconvert_exporter": "python",
   "pygments_lexer": "ipython3",
   "version": "3.9.2"
  }
 },
 "nbformat": 4,
 "nbformat_minor": 2
}
