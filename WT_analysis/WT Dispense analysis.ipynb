{
 "cells": [
  {
   "cell_type": "code",
   "execution_count": 31,
   "metadata": {},
   "outputs": [],
   "source": [
    "import sys\n",
    "sys.path.insert(0, '../scripts')\n",
    "\n",
    "import os\n",
    "import json\n",
    "from path import fr1_male_path, fr1_male_sheets, fr1_female_path, fr1_female_sheets, \\\n",
    "                    rev_male_path, rev_male_sheets, rev_female_path, rev_female_sheets\n",
    "\n",
    "dispense_stats = {}"
   ]
  },
  {
   "cell_type": "code",
   "execution_count": 32,
   "metadata": {},
   "outputs": [],
   "source": [
    "import pandas as pd\n",
    "import matplotlib.pyplot as plt\n",
    "from preprocessing import read_excel_by_sheet\n",
    "from tools import get_bhv_num\n",
    "\n",
    "def plot_motor_turn(excel_path, sheet):\n",
    "    data = pd.read_excel(excel_path, sheet_name=sheet)\n",
    "    data = data[(data['Event'] == 'Pellet') & (data['Motor_Turns'] > 1)][['Motor_Turns', 'Pellet_Count']]\n",
    "    exceeding_cnt = int((data['Motor_Turns'] > 15).astype(int).sum())\n",
    "    # group, num = get_bhv_num(sheet)\n",
    "\n",
    "    # plt.figure(figsize=(15, 5))\n",
    "    # plt.bar(data['Pellet_Count'], height=data['Motor_Turns'])\n",
    "    # plt.axhline(y=15, color='r', linestyle='--', linewidth=2)\n",
    "    # plt.title(f'Motor Turns Statistics of Run {group} Mouse {num}', fontsize=20)\n",
    "    # plt.xlabel('Pellet Count', fontsize=16)\n",
    "    # plt.ylabel('Motor Turns', fontsize=16)\n",
    "\n",
    "    # threshold_line = plt.Line2D([0], [0], color='red', linestyle='--', linewidth=2, label=\"Threshold\")\n",
    "    # n_count_text = plt.Line2D([0], [0], color='none', label=f\"Exceeding Cnt: {exceeding_cnt}\")  # Invisible handle\n",
    "\n",
    "    # plt.legend(handles=[threshold_line, n_count_text])\n",
    "    # plt.show()\n",
    "    return exceeding_cnt, round(exceeding_cnt / len(data), 3)"
   ]
  },
  {
   "cell_type": "markdown",
   "metadata": {},
   "source": [
    "### FR1 Male"
   ]
  },
  {
   "cell_type": "code",
   "execution_count": 33,
   "metadata": {},
   "outputs": [],
   "source": [
    "temp_dict = {}\n",
    "for sheet in fr1_male_sheets[:]:\n",
    "    cnt, prop = plot_motor_turn(fr1_male_path, sheet)\n",
    "    temp_dict[sheet] = [cnt, prop]\n",
    "dispense_stats['FR1_male'] = temp_dict"
   ]
  },
  {
   "cell_type": "code",
   "execution_count": 34,
   "metadata": {},
   "outputs": [],
   "source": [
    "temp_dict = {}\n",
    "for sheet in fr1_female_sheets:\n",
    "    cnt, prop = plot_motor_turn(fr1_female_path, sheet)\n",
    "    temp_dict[sheet] = [cnt, prop]\n",
    "dispense_stats['FR1_female'] = temp_dict"
   ]
  },
  {
   "cell_type": "code",
   "execution_count": 35,
   "metadata": {},
   "outputs": [],
   "source": [
    "temp_dict = {}\n",
    "for sheet in rev_male_sheets:\n",
    "    cnt, prop = plot_motor_turn(rev_male_path, sheet)\n",
    "    temp_dict[sheet] = [cnt, prop]\n",
    "dispense_stats['rev_male'] = temp_dict"
   ]
  },
  {
   "cell_type": "code",
   "execution_count": 36,
   "metadata": {},
   "outputs": [],
   "source": [
    "temp_dict = {}\n",
    "for sheet in rev_female_sheets:\n",
    "    cnt, prop = plot_motor_turn(rev_female_path, sheet)\n",
    "    temp_dict[sheet] = [cnt, prop]\n",
    "dispense_stats['rev_female'] = temp_dict"
   ]
  },
  {
   "cell_type": "code",
   "execution_count": 37,
   "metadata": {},
   "outputs": [
    {
     "data": {
      "text/plain": [
       "{'FR1_male': {'R1M2': [0, 0.0],\n",
       "  'R1M3': [14, 0.159],\n",
       "  'R1M4': [0, 0.0],\n",
       "  'R1M6': [0, 0.0],\n",
       "  'R1M7': [2, 0.032],\n",
       "  'R1M8': [0, 0.0],\n",
       "  'R2M1': [0, 0.0],\n",
       "  'R2M10': [0, 0.0],\n",
       "  'R2M11': [1, 0.011],\n",
       "  'R2M12': [30, 0.203],\n",
       "  'R2M2': [0, 0.0],\n",
       "  'R2M3': [0, 0.0],\n",
       "  'R2M4': [0, 0.0],\n",
       "  'R2M5': [0, 0.0],\n",
       "  'R2M6': [11, 0.077],\n",
       "  'R2M7': [1, 0.022],\n",
       "  'R2M8': [0, 0.0],\n",
       "  'R2M9': [14, 0.061]},\n",
       " 'FR1_female': {'R1M1': [34, 0.315],\n",
       "  'R1M2': [0, 0.0],\n",
       "  'R1M3': [23, 0.177],\n",
       "  'R1M4': [0, 0.0],\n",
       "  'R1M5': [0, 0.0],\n",
       "  'R1M6': [0, 0.0],\n",
       "  'R1M7': [16, 0.533],\n",
       "  'R1M8': [0, 0.0],\n",
       "  'R1M9': [2, 0.025],\n",
       "  'R2M1': [0, 0.0],\n",
       "  'R2M2': [12, 0.11],\n",
       "  'R2M3': [0, 0.0],\n",
       "  'R2M4': [14, 0.095],\n",
       "  'R2M5': [0, 0.0],\n",
       "  'R2M6': [0, 0.0]},\n",
       " 'rev_male': {'R1M2': [0, 0.0],\n",
       "  'R1M3': [57, 0.393],\n",
       "  'R1M4': [0, 0.0],\n",
       "  'R1M5': [0, 0.0],\n",
       "  'R1M6': [0, 0.0],\n",
       "  'R1M7': [0, 0.0],\n",
       "  'R1M8': [0, 0.0],\n",
       "  'R1M9': [0, 0.0],\n",
       "  'R2M1': [0, 0.0],\n",
       "  'R2M10': [2, 0.01],\n",
       "  'R2M11': [0, 0.0],\n",
       "  'R2M12': [0, 0.0],\n",
       "  'R2M2': [0, 0.0],\n",
       "  'R2M3': [0, 0.0],\n",
       "  'R2M4': [0, 0.0],\n",
       "  'R2M5': [2, 0.006],\n",
       "  'R2M6': [0, 0.0],\n",
       "  'R2M7': [0, 0.0],\n",
       "  'R2M8': [0, 0.0],\n",
       "  'R2M9': [5, 0.078]},\n",
       " 'rev_female': {'R1M1': [15, 0.106],\n",
       "  'R1M2': [0, 0.0],\n",
       "  'R1M3': [8, 0.163],\n",
       "  'R1M4': [0, 0.0],\n",
       "  'R1M5': [0, 0.0],\n",
       "  'R1M6': [0, 0.0],\n",
       "  'R1M7': [7, 0.041],\n",
       "  'R1M8': [0, 0.0],\n",
       "  'R1M9': [5, 0.027],\n",
       "  'R2M1': [11, 0.05],\n",
       "  'R2M2': [0, 0.0],\n",
       "  'R2M3': [10, 0.046],\n",
       "  'R2M4': [35, 0.081],\n",
       "  'R2M5': [0, 0.0],\n",
       "  'R2M6': [9, 0.051],\n",
       "  'R2M7': [1, 0.008]}}"
      ]
     },
     "execution_count": 37,
     "metadata": {},
     "output_type": "execute_result"
    }
   ],
   "source": [
    "dispense_stats"
   ]
  },
  {
   "cell_type": "code",
   "execution_count": 38,
   "metadata": {},
   "outputs": [],
   "source": [
    "with open('../stats/wt_dispense.json', 'w') as f:\n",
    "    json.dump(dispense_stats, f)"
   ]
  },
  {
   "cell_type": "code",
   "execution_count": 53,
   "metadata": {},
   "outputs": [],
   "source": [
    "import pickle\n",
    "import numpy as np\n",
    "male_acc_dict, female_acc_dict = pickle.load(open('../data/wt_fr1_acc.pkl', 'rb'))\n",
    "male_dispense_stats, female_dispense_stats = dispense_stats['FR1_male'], dispense_stats['FR1_female']"
   ]
  },
  {
   "cell_type": "code",
   "execution_count": 55,
   "metadata": {},
   "outputs": [],
   "source": [
    "male_array = []\n",
    "for key, value in male_acc_dict.items():\n",
    "    temp = [value]\n",
    "    temp.extend(male_dispense_stats[key])\n",
    "    male_array.append(temp)\n",
    "\n",
    "female_array = []\n",
    "for key, value in female_acc_dict.items():\n",
    "    temp = [value]\n",
    "    temp.extend(female_dispense_stats[key])\n",
    "    female_array.append(temp)\n",
    "\n",
    "male_array = np.array(male_array)\n",
    "female_array = np.array(female_array)"
   ]
  },
  {
   "cell_type": "code",
   "execution_count": 58,
   "metadata": {},
   "outputs": [
    {
     "name": "stdout",
     "output_type": "stream",
     "text": [
      "Male Correlation Matrix\n",
      "[[1.         0.15714504 0.05372283]\n",
      " [0.15714504 1.         0.95273684]\n",
      " [0.05372283 0.95273684 1.        ]]\n",
      "Female Correlation Matrix\n",
      "[[ 1.         -0.05965548 -0.17429808]\n",
      " [-0.05965548  1.          0.76136422]\n",
      " [-0.17429808  0.76136422  1.        ]]\n"
     ]
    }
   ],
   "source": [
    "print('Male Correlation Matrix')\n",
    "print(np.corrcoef(male_array, rowvar=False))\n",
    "print('Female Correlation Matrix')\n",
    "print(np.corrcoef(female_array, rowvar=False))"
   ]
  },
  {
   "cell_type": "code",
   "execution_count": null,
   "metadata": {},
   "outputs": [],
   "source": []
  }
 ],
 "metadata": {
  "kernelspec": {
   "display_name": "yolo",
   "language": "python",
   "name": "python3"
  },
  "language_info": {
   "codemirror_mode": {
    "name": "ipython",
    "version": 3
   },
   "file_extension": ".py",
   "mimetype": "text/x-python",
   "name": "python",
   "nbconvert_exporter": "python",
   "pygments_lexer": "ipython3",
   "version": "3.9.2"
  }
 },
 "nbformat": 4,
 "nbformat_minor": 2
}
