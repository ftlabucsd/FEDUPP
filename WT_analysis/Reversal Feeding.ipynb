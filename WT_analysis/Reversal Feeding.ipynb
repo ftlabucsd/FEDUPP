{
 "cells": [
  {
   "cell_type": "markdown",
   "metadata": {},
   "source": [
    "## Pellet and Meal Analysis and Distribution"
   ]
  },
  {
   "cell_type": "code",
   "execution_count": null,
   "metadata": {},
   "outputs": [],
   "source": [
    "import sys\n",
    "sys.path.insert(0, '../scripts')\n",
    "\n",
    "import os\n",
    "import numpy as np\n",
    "from meals import process_meal_data\n",
    "from preprocessing import get_bhv_num\n",
    "from accuracy import graph_single_stats\n",
    "from path import *\n",
    "\n",
    "export_root = '../export/Supplementary'\n",
    "os.makedirs(os.path.join(export_root, \"WT_meal\"), exist_ok=True)\n",
    "time_threshold = 60\n",
    "pellet_threshold = 2\n",
    "female_avg_pellet = [] # pellet per hour\n",
    "female_inactive_meals = [] # percentage of meals in inactive/inactive phase\n",
    "female_fir_meal = []\n",
    "flip_female_meal_count = []\n",
    "female_fir_good_meal = []\n",
    "female_in_meal_ratios = []"
   ]
  },
  {
   "cell_type": "markdown",
   "metadata": {},
   "source": [
    "### female Group"
   ]
  },
  {
   "cell_type": "code",
   "execution_count": null,
   "metadata": {},
   "outputs": [],
   "source": [
    "for sheet in rev_female_sheets:\n",
    "    metrics = process_meal_data(sheet, rev_female_path, is_cask=False, \n",
    "                                prefix='female', \n",
    "                                export_root=os.path.join(export_root, 'WT_meal'))\n",
    "    \n",
    "    female_avg_pellet.append(metrics['avg_pellet'])\n",
    "    female_inactive_meals.append(metrics['inactive_meals'])\n",
    "    female_fir_meal.append(metrics['fir_meal'])\n",
    "    female_fir_good_meal.append(metrics['fir_good_meal'])\n",
    "    flip_female_meal_count.append(metrics['meal_count'])\n",
    "    female_in_meal_ratios.append(metrics['in_meal_ratio'])"
   ]
  },
  {
   "cell_type": "markdown",
   "metadata": {},
   "source": [
    "### Average Pellet"
   ]
  },
  {
   "cell_type": "code",
   "execution_count": null,
   "metadata": {},
   "outputs": [],
   "source": [
    "graph_single_stats(female_avg_pellet, stats_name='Average Pellet', unit='pellets', violin_width=0.3,\n",
    "                  group_name='Female', \n",
    "                  export_path=os.path.join(export_root, '../Figure 4/WT_pellet_by_day.svg'))"
   ]
  },
  {
   "cell_type": "code",
   "execution_count": null,
   "metadata": {},
   "outputs": [],
   "source": [
    "np.mean(female_in_meal_ratios), np.std(female_in_meal_ratios) / np.sqrt(len(female_in_meal_ratios))"
   ]
  }
 ],
 "metadata": {
  "kernelspec": {
   "display_name": "ml_general",
   "language": "python",
   "name": "python3"
  },
  "language_info": {
   "codemirror_mode": {
    "name": "ipython",
    "version": 3
   },
   "file_extension": ".py",
   "mimetype": "text/x-python",
   "name": "python",
   "nbconvert_exporter": "python",
   "pygments_lexer": "ipython3",
   "version": "3.10.16"
  },
  "orig_nbformat": 4
 },
 "nbformat": 4,
 "nbformat_minor": 2
}
