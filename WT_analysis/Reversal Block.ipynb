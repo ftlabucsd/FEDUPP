{
 "cells": [
  {
   "cell_type": "markdown",
   "metadata": {},
   "source": [
    "### Event Distribution of Mice with Time"
   ]
  },
  {
   "cell_type": "code",
   "execution_count": null,
   "metadata": {
    "ExecuteTime": {
     "end_time": "2023-09-02T21:40:28.578410Z",
     "start_time": "2023-09-02T21:40:28.536411Z"
    }
   },
   "outputs": [],
   "source": [
    "import sys\n",
    "sys.path.insert(0, '../scripts')\n",
    "\n",
    "import numpy as np\n",
    "import direction_transition as dit\n",
    "from meals import find_meals_paper\n",
    "from accuracy import graph_single_stats\n",
    "from preprocessing import read_excel_by_sheet\n",
    "from path import *\n",
    "from intervals import mean_pellet_collect_time, plot_retrieval_time_by_block, perform_T_test\n",
    "\n",
    "\n",
    "spl_root = '../export/Supplementary/WT_Transitions'\n",
    "export_root = '../export/Figure 4'\n",
    "import os\n",
    "os.makedirs(export_root, exist_ok=True)\n",
    "os.makedirs(spl_root, exist_ok=True)\n",
    "time_threshold = 60\n",
    "pellet_count_threshold = 2\n",
    "len(rev_male_sheets), len(rev_female_sheets)"
   ]
  },
  {
   "cell_type": "code",
   "execution_count": null,
   "metadata": {},
   "outputs": [],
   "source": [
    "female_block_fir_meal = []\n",
    "female_block_fir_meal_prop = []\n",
    "female_meal_avg_acc = []\n",
    "female_n_blocks = []\n",
    "temp = []\n",
    "\n",
    "for sheet in rev_female_sheets:\n",
    "  temp_prop = []\n",
    "  temp_acc = []\n",
    "  meals = [] \n",
    "  data = read_excel_by_sheet(sheet, rev_female_path, cumulative_accuracy=False)  \n",
    "  blocks = dit.split_data_to_blocks(data)\n",
    "  \n",
    "  for block in blocks:\n",
    "    meal, meal_acc = find_meals_paper(block,\n",
    "                                      time_threshold=time_threshold, \n",
    "                                      pellet_threshold=pellet_count_threshold)\n",
    "    meals.extend(meal)\n",
    "    temp_acc.extend(meal_acc)\n",
    "\n",
    "  data_stats = dit.get_transition_info(blocks, [time_threshold, pellet_count_threshold], reverse=False)\n",
    "  first_meal_blocks = data_stats['First_Good_Meal_Time'].tolist()\n",
    "  block_time = data_stats['Block_Time'].tolist()\n",
    "  each = 0\n",
    "  for i in range(len(first_meal_blocks)):\n",
    "    if first_meal_blocks[i] < block_time[i]:\n",
    "      each += 1\n",
    "  temp.append(each/len(blocks))\n",
    "  female_n_blocks.append(len(blocks))\n",
    "  avg_ratio, avg_time, avg_good_time = dit.first_meal_stats(data_stats, ignore_inactive=True)\n",
    "  female_block_fir_meal.append(avg_good_time)\n",
    "  female_meal_avg_acc.append(np.mean(temp_acc))\n",
    "  female_block_fir_meal_prop.append(avg_ratio)\n",
    "  \n",
    "  # dit.graph_tranition_stats(data_stats, blocks, sheet, export_path=os.path.join(spl_root, f'female_{sheet}_transitions.svg'))"
   ]
  },
  {
   "cell_type": "code",
   "execution_count": null,
   "metadata": {},
   "outputs": [],
   "source": [
    "graph_single_stats(female_n_blocks, stats_name='Number of Blocks', unit='', group_name='Female',\n",
    "                  export_path=os.path.join(export_root, 'WT_number_of_blocks.svg'), violin_width=0.3,)"
   ]
  },
  {
   "cell_type": "code",
   "execution_count": null,
   "metadata": {},
   "outputs": [],
   "source": [
    "graph_single_stats(female_block_fir_meal, stats_name='Mean 1st Meal Time', unit='minutes', group_name='Female',\n",
    "                  export_path=os.path.join(export_root, 'WT_1st_meal_absolute_time.svg'), violin_width=0.3,)"
   ]
  },
  {
   "cell_type": "code",
   "execution_count": null,
   "metadata": {},
   "outputs": [],
   "source": [
    "graph_single_stats(female_block_fir_meal_prop, \n",
    "                  unit='%', stats_name='1st Meal and Block Time Ratio', \n",
    "                  group_name='Female', violin_width=0.3,\n",
    "                  export_path=os.path.join(export_root, 'WT_1st_meal_normalized.svg'))"
   ]
  },
  {
   "cell_type": "code",
   "execution_count": null,
   "metadata": {},
   "outputs": [],
   "source": [
    "graph_single_stats(female_meal_avg_acc, violin_width=0.3,\n",
    "                  unit='%', stats_name='Meal Accuracy', group_name='Female',\n",
    "                  export_path=os.path.join(export_root, 'WT_meal_accuracy.svg'))"
   ]
  },
  {
   "cell_type": "markdown",
   "metadata": {},
   "source": [
    "### Learning Score"
   ]
  },
  {
   "cell_type": "code",
   "execution_count": null,
   "metadata": {},
   "outputs": [],
   "source": [
    "export_root = '../export/Figure 3'\n",
    "os.makedirs(export_root, exist_ok=True)\n",
    "action_prop = 0.75\n",
    "block_prop = 0.6\n",
    "meal_config=[60, 2]\n",
    "day = 3\n",
    "female_scores = []\n",
    "female_learning_result = []\n",
    "female_blocks_list = []"
   ]
  },
  {
   "cell_type": "code",
   "execution_count": null,
   "metadata": {},
   "outputs": [],
   "source": [
    "for sheet in rev_female_sheets:\n",
    "    data = read_excel_by_sheet(sheet, rev_female_path, cumulative_accuracy=False)  \n",
    "    blocks = dit.split_data_to_blocks(data, day=day)\n",
    "    data_stats = dit.get_transition_info(blocks, meal_config=meal_config, reverse=False)\n",
    "    female_blocks_list.append(blocks)\n",
    "    female_learning_result.append(dit.learning_result(blocks, action_prop=action_prop))\n",
    "    female_scores.append(dit.learning_score(blocks, block_prop=1, action_prop=action_prop))"
   ]
  },
  {
   "cell_type": "code",
   "execution_count": null,
   "metadata": {},
   "outputs": [],
   "source": [
    "dit.plot_learning_score_trend([female_blocks_list], \n",
    "                              ['Wild Type'], \n",
    "                              export_path=\"../export/Figure 3/WT_learning_score_overall.svg\")"
   ]
  },
  {
   "cell_type": "code",
   "execution_count": null,
   "metadata": {},
   "outputs": [],
   "source": [
    "dit.plot_pellet_ratio_trend([female_blocks_list], \n",
    "                            ['Wild Type'], \n",
    "                            export_path=\"../export/Figure 3/WT_pellet_in_meal_overall.svg\")"
   ]
  },
  {
   "cell_type": "code",
   "execution_count": null,
   "metadata": {},
   "outputs": [],
   "source": [
    "dit.graph_learning_score_single(female_scores, group_name='Female', proportion=action_prop, \n",
    "                                export_path=os.path.join(export_root, f'WT_{int(action_prop*100)}_learning_score.svg'))"
   ]
  },
  {
   "cell_type": "code",
   "execution_count": null,
   "metadata": {},
   "outputs": [],
   "source": [
    "dit.graph_learning_results_single(female_learning_result, proportion=0.25, group_name='Female',\n",
    "                                export_path=os.path.join(export_root, 'WT_learning_result.svg'))"
   ]
  },
  {
   "cell_type": "markdown",
   "metadata": {},
   "source": [
    "### Pellet Retrieval Analysis"
   ]
  },
  {
   "cell_type": "code",
   "execution_count": null,
   "metadata": {},
   "outputs": [],
   "source": [
    "export_root = '../export/Supplementary'\n",
    "os.makedirs(os.path.join(export_root, 'WT_retrieval_time'), exist_ok=True)\n",
    "female_all_times = []\n",
    "female_mean = []\n",
    "female_pred = []\n",
    "female_slope= []\n",
    "rev_female_time_dict = {}"
   ]
  },
  {
   "cell_type": "code",
   "execution_count": null,
   "metadata": {},
   "outputs": [],
   "source": [
    "for sheet in rev_female_sheets[:]:\n",
    "    times, mean, std = mean_pellet_collect_time(rev_female_path, sheet, remove_outlier=True, n_stds=3, day=day)\n",
    "    _, pred, slope = plot_retrieval_time_by_block(rev_female_path, sheet, day=day, n_stds=3, \n",
    "                                        export_path=os.path.join(export_root, 'WT_retrieval_time',\n",
    "                                                                 f'female_{sheet}.svg'))\n",
    "    female_all_times.append(times)\n",
    "    female_mean.append(mean)\n",
    "    female_pred.append(pred)\n",
    "    female_slope.append(slope)\n",
    "    rev_female_time_dict[sheet] = mean"
   ]
  },
  {
   "cell_type": "code",
   "execution_count": null,
   "metadata": {},
   "outputs": [],
   "source": [
    "graph_single_stats(female_mean, 'Pellet Retrieval Time',  group_name='Female', unit='minutes', violin_width=0.3,\n",
    "                  export_path=os.path.join(export_root, 'wt_retrieval_mean.svg'))"
   ]
  },
  {
   "cell_type": "code",
   "execution_count": null,
   "metadata": {},
   "outputs": [],
   "source": [
    "female_pred.remove(max(female_pred))"
   ]
  },
  {
   "cell_type": "code",
   "execution_count": null,
   "metadata": {},
   "outputs": [],
   "source": [
    "graph_single_stats(female_pred, 'Predicted Pellet Retrieval Time', group_name='Female', unit='minutes',violin_width=0.3,\n",
    "                  export_path=os.path.join(export_root, 'wt_retrieval_pred.svg'))"
   ]
  },
  {
   "cell_type": "code",
   "execution_count": null,
   "metadata": {},
   "outputs": [],
   "source": [
    "graph_single_stats(female_slope, 'Retrieval Time Best-fit Line Slope', group_name='Female', unit='', violin_width=0.3,\n",
    "                  export_path=os.path.join(export_root, 'wt_retrieval_slope.svg'))"
   ]
  },
  {
   "cell_type": "code",
   "execution_count": null,
   "metadata": {},
   "outputs": [],
   "source": [
    "female_all_times = []\n",
    "female_means = []\n",
    "female_stds = []\n",
    "fr1_female_dict = {}\n",
    "\n",
    "for sheet in fr1_female_sheets:\n",
    "    times, mean, std = mean_pellet_collect_time(fr1_female_path, sheet, remove_outlier=True, n_stds=2, day=3)\n",
    "    female_all_times.append(times)\n",
    "    female_means.append(mean)\n",
    "    female_stds.append(std)\n",
    "    fr1_female_dict[sheet] = mean"
   ]
  },
  {
   "cell_type": "code",
   "execution_count": null,
   "metadata": {},
   "outputs": [],
   "source": [
    "female_means.remove(max(female_means))\n",
    "female_means.remove(max(female_means))"
   ]
  },
  {
   "cell_type": "code",
   "execution_count": null,
   "metadata": {},
   "outputs": [],
   "source": [
    "graph_single_stats(female_means, 'Pellet Retrieval Time', group_name='Female', unit='minutes',violin_width=0.3,\n",
    "                  export_path=os.path.join('../export/Figure 2/', 'wt_fr1_retrieval_mean.svg'))"
   ]
  }
 ],
 "metadata": {
  "kernelspec": {
   "display_name": "ml_general",
   "language": "python",
   "name": "python3"
  },
  "language_info": {
   "codemirror_mode": {
    "name": "ipython",
    "version": 3
   },
   "file_extension": ".py",
   "mimetype": "text/x-python",
   "name": "python",
   "nbconvert_exporter": "python",
   "pygments_lexer": "ipython3",
   "version": "3.10.16"
  },
  "orig_nbformat": 4
 },
 "nbformat": 4,
 "nbformat_minor": 2
}
