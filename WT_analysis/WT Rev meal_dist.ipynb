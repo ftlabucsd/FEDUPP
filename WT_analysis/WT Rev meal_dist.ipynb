{
 "cells": [
  {
   "cell_type": "code",
   "execution_count": 1,
   "metadata": {},
   "outputs": [],
   "source": [
    "import sys\n",
    "sys.path.insert(0, '../scripts')\n",
    "\n",
    "import torch\n",
    "\n",
    "import meals as ml\n",
    "from meal_classifiers import *\n",
    "from unsupervised_helpers import *\n",
    "import numpy as np\n",
    "from preprocessing import read_excel_by_sheet\n",
    "from sklearn.metrics.pairwise import cosine_similarity\n",
    "time_threshold = 60\n",
    "pellet_count_threshold = 2\n",
    "from path import *"
   ]
  },
  {
   "cell_type": "code",
   "execution_count": 2,
   "metadata": {},
   "outputs": [],
   "source": [
    "def good_meal_by_n_pellets(predictions, categories):\n",
    "    category_counts = {3: {'total': 0, 'zeros': 0},\n",
    "                    4: {'total': 0, 'zeros': 0},\n",
    "                    5: {'total': 0, 'zeros': 0}}\n",
    "\n",
    "    # Loop through the predictions and categories\n",
    "    for pred, cat in zip(predictions, categories):\n",
    "        if cat in category_counts:\n",
    "            category_counts[cat]['total'] += 1\n",
    "            if pred == 0:\n",
    "                category_counts[cat]['zeros'] += 1\n",
    "\n",
    "    temp_list = []\n",
    "    for cat in category_counts:\n",
    "        total = category_counts[cat]['total']\n",
    "        zeros = category_counts[cat]['zeros']\n",
    "        percentage = (zeros / total) * 100 if total > 0 else 0\n",
    "        temp_list.append(percentage)\n",
    "    return temp_list"
   ]
  },
  {
   "cell_type": "code",
   "execution_count": 3,
   "metadata": {},
   "outputs": [
    {
     "data": {
      "text/plain": [
       "<All keys matched successfully>"
      ]
     },
     "execution_count": 3,
     "metadata": {},
     "output_type": "execute_result"
    }
   ],
   "source": [
    "device = 'cuda' if torch.cuda.is_available() else 'cpu'\n",
    "# model = CNNClassifier(num_classes=2, maxlen=4).to(device)\n",
    "model = RNNClassifier(input_size=1, hidden_size=400, num_classes=2, num_layers=2).to(device)\n",
    "model.load_state_dict(torch.load('../data/LSTM_from_CASK.pth'))"
   ]
  },
  {
   "cell_type": "code",
   "execution_count": 4,
   "metadata": {},
   "outputs": [],
   "source": [
    "male_data = []\n",
    "female_data = []\n",
    "\n",
    "for sheet in rev_male_sheets[:]:\n",
    "    data = read_excel_by_sheet(sheet, rev_male_path)\n",
    "    meals, meals_len = ml.extract_meals_for_model(data, time_threshold, pellet_count_threshold)\n",
    "    preds = predict(model, meals)\n",
    "    male_data.append(good_meal_by_n_pellets(preds, meals_len))\n",
    "\n",
    "for sheet in rev_female_sheets:\n",
    "    data = read_excel_by_sheet(sheet, rev_female_path)\n",
    "    meals, meals_len = ml.extract_meals_for_model(data, time_threshold, pellet_count_threshold)\n",
    "    preds = predict(model, meals)\n",
    "    female_data.append(good_meal_by_n_pellets(preds, meals_len))\n",
    "\n",
    "male_data = np.array(male_data)\n",
    "female_data = np.array(female_data)"
   ]
  },
  {
   "cell_type": "markdown",
   "metadata": {},
   "source": [
    "#### Cosine Similarity"
   ]
  },
  {
   "cell_type": "code",
   "execution_count": 5,
   "metadata": {},
   "outputs": [
    {
     "name": "stdout",
     "output_type": "stream",
     "text": [
      "Mean Similarity: 0.9439150285195235\n",
      "Max Similarity: 0.9996734811557442\n",
      "Min Similarity: 0.7099739620540488\n",
      "Variance of Similarity: 0.003944626953636261\n"
     ]
    }
   ],
   "source": [
    "similarity_matrix = cosine_similarity(male_data, female_data)\n",
    "\n",
    "mean_similarity = np.mean(similarity_matrix)\n",
    "max_similarity = np.max(similarity_matrix)\n",
    "min_similarity = np.min(similarity_matrix)\n",
    "variance_similarity = np.var(similarity_matrix)\n",
    "\n",
    "print(\"Mean Similarity:\", mean_similarity)\n",
    "print(\"Max Similarity:\", max_similarity)\n",
    "print(\"Min Similarity:\", min_similarity)\n",
    "print(\"Variance of Similarity:\", variance_similarity)"
   ]
  },
  {
   "cell_type": "markdown",
   "metadata": {},
   "source": [
    "#### Centroids Cosine Similarity"
   ]
  },
  {
   "cell_type": "code",
   "execution_count": 6,
   "metadata": {},
   "outputs": [
    {
     "name": "stdout",
     "output_type": "stream",
     "text": [
      "Cosine Similarity Between Group Centroids: 0.9957519159019085\n"
     ]
    }
   ],
   "source": [
    "# Compute centroids\n",
    "centroid_M1 = np.mean(male_data, axis=0)\n",
    "centroid_M2 = np.mean(female_data, axis=0)\n",
    "\n",
    "# Compute cosine similarity between centroids\n",
    "centroid_similarity = cosine_similarity([centroid_M1], [centroid_M2])[0][0]\n",
    "\n",
    "print(\"Cosine Similarity Between Group Centroids:\", centroid_similarity)"
   ]
  },
  {
   "cell_type": "code",
   "execution_count": 7,
   "metadata": {},
   "outputs": [
    {
     "name": "stdout",
     "output_type": "stream",
     "text": [
      "Control Group Mean: [55.52307796 50.44314254 48.64749836]; STD: [ 7.71701028  9.95343587 15.99995533]\n",
      "CASK Group Mean: [50.8160234  38.54519941 36.72416993]; STD: [11.12058559 13.96634426 16.16993982]\n"
     ]
    }
   ],
   "source": [
    "std_M1 = np.std(male_data, axis=0)\n",
    "std_M2 = np.std(female_data, axis=0)\n",
    "print(f'Control Group Mean: {centroid_M1}; STD: {std_M1}')\n",
    "print(f'CASK Group Mean: {centroid_M2}; STD: {std_M2}')"
   ]
  },
  {
   "cell_type": "markdown",
   "metadata": {},
   "source": [
    "#### Wasserstein Distance"
   ]
  },
  {
   "cell_type": "code",
   "execution_count": 8,
   "metadata": {},
   "outputs": [
    {
     "name": "stdout",
     "output_type": "stream",
     "text": [
      "Wasserstein distances per dimension (normalized): [0.6233642055120513, 0.8950625616648947, 0.6956444714931735]\n",
      "Mean Wasserstein Distance (normalized): 0.7380237462233733\n",
      "Mean Wasserstein distance (unnormalized): 9.974332022209543\n"
     ]
    }
   ],
   "source": [
    "from scipy.stats import wasserstein_distance\n",
    "\n",
    "# Compute pairwise Wasserstein distance for each dimension\n",
    "# Combine data for normalization\n",
    "combined_data = np.vstack([male_data, female_data])\n",
    "\n",
    "# Compute mean and std for normalization (column-wise)\n",
    "mean = np.mean(combined_data, axis=0)\n",
    "std = np.std(combined_data, axis=0)\n",
    "\n",
    "# Normalize both datasets\n",
    "male_data_normalized = (male_data - mean) / std\n",
    "female_data_normalized = (female_data - mean) / std\n",
    "\n",
    "# Compute Wasserstein distance for normalized data (dimension-wise)\n",
    "wasserstein_distances = [\n",
    "    wasserstein_distance(male_data_normalized[:, i], female_data_normalized[:, i])\n",
    "    for i in range(male_data_normalized.shape[1])\n",
    "]\n",
    "unnormalized_distance = [wasserstein_distance(male_data[:, i], female_data[:, i])\n",
    "    for i in range(male_data.shape[1])]\n",
    "unnormalized_mean = np.mean(unnormalized_distance)\n",
    "\n",
    "mean_wasserstein_distance = np.mean(wasserstein_distances)\n",
    "\n",
    "print(\"Wasserstein distances per dimension (normalized):\", wasserstein_distances)\n",
    "print(\"Mean Wasserstein Distance (normalized):\", mean_wasserstein_distance)\n",
    "print(\"Mean Wasserstein distance (unnormalized):\", unnormalized_mean)"
   ]
  },
  {
   "cell_type": "markdown",
   "metadata": {},
   "source": [
    "#### KL Divergence"
   ]
  },
  {
   "cell_type": "code",
   "execution_count": 9,
   "metadata": {},
   "outputs": [
    {
     "name": "stdout",
     "output_type": "stream",
     "text": [
      "KL Divergence (male || female): 3.9217157476253384\n",
      "KL Divergence (female || male): 4.885500643455609\n"
     ]
    }
   ],
   "source": [
    "import numpy as np\n",
    "from scipy.stats import entropy\n",
    "\n",
    "# Flatten matrices to compare all dimensions together\n",
    "M1_flattened = male_data.flatten()\n",
    "M2_flattened = female_data.flatten()\n",
    "\n",
    "# Estimate probability distributions with histograms\n",
    "bins = np.histogram_bin_edges(np.concatenate([M1_flattened, M2_flattened]), bins=30)\n",
    "P, _ = np.histogram(M1_flattened, bins=bins, density=True)\n",
    "Q, _ = np.histogram(M2_flattened, bins=bins, density=True)\n",
    "\n",
    "# Add a small value to avoid division by zero\n",
    "epsilon = 1e-10\n",
    "P += epsilon\n",
    "Q += epsilon\n",
    "\n",
    "# Normalize to make valid probability distributions\n",
    "P /= P.sum()\n",
    "Q /= Q.sum()\n",
    "\n",
    "# Compute KL divergence\n",
    "kl_divergence = entropy(P, Q)  # D_KL(P || Q)\n",
    "print(f\"KL Divergence (male || female): {kl_divergence}\")\n",
    "kl_divergence = entropy(Q, P)  # D_KL(P || Q)\n",
    "print(f\"KL Divergence (female || male): {kl_divergence}\")\n"
   ]
  },
  {
   "cell_type": "markdown",
   "metadata": {},
   "source": [
    "#### 3D Visualization"
   ]
  },
  {
   "cell_type": "code",
   "execution_count": 10,
   "metadata": {},
   "outputs": [
    {
     "data": {
      "application/vnd.plotly.v1+json": {
       "config": {
        "plotlyServerURL": "https://plot.ly"
       },
       "data": [
        {
         "marker": {
          "color": "blue",
          "opacity": 0.7,
          "size": 5
         },
         "mode": "markers",
         "name": "Male Group",
         "type": "scatter3d",
         "x": [
          61.038961038961034,
          50,
          56.043956043956044,
          56.730769230769226,
          57.377049180327866,
          59.67741935483871,
          60,
          56.9620253164557,
          42.42424242424242,
          47.25274725274725,
          49.01960784313725,
          69.14285714285714,
          59.57446808510638,
          45.76271186440678,
          55.294117647058826,
          50,
          44.230769230769226,
          64.40677966101694,
          70
         ],
         "y": [
          54.09836065573771,
          50,
          46.15384615384615,
          60.9375,
          44.827586206896555,
          44.89795918367347,
          56.52173913043478,
          42.10526315789473,
          45.614035087719294,
          24.489795918367346,
          58.730158730158735,
          65.51724137931035,
          46.875,
          58.333333333333336,
          45,
          41.66666666666667,
          52.38095238095239,
          70.27027027027027,
          50
         ],
         "z": [
          37.5,
          55.55555555555556,
          53.84615384615385,
          41.37931034482759,
          43.47826086956522,
          40,
          70,
          48.275862068965516,
          48.484848484848484,
          47.61904761904761,
          64.28571428571429,
          62.5,
          54.54545454545454,
          52.94117647058824,
          52.17391304347826,
          30,
          44.44444444444444,
          77.27272727272727,
          0
         ]
        },
        {
         "marker": {
          "color": "red",
          "opacity": 0.7,
          "size": 5
         },
         "mode": "markers",
         "name": "Female Group",
         "type": "scatter3d",
         "x": [
          43.90243902439025,
          46.666666666666664,
          80,
          56.25,
          50,
          50,
          63.41463414634146,
          42.857142857142854,
          60.65573770491803,
          40.909090909090914,
          61.53846153846154,
          37.5,
          39.743589743589745,
          40,
          43.47826086956522,
          56.14035087719298
         ],
         "y": [
          37.5,
          16.666666666666664,
          42.857142857142854,
          40,
          37.142857142857146,
          35.714285714285715,
          18.181818181818183,
          31.818181818181817,
          40,
          61.53846153846154,
          38.095238095238095,
          28.57142857142857,
          44.827586206896555,
          20,
          57.14285714285714,
          66.66666666666666
         ],
         "z": [
          16.666666666666664,
          33.33333333333333,
          0,
          50,
          38.46153846153847,
          58.333333333333336,
          50,
          41.66666666666667,
          46.666666666666664,
          28.57142857142857,
          54.166666666666664,
          45.45454545454545,
          53.333333333333336,
          28.57142857142857,
          11.11111111111111,
          31.25
         ]
        }
       ],
       "layout": {
        "height": 600,
        "margin": {
         "b": 10,
         "l": 10,
         "r": 10,
         "t": 30
        },
        "scene": {
         "xaxis": {
          "backgroundcolor": "rgba(211,211,211)",
          "title": {
           "text": "Feature 1"
          }
         },
         "yaxis": {
          "backgroundcolor": "rgba(211,211,211)",
          "title": {
           "text": "Feature 2"
          }
         },
         "zaxis": {
          "backgroundcolor": "rgba(211,211,211)",
          "title": {
           "text": "Feature 3"
          }
         }
        },
        "template": {
         "data": {
          "bar": [
           {
            "error_x": {
             "color": "#2a3f5f"
            },
            "error_y": {
             "color": "#2a3f5f"
            },
            "marker": {
             "line": {
              "color": "#E5ECF6",
              "width": 0.5
             },
             "pattern": {
              "fillmode": "overlay",
              "size": 10,
              "solidity": 0.2
             }
            },
            "type": "bar"
           }
          ],
          "barpolar": [
           {
            "marker": {
             "line": {
              "color": "#E5ECF6",
              "width": 0.5
             },
             "pattern": {
              "fillmode": "overlay",
              "size": 10,
              "solidity": 0.2
             }
            },
            "type": "barpolar"
           }
          ],
          "carpet": [
           {
            "aaxis": {
             "endlinecolor": "#2a3f5f",
             "gridcolor": "white",
             "linecolor": "white",
             "minorgridcolor": "white",
             "startlinecolor": "#2a3f5f"
            },
            "baxis": {
             "endlinecolor": "#2a3f5f",
             "gridcolor": "white",
             "linecolor": "white",
             "minorgridcolor": "white",
             "startlinecolor": "#2a3f5f"
            },
            "type": "carpet"
           }
          ],
          "choropleth": [
           {
            "colorbar": {
             "outlinewidth": 0,
             "ticks": ""
            },
            "type": "choropleth"
           }
          ],
          "contour": [
           {
            "colorbar": {
             "outlinewidth": 0,
             "ticks": ""
            },
            "colorscale": [
             [
              0,
              "#0d0887"
             ],
             [
              0.1111111111111111,
              "#46039f"
             ],
             [
              0.2222222222222222,
              "#7201a8"
             ],
             [
              0.3333333333333333,
              "#9c179e"
             ],
             [
              0.4444444444444444,
              "#bd3786"
             ],
             [
              0.5555555555555556,
              "#d8576b"
             ],
             [
              0.6666666666666666,
              "#ed7953"
             ],
             [
              0.7777777777777778,
              "#fb9f3a"
             ],
             [
              0.8888888888888888,
              "#fdca26"
             ],
             [
              1,
              "#f0f921"
             ]
            ],
            "type": "contour"
           }
          ],
          "contourcarpet": [
           {
            "colorbar": {
             "outlinewidth": 0,
             "ticks": ""
            },
            "type": "contourcarpet"
           }
          ],
          "heatmap": [
           {
            "colorbar": {
             "outlinewidth": 0,
             "ticks": ""
            },
            "colorscale": [
             [
              0,
              "#0d0887"
             ],
             [
              0.1111111111111111,
              "#46039f"
             ],
             [
              0.2222222222222222,
              "#7201a8"
             ],
             [
              0.3333333333333333,
              "#9c179e"
             ],
             [
              0.4444444444444444,
              "#bd3786"
             ],
             [
              0.5555555555555556,
              "#d8576b"
             ],
             [
              0.6666666666666666,
              "#ed7953"
             ],
             [
              0.7777777777777778,
              "#fb9f3a"
             ],
             [
              0.8888888888888888,
              "#fdca26"
             ],
             [
              1,
              "#f0f921"
             ]
            ],
            "type": "heatmap"
           }
          ],
          "heatmapgl": [
           {
            "colorbar": {
             "outlinewidth": 0,
             "ticks": ""
            },
            "colorscale": [
             [
              0,
              "#0d0887"
             ],
             [
              0.1111111111111111,
              "#46039f"
             ],
             [
              0.2222222222222222,
              "#7201a8"
             ],
             [
              0.3333333333333333,
              "#9c179e"
             ],
             [
              0.4444444444444444,
              "#bd3786"
             ],
             [
              0.5555555555555556,
              "#d8576b"
             ],
             [
              0.6666666666666666,
              "#ed7953"
             ],
             [
              0.7777777777777778,
              "#fb9f3a"
             ],
             [
              0.8888888888888888,
              "#fdca26"
             ],
             [
              1,
              "#f0f921"
             ]
            ],
            "type": "heatmapgl"
           }
          ],
          "histogram": [
           {
            "marker": {
             "pattern": {
              "fillmode": "overlay",
              "size": 10,
              "solidity": 0.2
             }
            },
            "type": "histogram"
           }
          ],
          "histogram2d": [
           {
            "colorbar": {
             "outlinewidth": 0,
             "ticks": ""
            },
            "colorscale": [
             [
              0,
              "#0d0887"
             ],
             [
              0.1111111111111111,
              "#46039f"
             ],
             [
              0.2222222222222222,
              "#7201a8"
             ],
             [
              0.3333333333333333,
              "#9c179e"
             ],
             [
              0.4444444444444444,
              "#bd3786"
             ],
             [
              0.5555555555555556,
              "#d8576b"
             ],
             [
              0.6666666666666666,
              "#ed7953"
             ],
             [
              0.7777777777777778,
              "#fb9f3a"
             ],
             [
              0.8888888888888888,
              "#fdca26"
             ],
             [
              1,
              "#f0f921"
             ]
            ],
            "type": "histogram2d"
           }
          ],
          "histogram2dcontour": [
           {
            "colorbar": {
             "outlinewidth": 0,
             "ticks": ""
            },
            "colorscale": [
             [
              0,
              "#0d0887"
             ],
             [
              0.1111111111111111,
              "#46039f"
             ],
             [
              0.2222222222222222,
              "#7201a8"
             ],
             [
              0.3333333333333333,
              "#9c179e"
             ],
             [
              0.4444444444444444,
              "#bd3786"
             ],
             [
              0.5555555555555556,
              "#d8576b"
             ],
             [
              0.6666666666666666,
              "#ed7953"
             ],
             [
              0.7777777777777778,
              "#fb9f3a"
             ],
             [
              0.8888888888888888,
              "#fdca26"
             ],
             [
              1,
              "#f0f921"
             ]
            ],
            "type": "histogram2dcontour"
           }
          ],
          "mesh3d": [
           {
            "colorbar": {
             "outlinewidth": 0,
             "ticks": ""
            },
            "type": "mesh3d"
           }
          ],
          "parcoords": [
           {
            "line": {
             "colorbar": {
              "outlinewidth": 0,
              "ticks": ""
             }
            },
            "type": "parcoords"
           }
          ],
          "pie": [
           {
            "automargin": true,
            "type": "pie"
           }
          ],
          "scatter": [
           {
            "fillpattern": {
             "fillmode": "overlay",
             "size": 10,
             "solidity": 0.2
            },
            "type": "scatter"
           }
          ],
          "scatter3d": [
           {
            "line": {
             "colorbar": {
              "outlinewidth": 0,
              "ticks": ""
             }
            },
            "marker": {
             "colorbar": {
              "outlinewidth": 0,
              "ticks": ""
             }
            },
            "type": "scatter3d"
           }
          ],
          "scattercarpet": [
           {
            "marker": {
             "colorbar": {
              "outlinewidth": 0,
              "ticks": ""
             }
            },
            "type": "scattercarpet"
           }
          ],
          "scattergeo": [
           {
            "marker": {
             "colorbar": {
              "outlinewidth": 0,
              "ticks": ""
             }
            },
            "type": "scattergeo"
           }
          ],
          "scattergl": [
           {
            "marker": {
             "colorbar": {
              "outlinewidth": 0,
              "ticks": ""
             }
            },
            "type": "scattergl"
           }
          ],
          "scattermapbox": [
           {
            "marker": {
             "colorbar": {
              "outlinewidth": 0,
              "ticks": ""
             }
            },
            "type": "scattermapbox"
           }
          ],
          "scatterpolar": [
           {
            "marker": {
             "colorbar": {
              "outlinewidth": 0,
              "ticks": ""
             }
            },
            "type": "scatterpolar"
           }
          ],
          "scatterpolargl": [
           {
            "marker": {
             "colorbar": {
              "outlinewidth": 0,
              "ticks": ""
             }
            },
            "type": "scatterpolargl"
           }
          ],
          "scatterternary": [
           {
            "marker": {
             "colorbar": {
              "outlinewidth": 0,
              "ticks": ""
             }
            },
            "type": "scatterternary"
           }
          ],
          "surface": [
           {
            "colorbar": {
             "outlinewidth": 0,
             "ticks": ""
            },
            "colorscale": [
             [
              0,
              "#0d0887"
             ],
             [
              0.1111111111111111,
              "#46039f"
             ],
             [
              0.2222222222222222,
              "#7201a8"
             ],
             [
              0.3333333333333333,
              "#9c179e"
             ],
             [
              0.4444444444444444,
              "#bd3786"
             ],
             [
              0.5555555555555556,
              "#d8576b"
             ],
             [
              0.6666666666666666,
              "#ed7953"
             ],
             [
              0.7777777777777778,
              "#fb9f3a"
             ],
             [
              0.8888888888888888,
              "#fdca26"
             ],
             [
              1,
              "#f0f921"
             ]
            ],
            "type": "surface"
           }
          ],
          "table": [
           {
            "cells": {
             "fill": {
              "color": "#EBF0F8"
             },
             "line": {
              "color": "white"
             }
            },
            "header": {
             "fill": {
              "color": "#C8D4E3"
             },
             "line": {
              "color": "white"
             }
            },
            "type": "table"
           }
          ]
         },
         "layout": {
          "annotationdefaults": {
           "arrowcolor": "#2a3f5f",
           "arrowhead": 0,
           "arrowwidth": 1
          },
          "autotypenumbers": "strict",
          "coloraxis": {
           "colorbar": {
            "outlinewidth": 0,
            "ticks": ""
           }
          },
          "colorscale": {
           "diverging": [
            [
             0,
             "#8e0152"
            ],
            [
             0.1,
             "#c51b7d"
            ],
            [
             0.2,
             "#de77ae"
            ],
            [
             0.3,
             "#f1b6da"
            ],
            [
             0.4,
             "#fde0ef"
            ],
            [
             0.5,
             "#f7f7f7"
            ],
            [
             0.6,
             "#e6f5d0"
            ],
            [
             0.7,
             "#b8e186"
            ],
            [
             0.8,
             "#7fbc41"
            ],
            [
             0.9,
             "#4d9221"
            ],
            [
             1,
             "#276419"
            ]
           ],
           "sequential": [
            [
             0,
             "#0d0887"
            ],
            [
             0.1111111111111111,
             "#46039f"
            ],
            [
             0.2222222222222222,
             "#7201a8"
            ],
            [
             0.3333333333333333,
             "#9c179e"
            ],
            [
             0.4444444444444444,
             "#bd3786"
            ],
            [
             0.5555555555555556,
             "#d8576b"
            ],
            [
             0.6666666666666666,
             "#ed7953"
            ],
            [
             0.7777777777777778,
             "#fb9f3a"
            ],
            [
             0.8888888888888888,
             "#fdca26"
            ],
            [
             1,
             "#f0f921"
            ]
           ],
           "sequentialminus": [
            [
             0,
             "#0d0887"
            ],
            [
             0.1111111111111111,
             "#46039f"
            ],
            [
             0.2222222222222222,
             "#7201a8"
            ],
            [
             0.3333333333333333,
             "#9c179e"
            ],
            [
             0.4444444444444444,
             "#bd3786"
            ],
            [
             0.5555555555555556,
             "#d8576b"
            ],
            [
             0.6666666666666666,
             "#ed7953"
            ],
            [
             0.7777777777777778,
             "#fb9f3a"
            ],
            [
             0.8888888888888888,
             "#fdca26"
            ],
            [
             1,
             "#f0f921"
            ]
           ]
          },
          "colorway": [
           "#636efa",
           "#EF553B",
           "#00cc96",
           "#ab63fa",
           "#FFA15A",
           "#19d3f3",
           "#FF6692",
           "#B6E880",
           "#FF97FF",
           "#FECB52"
          ],
          "font": {
           "color": "#2a3f5f"
          },
          "geo": {
           "bgcolor": "white",
           "lakecolor": "white",
           "landcolor": "#E5ECF6",
           "showlakes": true,
           "showland": true,
           "subunitcolor": "white"
          },
          "hoverlabel": {
           "align": "left"
          },
          "hovermode": "closest",
          "mapbox": {
           "style": "light"
          },
          "paper_bgcolor": "white",
          "plot_bgcolor": "#E5ECF6",
          "polar": {
           "angularaxis": {
            "gridcolor": "white",
            "linecolor": "white",
            "ticks": ""
           },
           "bgcolor": "#E5ECF6",
           "radialaxis": {
            "gridcolor": "white",
            "linecolor": "white",
            "ticks": ""
           }
          },
          "scene": {
           "xaxis": {
            "backgroundcolor": "#E5ECF6",
            "gridcolor": "white",
            "gridwidth": 2,
            "linecolor": "white",
            "showbackground": true,
            "ticks": "",
            "zerolinecolor": "white"
           },
           "yaxis": {
            "backgroundcolor": "#E5ECF6",
            "gridcolor": "white",
            "gridwidth": 2,
            "linecolor": "white",
            "showbackground": true,
            "ticks": "",
            "zerolinecolor": "white"
           },
           "zaxis": {
            "backgroundcolor": "#E5ECF6",
            "gridcolor": "white",
            "gridwidth": 2,
            "linecolor": "white",
            "showbackground": true,
            "ticks": "",
            "zerolinecolor": "white"
           }
          },
          "shapedefaults": {
           "line": {
            "color": "#2a3f5f"
           }
          },
          "ternary": {
           "aaxis": {
            "gridcolor": "white",
            "linecolor": "white",
            "ticks": ""
           },
           "baxis": {
            "gridcolor": "white",
            "linecolor": "white",
            "ticks": ""
           },
           "bgcolor": "#E5ECF6",
           "caxis": {
            "gridcolor": "white",
            "linecolor": "white",
            "ticks": ""
           }
          },
          "title": {
           "x": 0.05
          },
          "xaxis": {
           "automargin": true,
           "gridcolor": "white",
           "linecolor": "white",
           "ticks": "",
           "title": {
            "standoff": 15
           },
           "zerolinecolor": "white",
           "zerolinewidth": 2
          },
          "yaxis": {
           "automargin": true,
           "gridcolor": "white",
           "linecolor": "white",
           "ticks": "",
           "title": {
            "standoff": 15
           },
           "zerolinecolor": "white",
           "zerolinewidth": 2
          }
         }
        },
        "title": {
         "text": "3D Visualization of Male and Female Groups (Unnormalized)"
        },
        "width": 800
       }
      }
     },
     "metadata": {},
     "output_type": "display_data"
    }
   ],
   "source": [
    "import matplotlib.pyplot as plt\n",
    "import plotly.graph_objects as go\n",
    "\n",
    "# Create the figure\n",
    "fig = go.Figure()\n",
    "\n",
    "# Add control group points\n",
    "fig.add_trace(go.Scatter3d(\n",
    "    x=male_data[:, 0],\n",
    "    y=male_data[:, 1],\n",
    "    z=male_data[:, 2],\n",
    "    mode='markers',\n",
    "    marker=dict(size=5, color='blue', opacity=0.7),\n",
    "    name='Male Group'\n",
    "))\n",
    "\n",
    "# Add female group points\n",
    "fig.add_trace(go.Scatter3d(\n",
    "    x=female_data[:, 0],\n",
    "    y=female_data[:, 1],\n",
    "    z=female_data[:, 2],\n",
    "    mode='markers',\n",
    "    marker=dict(size=5, color='red', opacity=0.7),\n",
    "    name='Female Group'\n",
    "))\n",
    "\n",
    "# Customize layout\n",
    "fig.update_layout(\n",
    "    title=\"3D Visualization of Male and Female Groups (Unnormalized)\",\n",
    "    scene=dict(\n",
    "        xaxis=dict(title='Feature 1', backgroundcolor='rgba(211,211,211)'),\n",
    "        yaxis=dict(title='Feature 2', backgroundcolor='rgba(211,211,211)'),\n",
    "        zaxis=dict(title='Feature 3', backgroundcolor='rgba(211,211,211)')\n",
    "    ),\n",
    "    margin=dict(l=10, r=10, t=30, b=10),  # Reduce whitespace\n",
    "    width=800,  # Adjust width of the plot\n",
    "    height=600  # Adjust height of the plot\n",
    ")\n",
    "\n",
    "# Show the plot (interactive in Jupyter)\n",
    "fig.show()"
   ]
  },
  {
   "cell_type": "code",
   "execution_count": 11,
   "metadata": {},
   "outputs": [
    {
     "data": {
      "application/vnd.plotly.v1+json": {
       "config": {
        "plotlyServerURL": "https://plot.ly"
       },
       "data": [
        {
         "marker": {
          "color": "blue",
          "opacity": 0.7,
          "size": 5
         },
         "mode": "markers",
         "name": "Male Group",
         "type": "scatter3d",
         "x": [
          0.7893488398029334,
          -0.34705639816571765,
          0.275138324884992,
          0.3458422706862086,
          0.4123735246040752,
          0.6491850058978822,
          0.682393052700002,
          0.36964891572813835,
          -1.126942345791263,
          -0.6298721813705861,
          -0.44798281491725916,
          1.6236039792058024,
          0.6385866930886946,
          -0.7832637926003444,
          0.19794625229260476,
          -0.34705639816571765,
          -0.9409695428959409,
          1.1360487429120132,
          1.7118425035657217
         ],
         "y": [
          0.6814892994238467,
          0.374374321863596,
          0.08615872753782226,
          1.1939874182275148,
          -0.013225960160720088,
          -0.007952486935899575,
          0.8630877209377338,
          -0.21722610859457134,
          0.0457074160535029,
          -1.5372597221338826,
          1.0285779724760666,
          1.5371751679365453,
          0.14019915147390485,
          0.9988414429027724,
          -0.00030595075990980233,
          -0.25009279917557997,
          0.5527934993033611,
          1.893348400066998,
          0.374374321863596
         ],
         "z": [
          -0.3323712043438065,
          0.7210466791120863,
          0.6213148084890431,
          -0.1060400410548746,
          0.016419332318846992,
          -0.186513343557606,
          1.5637809858768004,
          0.2963264714587819,
          0.3085193960804079,
          0.25800585121938574,
          1.2303915897940567,
          1.1262074035181988,
          0.6621142101075603,
          0.5685155828650793,
          0.523751022009979,
          -0.7699447867024081,
          0.07278952006230598,
          1.9880947627093832,
          -2.5202391161368145
         ]
        },
        {
         "marker": {
          "color": "red",
          "opacity": 0.7,
          "size": 5
         },
         "mode": "markers",
         "name": "Female Group",
         "type": "scatter3d",
         "x": [
          -0.9747694779618878,
          -0.6902062151209578,
          2.7412919544314414,
          0.29634950862535714,
          -0.34705639816571765,
          -0.34705639816571765,
          1.0339123773858574,
          -1.0823774344983748,
          0.7498979347239835,
          -1.2829195353163714,
          0.8407698912947282,
          -1.6338682117478671,
          -1.402901988797225,
          -1.3765058490314372,
          -1.0184364748172738,
          0.2850616856991976
         ],
         "y": [
          -0.5623263596951684,
          -2.123494162293109,
          -0.16088321045569823,
          -0.3749862233834156,
          -0.589089236311133,
          -0.6961407427749918,
          -2.0099546857405315,
          -0.9880993967673343,
          -0.3749862233834156,
          1.239021104840917,
          -0.5177215653352273,
          -1.231398275094286,
          -0.013225960160720088,
          -1.8737073138774387,
          0.9096318541828896,
          1.6233085639419478
         ],
         "z": [
          -1.5478533775621444,
          -0.5754676389874743,
          -2.5202391161368145,
          0.39691809958719615,
          -0.2762720271183445,
          0.8831109688745313,
          0.39691809958719615,
          -0.08927476970013869,
          0.20244095187226194,
          -0.8532921357230943,
          0.6400145342308635,
          0.13172198906683144,
          0.5913952473021303,
          -0.8532921357230943,
          -1.8719819570870346,
          -0.6970158563093078
         ]
        }
       ],
       "layout": {
        "height": 600,
        "margin": {
         "b": 10,
         "l": 10,
         "r": 10,
         "t": 30
        },
        "scene": {
         "xaxis": {
          "backgroundcolor": "rgba(211,211,211)",
          "title": {
           "text": "Feature 1"
          }
         },
         "yaxis": {
          "backgroundcolor": "rgba(211,211,211)",
          "title": {
           "text": "Feature 2"
          }
         },
         "zaxis": {
          "backgroundcolor": "rgba(211,211,211)",
          "title": {
           "text": "Feature 3"
          }
         }
        },
        "template": {
         "data": {
          "bar": [
           {
            "error_x": {
             "color": "#2a3f5f"
            },
            "error_y": {
             "color": "#2a3f5f"
            },
            "marker": {
             "line": {
              "color": "#E5ECF6",
              "width": 0.5
             },
             "pattern": {
              "fillmode": "overlay",
              "size": 10,
              "solidity": 0.2
             }
            },
            "type": "bar"
           }
          ],
          "barpolar": [
           {
            "marker": {
             "line": {
              "color": "#E5ECF6",
              "width": 0.5
             },
             "pattern": {
              "fillmode": "overlay",
              "size": 10,
              "solidity": 0.2
             }
            },
            "type": "barpolar"
           }
          ],
          "carpet": [
           {
            "aaxis": {
             "endlinecolor": "#2a3f5f",
             "gridcolor": "white",
             "linecolor": "white",
             "minorgridcolor": "white",
             "startlinecolor": "#2a3f5f"
            },
            "baxis": {
             "endlinecolor": "#2a3f5f",
             "gridcolor": "white",
             "linecolor": "white",
             "minorgridcolor": "white",
             "startlinecolor": "#2a3f5f"
            },
            "type": "carpet"
           }
          ],
          "choropleth": [
           {
            "colorbar": {
             "outlinewidth": 0,
             "ticks": ""
            },
            "type": "choropleth"
           }
          ],
          "contour": [
           {
            "colorbar": {
             "outlinewidth": 0,
             "ticks": ""
            },
            "colorscale": [
             [
              0,
              "#0d0887"
             ],
             [
              0.1111111111111111,
              "#46039f"
             ],
             [
              0.2222222222222222,
              "#7201a8"
             ],
             [
              0.3333333333333333,
              "#9c179e"
             ],
             [
              0.4444444444444444,
              "#bd3786"
             ],
             [
              0.5555555555555556,
              "#d8576b"
             ],
             [
              0.6666666666666666,
              "#ed7953"
             ],
             [
              0.7777777777777778,
              "#fb9f3a"
             ],
             [
              0.8888888888888888,
              "#fdca26"
             ],
             [
              1,
              "#f0f921"
             ]
            ],
            "type": "contour"
           }
          ],
          "contourcarpet": [
           {
            "colorbar": {
             "outlinewidth": 0,
             "ticks": ""
            },
            "type": "contourcarpet"
           }
          ],
          "heatmap": [
           {
            "colorbar": {
             "outlinewidth": 0,
             "ticks": ""
            },
            "colorscale": [
             [
              0,
              "#0d0887"
             ],
             [
              0.1111111111111111,
              "#46039f"
             ],
             [
              0.2222222222222222,
              "#7201a8"
             ],
             [
              0.3333333333333333,
              "#9c179e"
             ],
             [
              0.4444444444444444,
              "#bd3786"
             ],
             [
              0.5555555555555556,
              "#d8576b"
             ],
             [
              0.6666666666666666,
              "#ed7953"
             ],
             [
              0.7777777777777778,
              "#fb9f3a"
             ],
             [
              0.8888888888888888,
              "#fdca26"
             ],
             [
              1,
              "#f0f921"
             ]
            ],
            "type": "heatmap"
           }
          ],
          "heatmapgl": [
           {
            "colorbar": {
             "outlinewidth": 0,
             "ticks": ""
            },
            "colorscale": [
             [
              0,
              "#0d0887"
             ],
             [
              0.1111111111111111,
              "#46039f"
             ],
             [
              0.2222222222222222,
              "#7201a8"
             ],
             [
              0.3333333333333333,
              "#9c179e"
             ],
             [
              0.4444444444444444,
              "#bd3786"
             ],
             [
              0.5555555555555556,
              "#d8576b"
             ],
             [
              0.6666666666666666,
              "#ed7953"
             ],
             [
              0.7777777777777778,
              "#fb9f3a"
             ],
             [
              0.8888888888888888,
              "#fdca26"
             ],
             [
              1,
              "#f0f921"
             ]
            ],
            "type": "heatmapgl"
           }
          ],
          "histogram": [
           {
            "marker": {
             "pattern": {
              "fillmode": "overlay",
              "size": 10,
              "solidity": 0.2
             }
            },
            "type": "histogram"
           }
          ],
          "histogram2d": [
           {
            "colorbar": {
             "outlinewidth": 0,
             "ticks": ""
            },
            "colorscale": [
             [
              0,
              "#0d0887"
             ],
             [
              0.1111111111111111,
              "#46039f"
             ],
             [
              0.2222222222222222,
              "#7201a8"
             ],
             [
              0.3333333333333333,
              "#9c179e"
             ],
             [
              0.4444444444444444,
              "#bd3786"
             ],
             [
              0.5555555555555556,
              "#d8576b"
             ],
             [
              0.6666666666666666,
              "#ed7953"
             ],
             [
              0.7777777777777778,
              "#fb9f3a"
             ],
             [
              0.8888888888888888,
              "#fdca26"
             ],
             [
              1,
              "#f0f921"
             ]
            ],
            "type": "histogram2d"
           }
          ],
          "histogram2dcontour": [
           {
            "colorbar": {
             "outlinewidth": 0,
             "ticks": ""
            },
            "colorscale": [
             [
              0,
              "#0d0887"
             ],
             [
              0.1111111111111111,
              "#46039f"
             ],
             [
              0.2222222222222222,
              "#7201a8"
             ],
             [
              0.3333333333333333,
              "#9c179e"
             ],
             [
              0.4444444444444444,
              "#bd3786"
             ],
             [
              0.5555555555555556,
              "#d8576b"
             ],
             [
              0.6666666666666666,
              "#ed7953"
             ],
             [
              0.7777777777777778,
              "#fb9f3a"
             ],
             [
              0.8888888888888888,
              "#fdca26"
             ],
             [
              1,
              "#f0f921"
             ]
            ],
            "type": "histogram2dcontour"
           }
          ],
          "mesh3d": [
           {
            "colorbar": {
             "outlinewidth": 0,
             "ticks": ""
            },
            "type": "mesh3d"
           }
          ],
          "parcoords": [
           {
            "line": {
             "colorbar": {
              "outlinewidth": 0,
              "ticks": ""
             }
            },
            "type": "parcoords"
           }
          ],
          "pie": [
           {
            "automargin": true,
            "type": "pie"
           }
          ],
          "scatter": [
           {
            "fillpattern": {
             "fillmode": "overlay",
             "size": 10,
             "solidity": 0.2
            },
            "type": "scatter"
           }
          ],
          "scatter3d": [
           {
            "line": {
             "colorbar": {
              "outlinewidth": 0,
              "ticks": ""
             }
            },
            "marker": {
             "colorbar": {
              "outlinewidth": 0,
              "ticks": ""
             }
            },
            "type": "scatter3d"
           }
          ],
          "scattercarpet": [
           {
            "marker": {
             "colorbar": {
              "outlinewidth": 0,
              "ticks": ""
             }
            },
            "type": "scattercarpet"
           }
          ],
          "scattergeo": [
           {
            "marker": {
             "colorbar": {
              "outlinewidth": 0,
              "ticks": ""
             }
            },
            "type": "scattergeo"
           }
          ],
          "scattergl": [
           {
            "marker": {
             "colorbar": {
              "outlinewidth": 0,
              "ticks": ""
             }
            },
            "type": "scattergl"
           }
          ],
          "scattermapbox": [
           {
            "marker": {
             "colorbar": {
              "outlinewidth": 0,
              "ticks": ""
             }
            },
            "type": "scattermapbox"
           }
          ],
          "scatterpolar": [
           {
            "marker": {
             "colorbar": {
              "outlinewidth": 0,
              "ticks": ""
             }
            },
            "type": "scatterpolar"
           }
          ],
          "scatterpolargl": [
           {
            "marker": {
             "colorbar": {
              "outlinewidth": 0,
              "ticks": ""
             }
            },
            "type": "scatterpolargl"
           }
          ],
          "scatterternary": [
           {
            "marker": {
             "colorbar": {
              "outlinewidth": 0,
              "ticks": ""
             }
            },
            "type": "scatterternary"
           }
          ],
          "surface": [
           {
            "colorbar": {
             "outlinewidth": 0,
             "ticks": ""
            },
            "colorscale": [
             [
              0,
              "#0d0887"
             ],
             [
              0.1111111111111111,
              "#46039f"
             ],
             [
              0.2222222222222222,
              "#7201a8"
             ],
             [
              0.3333333333333333,
              "#9c179e"
             ],
             [
              0.4444444444444444,
              "#bd3786"
             ],
             [
              0.5555555555555556,
              "#d8576b"
             ],
             [
              0.6666666666666666,
              "#ed7953"
             ],
             [
              0.7777777777777778,
              "#fb9f3a"
             ],
             [
              0.8888888888888888,
              "#fdca26"
             ],
             [
              1,
              "#f0f921"
             ]
            ],
            "type": "surface"
           }
          ],
          "table": [
           {
            "cells": {
             "fill": {
              "color": "#EBF0F8"
             },
             "line": {
              "color": "white"
             }
            },
            "header": {
             "fill": {
              "color": "#C8D4E3"
             },
             "line": {
              "color": "white"
             }
            },
            "type": "table"
           }
          ]
         },
         "layout": {
          "annotationdefaults": {
           "arrowcolor": "#2a3f5f",
           "arrowhead": 0,
           "arrowwidth": 1
          },
          "autotypenumbers": "strict",
          "coloraxis": {
           "colorbar": {
            "outlinewidth": 0,
            "ticks": ""
           }
          },
          "colorscale": {
           "diverging": [
            [
             0,
             "#8e0152"
            ],
            [
             0.1,
             "#c51b7d"
            ],
            [
             0.2,
             "#de77ae"
            ],
            [
             0.3,
             "#f1b6da"
            ],
            [
             0.4,
             "#fde0ef"
            ],
            [
             0.5,
             "#f7f7f7"
            ],
            [
             0.6,
             "#e6f5d0"
            ],
            [
             0.7,
             "#b8e186"
            ],
            [
             0.8,
             "#7fbc41"
            ],
            [
             0.9,
             "#4d9221"
            ],
            [
             1,
             "#276419"
            ]
           ],
           "sequential": [
            [
             0,
             "#0d0887"
            ],
            [
             0.1111111111111111,
             "#46039f"
            ],
            [
             0.2222222222222222,
             "#7201a8"
            ],
            [
             0.3333333333333333,
             "#9c179e"
            ],
            [
             0.4444444444444444,
             "#bd3786"
            ],
            [
             0.5555555555555556,
             "#d8576b"
            ],
            [
             0.6666666666666666,
             "#ed7953"
            ],
            [
             0.7777777777777778,
             "#fb9f3a"
            ],
            [
             0.8888888888888888,
             "#fdca26"
            ],
            [
             1,
             "#f0f921"
            ]
           ],
           "sequentialminus": [
            [
             0,
             "#0d0887"
            ],
            [
             0.1111111111111111,
             "#46039f"
            ],
            [
             0.2222222222222222,
             "#7201a8"
            ],
            [
             0.3333333333333333,
             "#9c179e"
            ],
            [
             0.4444444444444444,
             "#bd3786"
            ],
            [
             0.5555555555555556,
             "#d8576b"
            ],
            [
             0.6666666666666666,
             "#ed7953"
            ],
            [
             0.7777777777777778,
             "#fb9f3a"
            ],
            [
             0.8888888888888888,
             "#fdca26"
            ],
            [
             1,
             "#f0f921"
            ]
           ]
          },
          "colorway": [
           "#636efa",
           "#EF553B",
           "#00cc96",
           "#ab63fa",
           "#FFA15A",
           "#19d3f3",
           "#FF6692",
           "#B6E880",
           "#FF97FF",
           "#FECB52"
          ],
          "font": {
           "color": "#2a3f5f"
          },
          "geo": {
           "bgcolor": "white",
           "lakecolor": "white",
           "landcolor": "#E5ECF6",
           "showlakes": true,
           "showland": true,
           "subunitcolor": "white"
          },
          "hoverlabel": {
           "align": "left"
          },
          "hovermode": "closest",
          "mapbox": {
           "style": "light"
          },
          "paper_bgcolor": "white",
          "plot_bgcolor": "#E5ECF6",
          "polar": {
           "angularaxis": {
            "gridcolor": "white",
            "linecolor": "white",
            "ticks": ""
           },
           "bgcolor": "#E5ECF6",
           "radialaxis": {
            "gridcolor": "white",
            "linecolor": "white",
            "ticks": ""
           }
          },
          "scene": {
           "xaxis": {
            "backgroundcolor": "#E5ECF6",
            "gridcolor": "white",
            "gridwidth": 2,
            "linecolor": "white",
            "showbackground": true,
            "ticks": "",
            "zerolinecolor": "white"
           },
           "yaxis": {
            "backgroundcolor": "#E5ECF6",
            "gridcolor": "white",
            "gridwidth": 2,
            "linecolor": "white",
            "showbackground": true,
            "ticks": "",
            "zerolinecolor": "white"
           },
           "zaxis": {
            "backgroundcolor": "#E5ECF6",
            "gridcolor": "white",
            "gridwidth": 2,
            "linecolor": "white",
            "showbackground": true,
            "ticks": "",
            "zerolinecolor": "white"
           }
          },
          "shapedefaults": {
           "line": {
            "color": "#2a3f5f"
           }
          },
          "ternary": {
           "aaxis": {
            "gridcolor": "white",
            "linecolor": "white",
            "ticks": ""
           },
           "baxis": {
            "gridcolor": "white",
            "linecolor": "white",
            "ticks": ""
           },
           "bgcolor": "#E5ECF6",
           "caxis": {
            "gridcolor": "white",
            "linecolor": "white",
            "ticks": ""
           }
          },
          "title": {
           "x": 0.05
          },
          "xaxis": {
           "automargin": true,
           "gridcolor": "white",
           "linecolor": "white",
           "ticks": "",
           "title": {
            "standoff": 15
           },
           "zerolinecolor": "white",
           "zerolinewidth": 2
          },
          "yaxis": {
           "automargin": true,
           "gridcolor": "white",
           "linecolor": "white",
           "ticks": "",
           "title": {
            "standoff": 15
           },
           "zerolinecolor": "white",
           "zerolinewidth": 2
          }
         }
        },
        "title": {
         "text": "3D Visualization of Male and Female Groups (Normalized)"
        },
        "width": 800
       }
      }
     },
     "metadata": {},
     "output_type": "display_data"
    }
   ],
   "source": [
    "import matplotlib.pyplot as plt\n",
    "import plotly.graph_objects as go\n",
    "\n",
    "# Create the figure\n",
    "fig = go.Figure()\n",
    "\n",
    "# Add control group points\n",
    "fig.add_trace(go.Scatter3d(\n",
    "    x=male_data_normalized[:, 0],\n",
    "    y=male_data_normalized[:, 1],\n",
    "    z=male_data_normalized[:, 2],\n",
    "    mode='markers',\n",
    "    marker=dict(size=5, color='blue', opacity=0.7),\n",
    "    name='Male Group'\n",
    "))\n",
    "\n",
    "# Add female group points\n",
    "fig.add_trace(go.Scatter3d(\n",
    "    x=female_data_normalized[:, 0],\n",
    "    y=female_data_normalized[:, 1],\n",
    "    z=female_data_normalized[:, 2],\n",
    "    mode='markers',\n",
    "    marker=dict(size=5, color='red', opacity=0.7),\n",
    "    name='Female Group'\n",
    "))\n",
    "\n",
    "# Customize layout\n",
    "fig.update_layout(\n",
    "    title=\"3D Visualization of Male and Female Groups (Normalized)\",\n",
    "    scene=dict(\n",
    "        xaxis=dict(title='Feature 1', backgroundcolor='rgba(211,211,211)'),\n",
    "        yaxis=dict(title='Feature 2', backgroundcolor='rgba(211,211,211)'),\n",
    "        zaxis=dict(title='Feature 3', backgroundcolor='rgba(211,211,211)')\n",
    "    ),\n",
    "    margin=dict(l=10, r=10, t=30, b=10),  # Reduce whitespace\n",
    "    width=800,  # Adjust width of the plot\n",
    "    height=600  # Adjust height of the plot\n",
    ")\n",
    "\n",
    "# Show the plot (interactive in Jupyter)\n",
    "fig.show()"
   ]
  },
  {
   "cell_type": "markdown",
   "metadata": {},
   "source": [
    "#### Logistic Regression"
   ]
  },
  {
   "cell_type": "code",
   "execution_count": 12,
   "metadata": {},
   "outputs": [],
   "source": [
    "X = np.vstack([male_data, female_data])\n",
    "y = np.hstack([np.zeros(male_data.shape[0]), np.ones(female_data.shape[0])])"
   ]
  },
  {
   "cell_type": "code",
   "execution_count": 13,
   "metadata": {},
   "outputs": [],
   "source": [
    "from sklearn.model_selection import train_test_split\n",
    "from sklearn.linear_model import LogisticRegression\n",
    "from sklearn.metrics import log_loss, accuracy_score\n"
   ]
  },
  {
   "cell_type": "code",
   "execution_count": 14,
   "metadata": {},
   "outputs": [
    {
     "name": "stdout",
     "output_type": "stream",
     "text": [
      "Log Loss: 0.7773; Train Accuracy: 0.750; Test Accuracy: 0.429\n"
     ]
    }
   ],
   "source": [
    "X_train, X_test, y_train, y_test = train_test_split(X, y, test_size=0.2, random_state=42)\n",
    "\n",
    "# Fit a logistic regression model\n",
    "model = LogisticRegression()\n",
    "model.fit(X_train, y_train)\n",
    "\n",
    "# Predict probabilities on the test set\n",
    "y_pred_proba = model.predict_proba(X_test)\n",
    "\n",
    "# Compute log loss (cross-entropy loss)\n",
    "loss = log_loss(y_test, y_pred_proba)\n",
    "train_acc = accuracy_score(y_true=y_train, y_pred=model.predict(X_train))\n",
    "test_acc = accuracy_score(y_true=y_test, y_pred=model.predict(X_test))\n",
    "print(f\"Log Loss: {loss:.4f}; Train Accuracy: {train_acc:.3f}; Test Accuracy: {test_acc:.3f}\")"
   ]
  },
  {
   "cell_type": "markdown",
   "metadata": {},
   "source": [
    "#### KMeans"
   ]
  },
  {
   "cell_type": "code",
   "execution_count": 15,
   "metadata": {},
   "outputs": [
    {
     "name": "stdout",
     "output_type": "stream",
     "text": [
      "Clustering Accuracy: 0.7143\n"
     ]
    }
   ],
   "source": [
    "kmeans = KMeans(n_clusters=2, random_state=42)\n",
    "y_pred = kmeans.fit_predict(X)\n",
    "\n",
    "# Align predicted labels with true labels (clusters are arbitrarily labeled)\n",
    "if accuracy_score(y, y_pred) < accuracy_score(y, 1 - y_pred):\n",
    "    y_pred = 1 - y_pred\n",
    "\n",
    "# Calculate accuracy\n",
    "accuracy = accuracy_score(y, y_pred)\n",
    "print(f\"Clustering Accuracy: {accuracy:.4f}\")"
   ]
  }
 ],
 "metadata": {
  "kernelspec": {
   "display_name": "yolo",
   "language": "python",
   "name": "python3"
  },
  "language_info": {
   "codemirror_mode": {
    "name": "ipython",
    "version": 3
   },
   "file_extension": ".py",
   "mimetype": "text/x-python",
   "name": "python",
   "nbconvert_exporter": "python",
   "pygments_lexer": "ipython3",
   "version": "3.9.2"
  }
 },
 "nbformat": 4,
 "nbformat_minor": 2
}
