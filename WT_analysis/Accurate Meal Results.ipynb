{
 "cells": [
  {
   "cell_type": "code",
   "execution_count": 7,
   "metadata": {},
   "outputs": [],
   "source": [
    "import sys\n",
    "sys.path.insert(0, '../scripts')\n",
    "\n",
    "import torch\n",
    "\n",
    "from meal_classifiers import *\n",
    "from unsupervised_helpers import *\n",
    "from path import rev_male_raw, rev_female_raw\n",
    "time_threshold = 60 \n",
    "pellet_count_threshold = 2"
   ]
  },
  {
   "cell_type": "code",
   "execution_count": 8,
   "metadata": {},
   "outputs": [
    {
     "name": "stdout",
     "output_type": "stream",
     "text": [
      "Number of Pellets: 3, n_meals: 1353\n",
      "Number of Pellets: 4, n_meals: 908\n",
      "Number of Pellets: 5, n_meals: 512\n",
      "Total 3381 meals and keep 2773\n",
      "Number of Pellets: 5, n_meals: 275\n",
      "Number of Pellets: 3, n_meals: 1018\n",
      "Number of Pellets: 4, n_meals: 495\n",
      "Total 2359 meals and keep 1788\n"
     ]
    }
   ],
   "source": [
    "ctrl_data = extract_data_full_group('../data/reversal_male.xlsx', rev_male_raw)\n",
    "exp_data = extract_data_full_group('../data/reversal_female.xlsx', rev_female_raw)"
   ]
  },
  {
   "cell_type": "code",
   "execution_count": 9,
   "metadata": {},
   "outputs": [],
   "source": [
    "ctrl_input = dictionary2dataset(ctrl_data)\n",
    "exp_input = dictionary2dataset(exp_data)"
   ]
  },
  {
   "cell_type": "code",
   "execution_count": 10,
   "metadata": {},
   "outputs": [
    {
     "name": "stdout",
     "output_type": "stream",
     "text": [
      "Control Group: 1477/2773 good meals with proportion of 0.5326361341507393\n",
      "Experiment Group: 828/1788 good meals with proportion of 0.46308724832214765\n"
     ]
    }
   ],
   "source": [
    "model = RNNClassifier(input_size=1, hidden_size=400, num_layers=2, num_classes=2).to(device)\n",
    "model.load_state_dict(torch.load('../data/LSTM_from_CASK.pth'))\n",
    "evaluate_meals_on_new_data(model, ctrl_input.to(device), exp_input.to(device))"
   ]
  },
  {
   "cell_type": "code",
   "execution_count": 11,
   "metadata": {},
   "outputs": [
    {
     "name": "stdout",
     "output_type": "stream",
     "text": [
      "Control Group: 1471/2773 good meals with proportion of 0.5304724125495852\n",
      "Experiment Group: 816/1788 good meals with proportion of 0.4563758389261745\n"
     ]
    }
   ],
   "source": [
    "model = CNNClassifier(num_classes=2, maxlen=4).to(device)\n",
    "model.load_state_dict(torch.load('../data/CNN_from_CASK.pth'))\n",
    "evaluate_meals_on_new_data(model, ctrl_input.to(device), exp_input.to(device))"
   ]
  }
 ],
 "metadata": {
  "kernelspec": {
   "display_name": "ml_general",
   "language": "python",
   "name": "python3"
  },
  "language_info": {
   "codemirror_mode": {
    "name": "ipython",
    "version": 3
   },
   "file_extension": ".py",
   "mimetype": "text/x-python",
   "name": "python",
   "nbconvert_exporter": "python",
   "pygments_lexer": "ipython3",
   "version": "3.10.16"
  }
 },
 "nbformat": 4,
 "nbformat_minor": 2
}
