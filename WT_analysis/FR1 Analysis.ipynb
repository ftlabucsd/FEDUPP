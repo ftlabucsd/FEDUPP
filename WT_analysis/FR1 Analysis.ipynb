{
 "cells": [
  {
   "cell_type": "markdown",
   "metadata": {},
   "source": [
    "## CASK FR1 Correct Rate"
   ]
  },
  {
   "cell_type": "code",
   "execution_count": null,
   "metadata": {},
   "outputs": [],
   "source": [
    "import sys\n",
    "sys.path.insert(0, '../scripts')\n",
    "\n",
    "import os\n",
    "import numpy as np\n",
    "from accuracy import plot_cumulative_accuracy, read_and_record, graph_single_stats\n",
    "from path import fr1_female_path, fr1_female_sheets\n",
    "from meals import process_meal_data\n",
    "export_root = '../export/Figure 2/'\n",
    "os.makedirs(export_root, exist_ok=True)\n",
    "female_ending_corr = []\n",
    "female_learned_time = []\n",
    "female_acc_dict = {}\n",
    " \n",
    "group_data = []"
   ]
  },
  {
   "cell_type": "markdown",
   "metadata": {},
   "source": [
    "## Female Group"
   ]
  },
  {
   "cell_type": "code",
   "execution_count": null,
   "metadata": {},
   "outputs": [],
   "source": [
    "# R2M7 has false time signatures\n",
    "group_data = []\n",
    "\n",
    "for sheet in fr1_female_sheets:\n",
    "    try:\n",
    "        data = read_and_record(path=fr1_female_path, sheet=sheet, \n",
    "                            ending_corr=female_ending_corr, \n",
    "                            learned_time=female_learned_time,\n",
    "                            acc_dict=female_acc_dict)\n",
    "        group_data.append(data)\n",
    "    except ValueError:\n",
    "        continue\n",
    "plot_cumulative_accuracy([group_data], ['Wild Type Female'], bin_size_sec=180,\n",
    "                         export_path=os.path.join(export_root, f'Female_FR1_Accuracy.svg'))"
   ]
  },
  {
   "cell_type": "markdown",
   "metadata": {},
   "source": [
    "### Analysis"
   ]
  },
  {
   "cell_type": "markdown",
   "metadata": {},
   "source": [
    "#### Time need to reach 80% for 2 cont. hours"
   ]
  },
  {
   "cell_type": "code",
   "execution_count": null,
   "metadata": {},
   "outputs": [],
   "source": [
    "graph_single_stats(female_learned_time, group_name='Female', stats_name='First Learned Line', unit='hours', violin_width=0.3,\n",
    "                  export_path=os.path.join(export_root, 'WT_FirstLearnedLine_barplot.svg'))"
   ]
  },
  {
   "cell_type": "markdown",
   "metadata": {},
   "source": [
    "#### Ctrl/Cask Ending/Overall Correct Rate"
   ]
  },
  {
   "cell_type": "code",
   "execution_count": null,
   "metadata": {},
   "outputs": [],
   "source": [
    "graph_single_stats(female_ending_corr, group_name='Female', stats_name='Average Correct Rate', unit='%', violin_width=0.3,\n",
    "                  export_path=os.path.join(export_root, 'WT_accuracy_barplot.svg'))"
   ]
  },
  {
   "cell_type": "markdown",
   "metadata": {},
   "source": [
    "### Wild-Type FR1 Meal Analysis"
   ]
  },
  {
   "cell_type": "code",
   "execution_count": null,
   "metadata": {},
   "outputs": [],
   "source": [
    "export_root = '../export/Figure 2/WT_FR1_Meal/'\n",
    "os.makedirs(export_root, exist_ok=True)\n",
    "\n",
    "female_avg_pellet = [] # pellet per hour\n",
    "female_dark_meals = [] # percentage of meals in inactive/dark phase\n",
    "female_fir_meal = []\n",
    "female_fir_good_meal = []\n",
    "flip_female_meal_count = []\n",
    "female_in_meal_ratio = []"
   ]
  },
  {
   "cell_type": "code",
   "execution_count": null,
   "metadata": {},
   "outputs": [],
   "source": [
    "for sheet in fr1_female_sheets:\n",
    "    metrics = process_meal_data(sheet, fr1_female_path, is_cask=False, \n",
    "                                   export_root=export_root)\n",
    "    \n",
    "    female_avg_pellet.append(metrics['avg_pellet'])\n",
    "    female_dark_meals.append(metrics['dark_meals'])\n",
    "    female_fir_meal.append(metrics['fir_meal'])\n",
    "    female_fir_good_meal.append(metrics['fir_good_meal'])\n",
    "    flip_female_meal_count.append(metrics['meal_count'])\n",
    "    female_in_meal_ratio.append(metrics['in_meal_ratio'])"
   ]
  },
  {
   "cell_type": "code",
   "execution_count": null,
   "metadata": {},
   "outputs": [],
   "source": [
    "graph_single_stats(female_avg_pellet, stats_name='FR1 Average Pellet', unit='pellets', group_name='Female',\n",
    "                    violin_width=0.3, export_path=os.path.join(export_root, '..', 'WT_FR1_pellet counts.svg'))"
   ]
  },
  {
   "cell_type": "markdown",
   "metadata": {},
   "source": [
    "#### Time needed to start the first meal"
   ]
  },
  {
   "cell_type": "code",
   "execution_count": null,
   "metadata": {},
   "outputs": [],
   "source": [
    "graph_single_stats(female_fir_meal, stats_name='First Meal Time', unit='hours', group_name='Female',\n",
    "                  violin_width=0.3, export_path=os.path.join(export_root, '..', 'WT_1stMealTime.svg'))"
   ]
  },
  {
   "cell_type": "code",
   "execution_count": null,
   "metadata": {},
   "outputs": [],
   "source": [
    "graph_single_stats(female_fir_good_meal, stats_name='First Good Meal Time', unit='hours', group_name='Female',\n",
    "                  violin_width=0.3, export_path=os.path.join(export_root, '..', 'WT_1stGoodMealTime.svg'))"
   ]
  },
  {
   "cell_type": "code",
   "execution_count": null,
   "metadata": {},
   "outputs": [],
   "source": [
    "np.mean(female_in_meal_ratio), np.std(female_in_meal_ratio) / np.sqrt(len(female_in_meal_ratio))"
   ]
  }
 ],
 "metadata": {
  "kernelspec": {
   "display_name": "ml_general",
   "language": "python",
   "name": "python3"
  },
  "language_info": {
   "codemirror_mode": {
    "name": "ipython",
    "version": 3
   },
   "file_extension": ".py",
   "mimetype": "text/x-python",
   "name": "python",
   "nbconvert_exporter": "python",
   "pygments_lexer": "ipython3",
   "version": "3.10.16"
  },
  "orig_nbformat": 4
 },
 "nbformat": 4,
 "nbformat_minor": 2
}
