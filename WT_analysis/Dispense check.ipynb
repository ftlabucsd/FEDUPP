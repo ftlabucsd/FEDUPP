{
 "cells": [
  {
   "cell_type": "code",
   "execution_count": 1,
   "metadata": {},
   "outputs": [],
   "source": [
    "import sys\n",
    "sys.path.insert(0, '../scripts')\n",
    "import pandas as pd\n",
    "import json\n",
    "from path import fr1_female_path, fr1_female_sheets, rev_female_path, rev_female_sheets\n",
    "\n",
    "dispense_stats = {}"
   ]
  },
  {
   "cell_type": "code",
   "execution_count": 2,
   "metadata": {},
   "outputs": [],
   "source": [
    "def plot_motor_turn(excel_path, sheet):\n",
    "    data = pd.read_excel(excel_path, sheet_name=sheet)\n",
    "    data = data[(data['Event'] == 'Pellet') & (data['Motor_Turns'] > 1)][['Motor_Turns', 'Pellet_Count']]\n",
    "    exceeding_cnt = int((data['Motor_Turns'] > 15).astype(int).sum())\n",
    "    return exceeding_cnt, round(exceeding_cnt / len(data), 3)"
   ]
  },
  {
   "cell_type": "code",
   "execution_count": 3,
   "metadata": {},
   "outputs": [],
   "source": [
    "temp_dict = {}\n",
    "for sheet in fr1_female_sheets:\n",
    "    cnt, prop = plot_motor_turn(fr1_female_path, sheet)\n",
    "    temp_dict[sheet] = [cnt, prop]\n",
    "dispense_stats['FR1_female'] = temp_dict\n",
    "temp_dict = {}\n",
    "for sheet in rev_female_sheets:\n",
    "    cnt, prop = plot_motor_turn(rev_female_path, sheet)\n",
    "    temp_dict[sheet] = [cnt, prop]\n",
    "dispense_stats['rev_female'] = temp_dict"
   ]
  },
  {
   "cell_type": "code",
   "execution_count": 6,
   "metadata": {},
   "outputs": [],
   "source": [
    "with open('../stats/wt_dispense.json', 'w') as f:\n",
    "    json.dump(dispense_stats, f)"
   ]
  }
 ],
 "metadata": {
  "kernelspec": {
   "display_name": "yolo",
   "language": "python",
   "name": "python3"
  },
  "language_info": {
   "codemirror_mode": {
    "name": "ipython",
    "version": 3
   },
   "file_extension": ".py",
   "mimetype": "text/x-python",
   "name": "python",
   "nbconvert_exporter": "python",
   "pygments_lexer": "ipython3",
   "version": "3.9.2"
  }
 },
 "nbformat": 4,
 "nbformat_minor": 2
}
