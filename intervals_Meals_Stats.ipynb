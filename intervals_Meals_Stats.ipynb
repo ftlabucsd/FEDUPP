{
 "cells": [
  {
   "cell_type": "markdown",
   "metadata": {},
   "source": [
    "## Statistical Analysis for Pellet Intervals and Meal Count"
   ]
  },
  {
   "cell_type": "code",
   "execution_count": 3,
   "metadata": {},
   "outputs": [],
   "source": [
    "import intervals as invs"
   ]
  },
  {
   "cell_type": "markdown",
   "metadata": {},
   "source": [
    "### Data Available"
   ]
  },
  {
   "cell_type": "code",
   "execution_count": 5,
   "metadata": {},
   "outputs": [],
   "source": [
    "fr1_ctrl_meal_count = [23.75, 25.11, 19.19, 23.81, 28.23, 26.27, 26.36, 23.12, 23.01, 22.36, 24.49]\n",
    "fr1_cask_meal_count = [22.02, 20.19, 20.14, 24.03, 23.29, 18.01, 24.05, 37.98, 16.11, 31.0, 26.01]\n",
    "\n",
    "fr1_ctrl_avg_interval = [9.842, 8.601, 8.844, 8.892, 10.196, 9.483, 9.483, 9.441, 9.357, 9.465, 9.959]\n",
    "fr1_cask_avg_interval = [8.471, 8.098, 7.552, 10.5, 8.723, 8.979, 10.0, 11.458, 8.35, 12.322, 9.167]\n",
    "\n",
    "flip_ctrl_meal_count = [18.47, 20.14, 20.68, 21.2, 18.23, 25.04]\n",
    "flip_cask_meal_count = [21.82, 23.29, 18.65, 31.19, 37.4, 15.26, 23.74, 24.75, 24.38]\n",
    "\n",
    "flip_ctrl_avg_interval = [8.743, 8.449, 7.142, 8.203, 7.131, 8.253]\n",
    "flip_cask_avg_interval = [8.203, 8.273, 7.739, 10.776, 11.318, 4.823, 8.513, 7.52, 8.14]"
   ]
  },
  {
   "cell_type": "code",
   "execution_count": 6,
   "metadata": {},
   "outputs": [
    {
     "name": "stdout",
     "output_type": "stream",
     "text": [
      "P Value is  0.00015284172920070288\n",
      "There is a significant difference between the two groups.\n"
     ]
    }
   ],
   "source": [
    "invs.perform_T_test(fr1_ctrl_avg_interval, flip_ctrl_avg_interval)"
   ]
  },
  {
   "cell_type": "code",
   "execution_count": 9,
   "metadata": {},
   "outputs": [
    {
     "name": "stdout",
     "output_type": "stream",
     "text": [
      "P Value is  0.17856464345614634\n",
      "There is no significant difference between the two groups.\n"
     ]
    }
   ],
   "source": [
    "invs.perform_T_test(fr1_cask_avg_interval, flip_cask_avg_interval)"
   ]
  },
  {
   "cell_type": "code",
   "execution_count": 11,
   "metadata": {},
   "outputs": [
    {
     "name": "stdout",
     "output_type": "stream",
     "text": [
      "P Value is  0.011665105595407324\n",
      "There is a significant difference between the two groups.\n"
     ]
    }
   ],
   "source": [
    "invs.perform_T_test(fr1_ctrl_meal_count, flip_ctrl_meal_count)"
   ]
  },
  {
   "cell_type": "code",
   "execution_count": 12,
   "metadata": {},
   "outputs": [
    {
     "name": "stdout",
     "output_type": "stream",
     "text": [
      "P Value is  0.8341304458090785\n",
      "There is no significant difference between the two groups.\n"
     ]
    }
   ],
   "source": [
    "invs.perform_T_test(fr1_cask_meal_count, flip_cask_meal_count)"
   ]
  },
  {
   "cell_type": "code",
   "execution_count": 15,
   "metadata": {},
   "outputs": [
    {
     "name": "stdout",
     "output_type": "stream",
     "text": [
      "P Value is  0.9913431939384856\n",
      "There is no significant difference between the two groups.\n"
     ]
    }
   ],
   "source": [
    "invs.perform_T_test(fr1_ctrl_avg_interval, fr1_cask_avg_interval)"
   ]
  },
  {
   "cell_type": "code",
   "execution_count": 16,
   "metadata": {},
   "outputs": [
    {
     "name": "stdout",
     "output_type": "stream",
     "text": [
      "P Value is  0.6460661792629312\n",
      "There is no significant difference between the two groups.\n"
     ]
    }
   ],
   "source": [
    "invs.perform_T_test(flip_ctrl_avg_interval, flip_cask_avg_interval)"
   ]
  },
  {
   "cell_type": "code",
   "execution_count": 17,
   "metadata": {},
   "outputs": [
    {
     "name": "stdout",
     "output_type": "stream",
     "text": [
      "P Value is  0.897258533560581\n",
      "There is no significant difference between the two groups.\n"
     ]
    }
   ],
   "source": [
    "invs.perform_T_test(fr1_ctrl_meal_count, fr1_cask_meal_count)"
   ]
  },
  {
   "cell_type": "code",
   "execution_count": 20,
   "metadata": {},
   "outputs": [
    {
     "name": "stdout",
     "output_type": "stream",
     "text": [
      "P Value is  0.19212052406368524\n",
      "There is no significant difference between the two groups.\n"
     ]
    }
   ],
   "source": [
    "invs.perform_T_test(flip_ctrl_meal_count, flip_cask_meal_count)"
   ]
  },
  {
   "cell_type": "code",
   "execution_count": null,
   "metadata": {},
   "outputs": [],
   "source": []
  }
 ],
 "metadata": {
  "kernelspec": {
   "display_name": "base",
   "language": "python",
   "name": "python3"
  },
  "language_info": {
   "codemirror_mode": {
    "name": "ipython",
    "version": 3
   },
   "file_extension": ".py",
   "mimetype": "text/x-python",
   "name": "python",
   "nbconvert_exporter": "python",
   "pygments_lexer": "ipython3",
   "version": "3.10.13"
  }
 },
 "nbformat": 4,
 "nbformat_minor": 2
}
