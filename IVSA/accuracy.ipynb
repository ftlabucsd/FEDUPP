{
 "cells": [
  {
   "cell_type": "markdown",
   "metadata": {},
   "source": [
    "## CD1 IVSA FR1 Correct Rate"
   ]
  },
  {
   "cell_type": "code",
   "execution_count": 8,
   "metadata": {},
   "outputs": [
    {
     "name": "stdout",
     "output_type": "stream",
     "text": [
      "/home/ftlab/Desktop/For_Andy/FED3-data/IVSA/../scripts\n",
      "28\n",
      "17\n"
     ]
    }
   ],
   "source": [
    "import matplotlib.pyplot as plt\n",
    "import numpy as np\n",
    "import os\n",
    "import sys\n",
    "\n",
    "# curr_dir = os.getcwd()\n",
    "# parent_dir = os.path.join(curr_dir, os.pardir)\n",
    "# parent_dir = os.path.join(parent_dir, 'scripts')\n",
    "# sys.path.append(parent_dir)\n",
    "# print(sys.path[-1])\n",
    "import intervals as invs\n",
    "from accuracy import graph_cumulative_acc, instant_acc, time_high_acc, graph_instant_acc, graph_avg_corr_rate\n",
    "from preprocessing import read_csv_clean\n",
    "import paths"
   ]
  },
  {
   "cell_type": "code",
   "execution_count": null,
   "metadata": {},
   "outputs": [],
   "source": []
  },
  {
   "cell_type": "code",
   "execution_count": null,
   "metadata": {},
   "outputs": [],
   "source": [
    "ctrl_ending_corr = []\n",
    "cask_ending_corr = []\n",
    "ctrl_dict_corr = {}\n",
    "cask_dict_corr = {}\n",
    "\n",
    "def read_and_record(path:str, ending_corr:list, dict_corr:list):\n",
    "    df = read_csv_clean(path)\n",
    "    value = df['Percent_Correct'].tail(1).values[0]\n",
    "    key = path\n",
    "    ending_corr.append(value)\n",
    "    dict_corr[key] = value\n",
    "    return df"
   ]
  }
 ],
 "metadata": {
  "kernelspec": {
   "display_name": "yolo",
   "language": "python",
   "name": "python3"
  },
  "language_info": {
   "codemirror_mode": {
    "name": "ipython",
    "version": 3
   },
   "file_extension": ".py",
   "mimetype": "text/x-python",
   "name": "python",
   "nbconvert_exporter": "python",
   "pygments_lexer": "ipython3",
   "version": "3.9.2"
  }
 },
 "nbformat": 4,
 "nbformat_minor": 2
}
