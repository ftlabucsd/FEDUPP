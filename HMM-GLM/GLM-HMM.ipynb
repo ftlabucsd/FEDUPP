{
 "cells": [
  {
   "cell_type": "markdown",
   "metadata": {},
   "source": [
    "## HMM-GLM Model In Our Dataset"
   ]
  },
  {
   "cell_type": "code",
   "execution_count": 1,
   "metadata": {},
   "outputs": [
    {
     "name": "stderr",
     "output_type": "stream",
     "text": [
      "/Users/yaomingyang/anaconda3/envs/glmhmm/lib/python3.10/site-packages/tqdm/auto.py:21: TqdmWarning: IProgress not found. Please update jupyter and ipywidgets. See https://ipywidgets.readthedocs.io/en/stable/user_install.html\n",
      "  from .autonotebook import tqdm as notebook_tqdm\n"
     ]
    }
   ],
   "source": [
    "import pandas as pd\n",
    "import numpy.random as npr\n",
    "import matplotlib.pyplot as plt\n",
    "import ssm\n",
    "from ssm.util import find_permutation\n",
    "import Preprocessing as pp\n",
    "\n",
    "npr.seed(0)"
   ]
  },
  {
   "cell_type": "code",
   "execution_count": 6,
   "metadata": {},
   "outputs": [],
   "source": [
    "# Set the parameters of the GLM-HMM\n",
    "num_states = 3        # number of discrete states\n",
    "obs_dim = 1           # number of observed dimensions\n",
    "num_categories = 3    # number of categories for output\n",
    "input_dim = 3         # input dimensions\n",
    "max_iter = 200        # max number of iteration in EM part\n",
    "\n",
    "# Make a GLM-HMM\n",
    "true_glmhmm = ssm.HMM(num_states, obs_dim, input_dim, observations=\"input_driven_obs\", \n",
    "                   observation_kwargs=dict(C=num_categories), transitions=\"standard\")"
   ]
  },
  {
   "cell_type": "code",
   "execution_count": 7,
   "metadata": {},
   "outputs": [
    {
     "data": {
      "text/plain": [
       "['Right', 'Pellet']"
      ]
     },
     "execution_count": 7,
     "metadata": {},
     "output_type": "execute_result"
    }
   ],
   "source": [
    "X, y = pp.extract_features(\n",
    "    '/Users/yaomingyang/Documents/VS Code/lab/behavior data integrated/Bhv 7 - Ctrl/M2/Contingency Flip/FED000_071823_00.CSV'\n",
    "    )\n",
    "y[:2]"
   ]
  },
  {
   "cell_type": "code",
   "execution_count": 8,
   "metadata": {},
   "outputs": [
    {
     "ename": "AttributeError",
     "evalue": "'str' object has no attribute 'shape'",
     "output_type": "error",
     "traceback": [
      "\u001b[0;31m---------------------------------------------------------------------------\u001b[0m",
      "\u001b[0;31mAttributeError\u001b[0m                            Traceback (most recent call last)",
      "\u001b[1;32m/Users/yaomingyang/Documents/VS Code/lab/FED3-data/HMM-GLM/GLM-HMM.ipynb Cell 5\u001b[0m line \u001b[0;36m1\n\u001b[0;32m----> <a href='vscode-notebook-cell:/Users/yaomingyang/Documents/VS%20Code/lab/FED3-data/HMM-GLM/GLM-HMM.ipynb#W3sZmlsZQ%3D%3D?line=0'>1</a>\u001b[0m true_glmhmm\u001b[39m.\u001b[39;49mfit(y, inputs\u001b[39m=\u001b[39;49mX, method\u001b[39m=\u001b[39;49m\u001b[39m'\u001b[39;49m\u001b[39mem\u001b[39;49m\u001b[39m'\u001b[39;49m, num_iters\u001b[39m=\u001b[39;49mmax_iter, tolerance\u001b[39m=\u001b[39;49m\u001b[39m10\u001b[39;49m\u001b[39m*\u001b[39;49m\u001b[39m*\u001b[39;49m\u001b[39m-\u001b[39;49m\u001b[39m4\u001b[39;49m)\n",
      "File \u001b[0;32m~/Documents/VS Code/lab/FED3-data/HMM-GLM/ssm/ssm/util.py:111\u001b[0m, in \u001b[0;36mensure_args_are_lists.<locals>.wrapper\u001b[0;34m(self, datas, inputs, masks, tags, **kwargs)\u001b[0m\n\u001b[1;32m    108\u001b[0m \u001b[39melif\u001b[39;00m \u001b[39mnot\u001b[39;00m \u001b[39misinstance\u001b[39m(tags, (\u001b[39mlist\u001b[39m, \u001b[39mtuple\u001b[39m)):\n\u001b[1;32m    109\u001b[0m     tags \u001b[39m=\u001b[39m [tags]\n\u001b[0;32m--> 111\u001b[0m \u001b[39mreturn\u001b[39;00m f(\u001b[39mself\u001b[39;49m, datas, inputs\u001b[39m=\u001b[39;49minputs, masks\u001b[39m=\u001b[39;49mmasks, tags\u001b[39m=\u001b[39;49mtags, \u001b[39m*\u001b[39;49m\u001b[39m*\u001b[39;49mkwargs)\n",
      "File \u001b[0;32m~/Documents/VS Code/lab/FED3-data/HMM-GLM/ssm/ssm/hmm.py:496\u001b[0m, in \u001b[0;36mHMM.fit\u001b[0;34m(self, datas, inputs, masks, tags, verbose, method, initialize, init_method, **kwargs)\u001b[0m\n\u001b[1;32m    492\u001b[0m     \u001b[39mraise\u001b[39;00m \u001b[39mException\u001b[39;00m(\u001b[39m\"\u001b[39m\u001b[39mInvalid method: \u001b[39m\u001b[39m{}\u001b[39;00m\u001b[39m. Options are \u001b[39m\u001b[39m{}\u001b[39;00m\u001b[39m\"\u001b[39m\u001b[39m.\u001b[39m\n\u001b[1;32m    493\u001b[0m                     \u001b[39mformat\u001b[39m(method, _fitting_methods\u001b[39m.\u001b[39mkeys()))\n\u001b[1;32m    495\u001b[0m \u001b[39mif\u001b[39;00m initialize:\n\u001b[0;32m--> 496\u001b[0m     \u001b[39mself\u001b[39;49m\u001b[39m.\u001b[39;49minitialize(datas,\n\u001b[1;32m    497\u001b[0m                     inputs\u001b[39m=\u001b[39;49minputs,\n\u001b[1;32m    498\u001b[0m                     masks\u001b[39m=\u001b[39;49mmasks,\n\u001b[1;32m    499\u001b[0m                     tags\u001b[39m=\u001b[39;49mtags,\n\u001b[1;32m    500\u001b[0m                     init_method\u001b[39m=\u001b[39;49minit_method)\n\u001b[1;32m    502\u001b[0m \u001b[39mif\u001b[39;00m \u001b[39misinstance\u001b[39m(\u001b[39mself\u001b[39m\u001b[39m.\u001b[39mtransitions,\n\u001b[1;32m    503\u001b[0m               trans\u001b[39m.\u001b[39mConstrainedStationaryTransitions):\n\u001b[1;32m    504\u001b[0m     \u001b[39mif\u001b[39;00m method \u001b[39m!=\u001b[39m \u001b[39m\"\u001b[39m\u001b[39mem\u001b[39m\u001b[39m\"\u001b[39m:\n",
      "File \u001b[0;32m~/Documents/VS Code/lab/FED3-data/HMM-GLM/ssm/ssm/util.py:111\u001b[0m, in \u001b[0;36mensure_args_are_lists.<locals>.wrapper\u001b[0;34m(self, datas, inputs, masks, tags, **kwargs)\u001b[0m\n\u001b[1;32m    108\u001b[0m \u001b[39melif\u001b[39;00m \u001b[39mnot\u001b[39;00m \u001b[39misinstance\u001b[39m(tags, (\u001b[39mlist\u001b[39m, \u001b[39mtuple\u001b[39m)):\n\u001b[1;32m    109\u001b[0m     tags \u001b[39m=\u001b[39m [tags]\n\u001b[0;32m--> 111\u001b[0m \u001b[39mreturn\u001b[39;00m f(\u001b[39mself\u001b[39;49m, datas, inputs\u001b[39m=\u001b[39;49minputs, masks\u001b[39m=\u001b[39;49mmasks, tags\u001b[39m=\u001b[39;49mtags, \u001b[39m*\u001b[39;49m\u001b[39m*\u001b[39;49mkwargs)\n",
      "File \u001b[0;32m~/Documents/VS Code/lab/FED3-data/HMM-GLM/ssm/ssm/hmm.py:148\u001b[0m, in \u001b[0;36mHMM.initialize\u001b[0;34m(self, datas, inputs, masks, tags, init_method)\u001b[0m\n\u001b[1;32m    146\u001b[0m \u001b[39mself\u001b[39m\u001b[39m.\u001b[39minit_state_distn\u001b[39m.\u001b[39minitialize(datas, inputs\u001b[39m=\u001b[39minputs, masks\u001b[39m=\u001b[39mmasks, tags\u001b[39m=\u001b[39mtags)\n\u001b[1;32m    147\u001b[0m \u001b[39mself\u001b[39m\u001b[39m.\u001b[39mtransitions\u001b[39m.\u001b[39minitialize(datas, inputs\u001b[39m=\u001b[39minputs, masks\u001b[39m=\u001b[39mmasks, tags\u001b[39m=\u001b[39mtags)\n\u001b[0;32m--> 148\u001b[0m \u001b[39mself\u001b[39;49m\u001b[39m.\u001b[39;49mobservations\u001b[39m.\u001b[39;49minitialize(datas, inputs\u001b[39m=\u001b[39;49minputs, masks\u001b[39m=\u001b[39;49mmasks, tags\u001b[39m=\u001b[39;49mtags, init_method\u001b[39m=\u001b[39;49minit_method)\n",
      "File \u001b[0;32m~/Documents/VS Code/lab/FED3-data/HMM-GLM/ssm/ssm/util.py:111\u001b[0m, in \u001b[0;36mensure_args_are_lists.<locals>.wrapper\u001b[0;34m(self, datas, inputs, masks, tags, **kwargs)\u001b[0m\n\u001b[1;32m    108\u001b[0m \u001b[39melif\u001b[39;00m \u001b[39mnot\u001b[39;00m \u001b[39misinstance\u001b[39m(tags, (\u001b[39mlist\u001b[39m, \u001b[39mtuple\u001b[39m)):\n\u001b[1;32m    109\u001b[0m     tags \u001b[39m=\u001b[39m [tags]\n\u001b[0;32m--> 111\u001b[0m \u001b[39mreturn\u001b[39;00m f(\u001b[39mself\u001b[39;49m, datas, inputs\u001b[39m=\u001b[39;49minputs, masks\u001b[39m=\u001b[39;49mmasks, tags\u001b[39m=\u001b[39;49mtags, \u001b[39m*\u001b[39;49m\u001b[39m*\u001b[39;49mkwargs)\n",
      "File \u001b[0;32m~/Documents/VS Code/lab/FED3-data/HMM-GLM/ssm/ssm/observations.py:43\u001b[0m, in \u001b[0;36mObservations.initialize\u001b[0;34m(self, datas, inputs, masks, tags, init_method)\u001b[0m\n\u001b[1;32m     40\u001b[0m \u001b[39m@ensure_args_are_lists\u001b[39m\n\u001b[1;32m     41\u001b[0m \u001b[39mdef\u001b[39;00m \u001b[39minitialize\u001b[39m(\u001b[39mself\u001b[39m, datas, inputs\u001b[39m=\u001b[39m\u001b[39mNone\u001b[39;00m, masks\u001b[39m=\u001b[39m\u001b[39mNone\u001b[39;00m, tags\u001b[39m=\u001b[39m\u001b[39mNone\u001b[39;00m,\n\u001b[1;32m     42\u001b[0m                init_method\u001b[39m=\u001b[39m\u001b[39m\"\u001b[39m\u001b[39mrandom\u001b[39m\u001b[39m\"\u001b[39m):\n\u001b[0;32m---> 43\u001b[0m     Ts \u001b[39m=\u001b[39m [data\u001b[39m.\u001b[39mshape[\u001b[39m0\u001b[39m] \u001b[39mfor\u001b[39;00m data \u001b[39min\u001b[39;00m datas]\n\u001b[1;32m     45\u001b[0m     \u001b[39m# Get initial discrete states\u001b[39;00m\n\u001b[1;32m     46\u001b[0m     \u001b[39mif\u001b[39;00m init_method\u001b[39m.\u001b[39mlower() \u001b[39m==\u001b[39m \u001b[39m'\u001b[39m\u001b[39mkmeans\u001b[39m\u001b[39m'\u001b[39m:\n\u001b[1;32m     47\u001b[0m         \u001b[39m# KMeans clustering\u001b[39;00m\n",
      "File \u001b[0;32m~/Documents/VS Code/lab/FED3-data/HMM-GLM/ssm/ssm/observations.py:43\u001b[0m, in \u001b[0;36m<listcomp>\u001b[0;34m(.0)\u001b[0m\n\u001b[1;32m     40\u001b[0m \u001b[39m@ensure_args_are_lists\u001b[39m\n\u001b[1;32m     41\u001b[0m \u001b[39mdef\u001b[39;00m \u001b[39minitialize\u001b[39m(\u001b[39mself\u001b[39m, datas, inputs\u001b[39m=\u001b[39m\u001b[39mNone\u001b[39;00m, masks\u001b[39m=\u001b[39m\u001b[39mNone\u001b[39;00m, tags\u001b[39m=\u001b[39m\u001b[39mNone\u001b[39;00m,\n\u001b[1;32m     42\u001b[0m                init_method\u001b[39m=\u001b[39m\u001b[39m\"\u001b[39m\u001b[39mrandom\u001b[39m\u001b[39m\"\u001b[39m):\n\u001b[0;32m---> 43\u001b[0m     Ts \u001b[39m=\u001b[39m [data\u001b[39m.\u001b[39;49mshape[\u001b[39m0\u001b[39m] \u001b[39mfor\u001b[39;00m data \u001b[39min\u001b[39;00m datas]\n\u001b[1;32m     45\u001b[0m     \u001b[39m# Get initial discrete states\u001b[39;00m\n\u001b[1;32m     46\u001b[0m     \u001b[39mif\u001b[39;00m init_method\u001b[39m.\u001b[39mlower() \u001b[39m==\u001b[39m \u001b[39m'\u001b[39m\u001b[39mkmeans\u001b[39m\u001b[39m'\u001b[39m:\n\u001b[1;32m     47\u001b[0m         \u001b[39m# KMeans clustering\u001b[39;00m\n",
      "\u001b[0;31mAttributeError\u001b[0m: 'str' object has no attribute 'shape'"
     ]
    }
   ],
   "source": [
    "true_glmhmm.fit(y, inputs=X, method='em', num_iters=max_iter, tolerance=10**-4)"
   ]
  }
 ],
 "metadata": {
  "kernelspec": {
   "display_name": "base",
   "language": "python",
   "name": "python3"
  },
  "language_info": {
   "codemirror_mode": {
    "name": "ipython",
    "version": 3
   },
   "file_extension": ".py",
   "mimetype": "text/x-python",
   "name": "python",
   "nbconvert_exporter": "python",
   "pygments_lexer": "ipython3",
   "version": "3.10.9"
  },
  "orig_nbformat": 4
 },
 "nbformat": 4,
 "nbformat_minor": 2
}
