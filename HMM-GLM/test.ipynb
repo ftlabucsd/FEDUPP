{
 "cells": [
  {
   "cell_type": "code",
   "execution_count": 24,
   "metadata": {},
   "outputs": [],
   "source": [
    "import pandas as pd\n",
    "import numpy.random as npr\n",
    "import matplotlib.pyplot as plt\n",
    "import ssm\n",
    "import utils as uls\n",
    "import numpy as np\n",
    "import seaborn as sns\n",
    "from sklearn.metrics import accuracy_score\n",
    "\n",
    "import sys\n",
    "sys.path.append('..')\n",
    "import meals as ml\n",
    "\n",
    "npr.seed(0)"
   ]
  },
  {
   "cell_type": "code",
   "execution_count": 25,
   "metadata": {},
   "outputs": [],
   "source": [
    "def in_meal(meals: list, time) -> bool:\n",
    "    for each in meals:\n",
    "        if time >= each[0] and time <= each[1]:\n",
    "            return True\n",
    "    return False"
   ]
  },
  {
   "cell_type": "code",
   "execution_count": 30,
   "metadata": {},
   "outputs": [
    {
     "name": "stdout",
     "output_type": "stream",
     "text": [
      "0       False\n",
      "1       False\n",
      "3       False\n",
      "4        True\n",
      "6        True\n",
      "        ...  \n",
      "1573     True\n",
      "1575    False\n",
      "1577    False\n",
      "1579    False\n",
      "1581    False\n",
      "Name: meal, Length: 1066, dtype: bool\n"
     ]
    },
    {
     "data": {
      "text/plain": [
       "array([[1, 162, 0, 1, False, 1],\n",
       "       [1, 162, 0, 1, False, 1],\n",
       "       [1, 162, 0, 1, False, 1],\n",
       "       ...,\n",
       "       [0, 386, 0, 0, False, 1],\n",
       "       [0, 387, 0, 0, False, 1],\n",
       "       [0, 387, 1, 0, False, 1]], dtype=object)"
      ]
     },
     "execution_count": 30,
     "metadata": {},
     "output_type": "execute_result"
    }
   ],
   "source": [
    "data = pd.read_csv(\n",
    "    '../../behavior data integrated/Bhv 7 - Ctrl/M2/Contingency Flip/FED000_071823_00.CSV')\n",
    "\n",
    "data = data[['MM:DD:YYYY hh:mm:ss', 'Event', 'Active_Poke', 'Pellet_Count']].replace(\n",
    "    {'LeftWithPellet': 'Left', 'LeftDuringDispense': 'Left',\n",
    "     'RightWithPellet': 'Right', 'RightDuringDispense': 'Right'}).rename(\n",
    "    {'MM:DD:YYYY hh:mm:ss': 'Time'}, axis='columns')\n",
    "data['Time'] = pd.to_datetime(data['Time'])\n",
    "\n",
    "meals = ml.find_meals(data)\n",
    "\n",
    "data = data[data['Event'] != 'Pellet']\n",
    "\n",
    "data['prev_event'] = data['Event'].shift(fill_value=None)\n",
    "data['prev_active'] = data['Active_Poke'].shift(fill_value=None)\n",
    "data['meal'] = [in_meal(meals, each) for each in data['Time']]\n",
    "print(data['meal'])\n",
    "\n",
    "# Extract the date and time\n",
    "data['Date'] = data['Time'].dt.date\n",
    "data['Time_of_day'] = data['Time'].dt.time\n",
    "\n",
    "# second day\n",
    "unique_dates = data['Date'].unique()\n",
    "second_day = unique_dates[1]\n",
    "third_day = unique_dates[2]\n",
    "\n",
    "# Filter rows for the second day between 7:00 a.m. and 11:00 a.m.\n",
    "start_time = pd.to_datetime('07:00:00').time()\n",
    "end_time = pd.to_datetime('13:00:00').time()\n",
    "\n",
    "second_day_data = data[(data['Date'] == second_day) & (\n",
    "    data['Time_of_day'] >= start_time) & (data['Time_of_day'] <= end_time)]\n",
    "\n",
    "third_day_data = data[(data['Date'] == third_day) & (\n",
    "    data['Time_of_day'] >= start_time) & (data['Time_of_day'] <= end_time)]\n",
    "\n",
    "selected_rows = pd.concat([second_day_data, third_day_data], axis='index')\n",
    "selected_rows = selected_rows.drop(['Date', 'Time_of_day', 'Time'], axis=1)\n",
    "\n",
    "X = selected_rows.drop(['Event'], axis='columns')\n",
    "y = selected_rows['Event']\n",
    "\n",
    "mapper = {'Left': 0, 'Right': 1}\n",
    "\n",
    "X['Active_Poke'] = X['Active_Poke'].map(mapper)\n",
    "\n",
    "X['prev_event'] = X['prev_event'].map(mapper)\n",
    "X['prev_active'] = X['prev_active'].map(mapper)\n",
    "\n",
    "X['bias'] = 1\n",
    "y = y.map(mapper)\n",
    "Y = []\n",
    "for each in y:\n",
    "    Y.append([each])\n",
    "# return X.to_numpy(), np.array(Y)\n",
    "X.to_numpy()\n"
   ]
  }
 ],
 "metadata": {
  "kernelspec": {
   "display_name": "glmhmm",
   "language": "python",
   "name": "python3"
  },
  "language_info": {
   "codemirror_mode": {
    "name": "ipython",
    "version": 3
   },
   "file_extension": ".py",
   "mimetype": "text/x-python",
   "name": "python",
   "nbconvert_exporter": "python",
   "pygments_lexer": "ipython3",
   "version": "3.10.9"
  }
 },
 "nbformat": 4,
 "nbformat_minor": 2
}
