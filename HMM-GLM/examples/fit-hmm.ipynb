{
 "cells": [
  {
   "cell_type": "markdown",
   "metadata": {},
   "source": [
    "### Simple Example for Fitting a Hidden Markov Model (HMM) "
   ]
  },
  {
   "cell_type": "markdown",
   "metadata": {},
   "source": [
    "This notebook is designed to help users get started using the glm-hmm package to fit HMMs to their data. Here we use simulated data so that we can check that we are inferring the correct model parameters, but the same fitting procedure applies when using real experimental data. All the same general ideas (code structure and parameter validation) also apply when fitting GLM-HMMs. For more details on that model, see the fit-glm-hmm.ipynb notebook. "
   ]
  },
  {
   "cell_type": "markdown",
   "metadata": {},
   "source": [
    "#### 1. Import the required code packages and modules."
   ]
  },
  {
   "cell_type": "code",
   "execution_count": 1,
   "metadata": {},
   "outputs": [],
   "source": [
    "import sys\n",
    "import matplotlib.pyplot as plt\n",
    "import numpy as np\n",
    "from sklearn.model_selection import KFold\n",
    "from glmhmm import hmm\n",
    "from glmhmm.utils import permute_states, find_best_fit\n",
    "from glmhmm.visualize import plot_model_params"
   ]
  },
  {
   "cell_type": "markdown",
   "metadata": {},
   "source": [
    "#### 2. Set the hyper-parameters of the HMM"
   ]
  },
  {
   "cell_type": "code",
   "execution_count": 2,
   "metadata": {},
   "outputs": [],
   "source": [
    "N = 20000 # number of data/time points\n",
    "K = 2 # number of latent states\n",
    "C = 2 # number of observation classes"
   ]
  },
  {
   "cell_type": "markdown",
   "metadata": {},
   "source": [
    "#### 3. Instantiate the model and generate true parameters"
   ]
  },
  {
   "cell_type": "markdown",
   "metadata": {},
   "source": [
    "The parameters of an HMM include the transition probabilities $A$, the observation (or emission) probabilities $\\phi$, and the initial state probabilities $\\pi$."
   ]
  },
  {
   "cell_type": "code",
   "execution_count": 3,
   "metadata": {},
   "outputs": [],
   "source": [
    "true_HMM = hmm.HMM(N,0,C,K)\n",
    "A_true,phi_true,pi_true = true_HMM.generate_params()"
   ]
  },
  {
   "cell_type": "markdown",
   "metadata": {},
   "source": [
    "#### 4. Given the true parameters, generate some data. "
   ]
  },
  {
   "cell_type": "markdown",
   "metadata": {},
   "source": [
    "The data include the observations $y$ and the latent states $z$ at each time point. "
   ]
  },
  {
   "cell_type": "code",
   "execution_count": 4,
   "metadata": {},
   "outputs": [],
   "source": [
    "true_y,true_z = true_HMM.generate_data(A_true,phi_true)"
   ]
  },
  {
   "cell_type": "markdown",
   "metadata": {},
   "source": [
    "#### 5. Fit the model"
   ]
  },
  {
   "cell_type": "markdown",
   "metadata": {},
   "source": [
    "The fitting code uses the expectation maximization (EM) algorithm to infer the model parameters. Because EM does not guarantee that it will find the best fit (global optimum) and inference is often dependent on the choice of parameter initialization, it is often best to fit the model multiple times using different initializations and then select the best one based on which fit obtained the highest log-likelihood. <b>Note:</b> For this example, we are not inferring the initial state probabilities, but instead assuming a uniform distribution over the initial states. See the deterministic annealing HMM notebook for an example where we also infer the initial state probabilities."
   ]
  },
  {
   "cell_type": "code",
   "execution_count": 15,
   "metadata": {},
   "outputs": [
    {
     "name": "stdout",
     "output_type": "stream",
     "text": [
      "initialization 1 complete\n",
      "initialization 2 complete\n"
     ]
    }
   ],
   "source": [
    "inits = 2 # set the number of initializations\n",
    "\n",
    "# store values for each initialization\n",
    "lls_all = np.zeros((inits,250))\n",
    "A_all = np.zeros((inits,K,K))\n",
    "phi_all = np.zeros((inits,K,C))\n",
    "\n",
    "# fit the model for each initialization\n",
    "for i in range(inits):\n",
    "    A_init,phi_init,pi_init = true_HMM.generate_params() # initialize the model parameters\n",
    "    lls_all[i,:],A_all[i,:,:],phi_all[i,:,:],pi0 = true_HMM.fit(true_y,A_init,phi_init) # fit the model\n",
    "    print('initialization %s complete' %(i+1))"
   ]
  },
  {
   "cell_type": "markdown",
   "metadata": {},
   "source": [
    "#### 6. Compare the inferred model parameters for the best fit to the true parameter values."
   ]
  },
  {
   "cell_type": "code",
   "execution_count": 39,
   "metadata": {},
   "outputs": [
    {
     "data": {
      "text/plain": [
       "Text(0.5, 1.0, 'Inferred $\\\\phi$')"
      ]
     },
     "execution_count": 39,
     "metadata": {},
     "output_type": "execute_result"
    },
    {
     "data": {
      "image/png": "[encoded data removed]",
      "text/plain": [
       "<Figure size 432x288 with 2 Axes>"
      ]
     },
     "metadata": {},
     "output_type": "display_data"
    },
    {
     "data": {
      "image/png": "[encoded data removed]",
      "text/plain": [
       "<Figure size 432x288 with 2 Axes>"
      ]
     },
     "metadata": {},
     "output_type": "display_data"
    }
   ],
   "source": [
    "bestix = find_best_fit(lls_all) # find the initialization that led to the best fit\n",
    "\n",
    "# for easy comparison permute the states in order from highest to lowest self-transition probability\n",
    "A_permuted, order = permute_states(A_all[bestix])\n",
    "A_true_permuted, order_true = permute_states(A_true)\n",
    "\n",
    "# plot the true vs. inferred transition probabilities\n",
    "fig, ax = plt.subplots(1,2,sharey=True)\n",
    "    \n",
    "plot_model_params(A_true_permuted,ax[0])\n",
    "plot_model_params(A_permuted, ax[1])\n",
    "\n",
    "ax[0].set_title('True $A$')\n",
    "ax[1].set_title('Inferred $A$')\n",
    "\n",
    "# permute the observation probability matrices according to the above order\n",
    "phi_permuted,_ = permute_states(phi_all[bestix],method='order',param='observations',order=order)\n",
    "phi_true_permuted,_ = permute_states(phi_true,method='order',param='observations',order=order_true)\n",
    "\n",
    "# plot the true vs. inferred observation probabilities\n",
    "fig, ax = plt.subplots(1,2,sharey=True)\n",
    "    \n",
    "plot_model_params(phi_true_permuted,ax[0])\n",
    "plot_model_params(phi_permuted, ax[1])\n",
    "\n",
    "ax[0].set_title('True $\\phi$')\n",
    "ax[1].set_title('Inferred $\\phi$')"
   ]
  },
  {
   "cell_type": "markdown",
   "metadata": {},
   "source": [
    "#### 7. Cross validation can further assess model performance."
   ]
  },
  {
   "cell_type": "markdown",
   "metadata": {},
   "source": [
    "We can also compare the true vs inferred log-likelihood to see how close we came to the global optimum in our fitting procedure. The best way to do this is to use cross validation, where we split the data into training and test sets and compare the log-likelihoods of the test data. To be rigorous, we should use <i>multi-fold</i> cross-validation, where we split the data into multiple (non-overlapping) train and test sets, fit the model to each of the train sets, evaluate the log-likelihood on each of the test sets, and then take the average. "
   ]
  },
  {
   "cell_type": "code",
   "execution_count": 40,
   "metadata": {},
   "outputs": [],
   "source": [
    "# split the data into five folds\n",
    "folds = 5\n",
    "train_size = int(N - N/folds)\n",
    "test_size = int(N/folds)\n",
    "y_train = np.zeros((folds,train_size))\n",
    "y_test = np.zeros((folds,test_size))\n",
    "kf = KFold(n_splits=folds)\n",
    "kf.get_n_splits(true_y)\n",
    "for i, (train_index, test_index) in enumerate(kf.split(true_y)):\n",
    "    y_train[i,:], y_test[i,:] = true_y[train_index], true_y[test_index]"
   ]
  },
  {
   "cell_type": "code",
   "execution_count": 41,
   "metadata": {},
   "outputs": [
    {
     "name": "stdout",
     "output_type": "stream",
     "text": [
      "initialization 1 complete\n",
      "initialization 2 complete\n",
      "fold 1 complete \n",
      "\n",
      "initialization 1 complete\n",
      "initialization 2 complete\n",
      "fold 2 complete \n",
      "\n",
      "initialization 1 complete\n",
      "initialization 2 complete\n",
      "fold 3 complete \n",
      "\n",
      "initialization 1 complete\n",
      "initialization 2 complete\n",
      "fold 4 complete \n",
      "\n",
      "initialization 1 complete\n",
      "initialization 2 complete\n",
      "fold 5 complete \n",
      "\n"
     ]
    }
   ],
   "source": [
    "inits = 2 # set the number of initializations\n",
    "true_HMM.n = train_size # reset the number of data points in accordance with the size of the training set\n",
    "# store values for each initialization\n",
    "A_all = np.zeros((folds,inits,K,K))\n",
    "phi_all = np.zeros((folds,inits,K,C))\n",
    "\n",
    "# fit the model for each training set and each initialization\n",
    "for i in range(folds):\n",
    "    for j in range(inits):\n",
    "        A_init,phi_init,pi_init = true_HMM.generate_params() # initialize the model parameters\n",
    "        _,A_all[i,j,:,:],phi_all[i,j,:,:],pi0 = true_HMM.fit(y_train[i,:],A_init,phi_init) # fit the model\n",
    "        print('initialization %s complete' %(j+1))\n",
    "    print('fold %s complete \\n' %(i+1))"
   ]
  },
  {
   "cell_type": "code",
   "execution_count": 42,
   "metadata": {},
   "outputs": [
    {
     "name": "stdout",
     "output_type": "stream",
     "text": [
      "True LL: -1639.738931\n",
      "Inferred LL: -1639.799112\n"
     ]
    }
   ],
   "source": [
    "true_HMM.n = test_size # reset the number of data points in accordance with the size of the test set\n",
    "\n",
    "# store values for each fold\n",
    "true_ll = np.zeros(folds)\n",
    "fit_ll = np.zeros(folds)\n",
    "\n",
    "# evaluate log-likelihood on each test set\n",
    "for i in range(folds):\n",
    "    true_ll[i],_,_ = true_HMM.forwardPass(y_test[i,:],A_true,phi_true,pi0=None)\n",
    "    fit_ll[i],_,_ = true_HMM.forwardPass(y_test[i,:],A_all[i,bestix],phi_all[i,bestix])\n",
    "\n",
    "# compare loglikelihoods\n",
    "print('True LL: %f' %(np.mean(true_ll)))\n",
    "print('Inferred LL: %f' %(np.mean(fit_ll)))"
   ]
  }
 ],
 "metadata": {
  "kernelspec": {
   "display_name": "Python 3",
   "language": "python",
   "name": "python3"
  },
  "language_info": {
   "codemirror_mode": {
    "name": "ipython",
    "version": 3
   },
   "file_extension": ".py",
   "mimetype": "text/x-python",
   "name": "python",
   "nbconvert_exporter": "python",
   "pygments_lexer": "ipython3",
   "version": "3.7.3"
  }
 },
 "nbformat": 4,
 "nbformat_minor": 4
}
