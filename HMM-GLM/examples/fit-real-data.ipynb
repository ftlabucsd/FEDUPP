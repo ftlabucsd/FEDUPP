{
 "cells": [
  {
   "cell_type": "markdown",
   "metadata": {},
   "source": [
    "### Example for Fitting a GLM and GLM-HMM to Real Data"
   ]
  },
  {
   "cell_type": "markdown",
   "metadata": {},
   "source": [
    "This notebook is designed to help users get started using the glmhmm package to fit GLM-HMMs to their data. In this notebook, we fit the GLM-HMM to real experimental data (as in [Bolkan, Stone et al 2021](https://www.biorxiv.org/content/10.1101/2021.07.23.453573v1)) and recreate the figures from that paper. \n",
    "\n",
    "For an example of how the GLM-HMM can be applied to simulated data, check out the <code>fit-glm-hmm.ipynb</code> notebook."
   ]
  },
  {
   "cell_type": "markdown",
   "metadata": {},
   "source": [
    "------------------\n",
    "#### Description of the Data\n",
    "\n",
    "The real data that we will use in this case comes from the experiments described in [Bolkan, Stone et al 2021](https://www.biorxiv.org/content/10.1101/2021.07.23.453573v1). This is behavioral data from mice performing a two alternative forced choice (2AFC) task in which the animals run down a virtual maze while multi-sensory \"cues\" appear to their left and right. The mice must \"accumulate evidence\" as these cues appear and ultimately make a decision to turn left or right based on which side of the maze had more cues.\n",
    "\n",
    "The dataset in the paper includes three cohorts of mice: a group that was inhibited in the direct pathway of the striatum, a group that was inhibited in the indirect pathway, and a control (no opsin) group. Below we fit a GLM and GLM-HMM to the two inhibition groups, but you can modify the code below to fit the models to the control group as well.\n",
    "\n",
    "The provided design matrices (loaded below) includes z-scored values for the following external covariates (in this order): \n",
    "<ul>\n",
    "    <li><b>bias:</b> the offset or intercept term</li>\n",
    "    <li><b>delta cues:</b> the difference in the number of cues that appear on the right (R) and left (L) sides of the maze (coded as R-L)</li>\n",
    "    <li><b>laser:</b> the on/off status of the laser on each trial, indicating whether striatal inhibition occured</li>\n",
    "    <li><b>previous choices 1-6:</b> the choice that the animal made on the previous trial (and up to six trials ago)</li>\n",
    "    <li><b>previous rewarded choice</b> the choice that the animal made on the previous trial and whether or not that choice was rewarded</li>\n",
    "     \n",
    "</ul>\n",
    "See the methods section of the paper for more information on how we coded these covariates. "
   ]
  },
  {
   "cell_type": "markdown",
   "metadata": {},
   "source": [
    "------------------\n",
    "### Import the code and load the data\n",
    "First, let's gather the code modules we'll need and import the real data from the <code>glmhmm/data</code> folder. \n",
    "\n",
    "####  Import the required code packages and modules."
   ]
  },
  {
   "cell_type": "code",
   "execution_count": 88,
   "metadata": {},
   "outputs": [
    {
     "name": "stdout",
     "output_type": "stream",
     "text": [
      "The autoreload extension is already loaded. To reload it, use:\n",
      "  %reload_ext autoreload\n"
     ]
    }
   ],
   "source": [
    "%load_ext autoreload\n",
    "%autoreload 2\n",
    "\n",
    "import sys\n",
    "sys.path.insert(0, '..')\n",
    "\n",
    "import matplotlib.pyplot as plt\n",
    "import numpy as np\n",
    "import time\n",
    "from sklearn.model_selection import KFold\n",
    "from glmhmm import glm, glm_hmm\n",
    "from glmhmm.utils import permute_states, find_best_fit, compare_top_weights\n",
    "from glmhmm.visualize import plot_model_params, plot_loglikelihoods, plot_weights\n",
    "\n",
    "import matplotlib as mpl\n",
    "mpl.rcParams['figure.facecolor'] = '1'\n",
    "mpl.rcParams['pdf.fonttype'] = 42\n",
    "mpl.rcParams['ps.fonttype'] = 42\n",
    "\n",
    "# set plot design features\n",
    "font = {'family'   : 'sans-serif',\n",
    "        'sans-serif' : 'Helvetica',\n",
    "        'weight'   : 'regular',\n",
    "        'size'     : 18}\n",
    "\n",
    "mpl.rc('font', **font)"
   ]
  },
  {
   "cell_type": "markdown",
   "metadata": {},
   "source": [
    "#### Load the data"
   ]
  },
  {
   "cell_type": "code",
   "execution_count": 5,
   "metadata": {},
   "outputs": [],
   "source": [
    "# load the data for the indirect pathway cohort\n",
    "x_d2 = np.load('../data/indirect_x.npy') # z-scored design matrix\n",
    "y_d2 = np.load('../data/indirect_y.npy') # vector of right and left choices for each trial\n",
    "sessions_d2 = np.load('../data/indirect_sessions.npy') # vector of session start and stop indices\n",
    "\n",
    "# load the data for the direct pathway cohort\n",
    "x_d1 = np.load('../data/direct_x.npy') # z-scored design matrix\n",
    "y_d1 = np.load('../data/direct_y.npy') # vector of right and left choices for each trial\n",
    "sessions_d1 = np.load('../data/direct_sessions.npy') # vector of session start and stop indices"
   ]
  },
  {
   "cell_type": "markdown",
   "metadata": {},
   "source": [
    "-----------------------\n",
    "### Fit to GLM"
   ]
  },
  {
   "cell_type": "markdown",
   "metadata": {},
   "source": [
    "In the paper, we first fit the model to a Bernoulli GLM in order to understand the relationship between the external covariates (described above) and the animal's choices. This is like fitting a one-state GLM-HMM, in that it assumes there are no states (or that the animal is always in the same state) and therefore the animals are always using the same strategy to perform the task."
   ]
  },
  {
   "cell_type": "markdown",
   "metadata": {},
   "source": [
    "#### Set the hyper-parameters of the GLM"
   ]
  },
  {
   "cell_type": "code",
   "execution_count": 8,
   "metadata": {},
   "outputs": [],
   "source": [
    "N_d2 = x_d2.shape[0] # number of data/time points for the indirect pathway cohort\n",
    "N_d1 = x_d1.shape[0] # number of data/time points for the direct pathway cohort\n",
    "M = 10 # number of input features\n",
    "C = 2 # number of observation classes"
   ]
  },
  {
   "cell_type": "markdown",
   "metadata": {},
   "source": [
    "#### Instantiate the models"
   ]
  },
  {
   "cell_type": "code",
   "execution_count": 9,
   "metadata": {},
   "outputs": [],
   "source": [
    "# make a GLM with these parameters and set distribution type\n",
    "real_GLM_d2 = glm.GLM(N_d2,M,C,observations=\"bernoulli\")\n",
    "real_GLM_d1 = glm.GLM(N_d1,M,C,observations=\"bernoulli\")"
   ]
  },
  {
   "cell_type": "markdown",
   "metadata": {},
   "source": [
    "#### Initialize some weights and fit the GLM to the data"
   ]
  },
  {
   "cell_type": "code",
   "execution_count": 40,
   "metadata": {},
   "outputs": [],
   "source": [
    "w_init_d2 = real_GLM_d2.init_weights()\n",
    "w_init_d1 = real_GLM_d1.init_weights()\n",
    "\n",
    "w_d2, phi_d2 = real_GLM_d2.fit(x_d2,w_init_d2,y_d2, compHess=True)\n",
    "variance_d2 = real_GLM_d2.variance\n",
    "w_d1, phi_d1 = real_GLM_d1.fit(x_d1,w_init_d1,y_d1, compHess=True)\n",
    "variance_d1 = real_GLM_d1.variance"
   ]
  },
  {
   "cell_type": "markdown",
   "metadata": {},
   "source": [
    "#### Plot the weights"
   ]
  },
  {
   "cell_type": "code",
   "execution_count": 83,
   "metadata": {},
   "outputs": [
    {
     "data": {
      "text/plain": [
       "Text(0, 0.5, '')"
      ]
     },
     "execution_count": 83,
     "metadata": {},
     "output_type": "execute_result"
    },
    {
     "data": {
      "image/png": "[encoded data removed]",
      "text/plain": [
       "<Figure size 864x288 with 2 Axes>"
      ]
     },
     "metadata": {},
     "output_type": "display_data"
    }
   ],
   "source": [
    "# plot the inferred weights probabilities\n",
    "fig, axes = plt.subplots(1,2)\n",
    "fig.set_size_inches(12, 4)\n",
    "colors = np.array([[0,0,0]])/255\n",
    "xlabels = ['$\\Delta$ cues', 'laser', 'bias', '1', '2', '3', '4', '5', '6', 'prev rew \\n choice']\n",
    "\n",
    "# indirect pathway\n",
    "plot_weights(w_d2[:,1].reshape(1,-1),axes[0],switch=True,xlabels=xlabels,style='.-',color=colors,error=variance_d2)\n",
    "axes[0].text(0.43,-0.25,'prev choice',transform=axes[0].transAxes)\n",
    "axes[0].set_title('indirect pathway')\n",
    "axes[0].set_ylim([-1,1])\n",
    "axes[0].set_yticks(np.arange(-1,1.5,0.5))\n",
    "\n",
    "# direct pathway\n",
    "plot_weights(w_d1[:,1].reshape(1,-1),axes[1],switch=True,xlabels=xlabels,style='.-',color=colors,error=variance_d1)\n",
    "axes[1].text(0.43,-0.25,'prev choice',transform=axes[1].transAxes)\n",
    "axes[1].set_title('direct pathway')\n",
    "axes[1].set_ylim([-0.5,1])\n",
    "axes[1].set_yticks(np.arange(-0.5,1.5,0.5))\n",
    "axes[1].set_ylabel('')"
   ]
  },
  {
   "cell_type": "markdown",
   "metadata": {},
   "source": [
    "We can then simulate data from the fitted models and compare the psychometric curves to see if they match."
   ]
  },
  {
   "cell_type": "code",
   "execution_count": 164,
   "metadata": {},
   "outputs": [],
   "source": [
    "# simulate data from indirect pathway cohort\n",
    "simulated_GLM_d2 = glm.GLM(N_d2,M,C,observations=\"bernoulli\")\n",
    "simulated_x_d2,simulated_y_d2 = simulated_GLM_d2.generate_data_from_fit(w_d2,x_d2,obs_ix=[2,8],\n",
    "                                                                        replace_obs=True,sessions=sessions_d2)\n",
    "# simulate data from direct pathway cohort\n",
    "simulated_GLM_d1 = glm.GLM(N_d1,M,C,observations=\"bernoulli\")\n",
    "simulated_x_d1,simulated_y_d1 = simulated_GLM_d1.generate_data_from_fit(w_d1,x_d1,obs_ix=[2,8],\n",
    "                                                                        replace_obs=True,sessions=sessions_d1)"
   ]
  },
  {
   "cell_type": "markdown",
   "metadata": {},
   "source": [
    "To plot separate psychometric curves for the \"laser on\" and \"laser off\" trials using a \"contra - ipsi\" y-axis, we'll need to convert the choices on inhibition trials for one hemisphere. Because the hemisphere of inhibition is determined by the date of the behavior session (even or odd dates), we'll also need to load that information."
   ]
  },
  {
   "cell_type": "code",
   "execution_count": null,
   "metadata": {},
   "outputs": [],
   "source": [
    "from glmhmm.utils import convertContraIpsi\n"
   ]
  },
  {
   "cell_type": "markdown",
   "metadata": {},
   "source": [
    "In order to have the right x-axis, we'll also want the delta cues prior to being z-scored. Let's load that data now."
   ]
  },
  {
   "cell_type": "code",
   "execution_count": null,
   "metadata": {},
   "outputs": [],
   "source": []
  },
  {
   "cell_type": "markdown",
   "metadata": {},
   "source": [
    "Now we have everything we need to plot the psychometric curves, which we will do using a MATLAB script. This will require us to import a package known as \"MATLAB engine\" in order to run the script in the notebook. <b>Note:</b> To run this locally, you'll need to have a copy of MATLAB 2018b installed on your computer."
   ]
  },
  {
   "cell_type": "code",
   "execution_count": null,
   "metadata": {},
   "outputs": [],
   "source": []
  },
  {
   "cell_type": "markdown",
   "metadata": {},
   "source": [
    "As you can see, the simulated data doesn't match the real data very well. From this we can infer that the GLM doesn't offer a very good description of the data. Instead, let's try fitting to a GLM-HMM."
   ]
  },
  {
   "cell_type": "markdown",
   "metadata": {},
   "source": [
    "--------------------------------------------------------------------------------------\n",
    "### Fit to GLM-HMM"
   ]
  },
  {
   "cell_type": "markdown",
   "metadata": {},
   "source": [
    "#### Set the hyper-parameters of the GLM-HMM"
   ]
  },
  {
   "cell_type": "code",
   "execution_count": 168,
   "metadata": {},
   "outputs": [],
   "source": [
    "N_d2 = x_d2.shape[0] # number of data/time points for the indirect pathway cohort\n",
    "N_d1 = x_d1.shape[0]\n",
    "K = 3 # number of latent states\n",
    "C = 2 # number of observation classes\n",
    "D = x_d2.shape[1] # number of GLM inputs (regressors)"
   ]
  },
  {
   "cell_type": "markdown",
   "metadata": {},
   "source": [
    "#### Instantiate the models"
   ]
  },
  {
   "cell_type": "code",
   "execution_count": 169,
   "metadata": {},
   "outputs": [],
   "source": [
    "real_GLMHMM_d2 = glm_hmm.GLMHMM(N_d2,D,C,K,observations=\"bernoulli\",gaussianPrior=1)\n",
    "real_GLMHMM_d1 = glm_hmm.GLMHMM(N_d1,D,C,K,observations=\"bernoulli\",gaussianPrior=1)"
   ]
  },
  {
   "cell_type": "markdown",
   "metadata": {},
   "source": [
    "#### Fit the models\n",
    "\n",
    "In this case, we're going to initialize the weights by fitting a GLM to the data. Once we have the fitted GLM weights (you can think of this as a 1-state GLM-HMM), we'll duplicate those weights $K$ times and add a small amount noise to each set. These weights will then form our $w_{init}$ and serve as a smarter initialization that will help us find the best solution more quickly and more often than if we initialized the weights randomly.\n",
    "\n",
    "This case will also be different from the simulated example (see <code>fit-glm-hmm.ipynb</code>) in that now the structure of our data includes different sessions, consisting of different mice performing the task on different days. So that the fitted parameters aren't affected by this structure (i.e. the last trial on one day doesn't affect the first trial on the next day) we will fit separately to each session. Fortunately, this is easy to do -- we simply include a vector with the first and last indices of each session length as an extra input to the fitting code.\n",
    "\n",
    "<b>Note:</b> To illustrate the process of confirming we've found the global optimum (see step 4), the code below fits the model 20 times. This can take 1-2.5 hours to run, depending on your machine (the times below are from running on a 2016 iMac). For a quicker assessment, reduce the number of inits. "
   ]
  },
  {
   "cell_type": "code",
   "execution_count": null,
   "metadata": {},
   "outputs": [
    {
     "name": "stdout",
     "output_type": "stream",
     "text": [
      "fits for indirect pathway cohort\n",
      "initialization 1 complete in 5.77 minutes\n",
      "initialization 2 complete in 2.03 minutes\n",
      "initialization 3 complete in 4.73 minutes\n"
     ]
    }
   ],
   "source": [
    "inits = 20 # set the number of initializations\n",
    "maxiter = 250 # maximum number of iterations of EM to allow for each fit\n",
    "tol = 1e-3\n",
    "\n",
    "## indirect pathway cohort --------------------------------------------------------\n",
    "\n",
    "# store values for each initialization\n",
    "lls_all_d2 = np.zeros((inits,250))\n",
    "A_all_d2 = np.zeros((inits,K,K))\n",
    "w_all_d2 = np.zeros((inits,K,D,C))\n",
    "\n",
    "# fit the model for each initialization\n",
    "print('fits for indirect pathway cohort')\n",
    "for i in range(inits):\n",
    "    t0 = time.time()\n",
    "    # initialize the weights\n",
    "    A_init,w_init,pi_init = real_GLMHMM_d2.generate_params(weights=['GLM',-0.2,1.2,x_d2,y_d2,1])\n",
    "    # fit the model                     \n",
    "    lls_all_d2[i,:],A_all_d2[i,:,:],w_all_d2[i,:,:],pi0 = real_GLMHMM_d2.fit(y_d2,x_d2,A_init,w_init,\n",
    "                                                                             maxiter=maxiter,tol=tol,sess=sessions_d2) \n",
    "    minutes = (time.time() - t0)/60\n",
    "    print('initialization %s complete in %.2f minutes' %(i+1, minutes))\n",
    "    \n",
    "## direct pathway cohort ----------------------------------------------------------\n",
    "\n",
    "# store values for each initialization\n",
    "lls_all_d1 = np.zeros((inits,250))\n",
    "A_all_d1 = np.zeros((inits,K,K))\n",
    "w_all_d1 = np.zeros((inits,K,D,C))\n",
    "\n",
    "# fit the model for each initialization\n",
    "print('\\n fits for direct pathway cohort')\n",
    "for i in range(inits):\n",
    "    t0 = time.time()\n",
    "    # initialize the weights\n",
    "    A_init,w_init,pi_init = real_GLMHMM_d1.generate_params(weights=['GLM',-0.2,1.2,x_d1,y_d1,1])\n",
    "    # fit the model                     \n",
    "    lls_all_d1[i,:],A_all_d1[i,:,:],w_all_d1[i,:,:],pi0 = real_GLMHMM_d2.fit(y_d1,x_d1,A_init,w_init,\n",
    "                                                                             maxiter=maxiter,tol=tol,sess=sessions_d1) \n",
    "    minutes = (time.time() - t0)/60\n",
    "    print('initialization %s complete in %.2f minutes' %(i+1, minutes))"
   ]
  },
  {
   "cell_type": "markdown",
   "metadata": {},
   "source": [
    "#### 5. Check to see that multiple fits achieve the same log-likelihood.\n",
    "\n",
    "Since we're now fitting real data, we can't simply compare our inferred parameters to the true ones to make sure we're recovering the right values. But we can get a reasonable assessment of whether or not we're finding the global optimum of the log-likelihood by comparing the log-likelihoods for each fit. If multiple log-likelihoods for the best fits converge to the same (or very similar) values, this is a good indication that we've found the global optimum."
   ]
  },
  {
   "cell_type": "code",
   "execution_count": null,
   "metadata": {},
   "outputs": [],
   "source": [
    "topixs = plot_loglikelihoods(lls_all,0.5,startix=5) # set the x-axis startix > 0 to see better view of final lls\n",
    "print('Number of top matching lls within threshold: ', len(topixs))"
   ]
  },
  {
   "cell_type": "markdown",
   "metadata": {},
   "source": [
    "#### 6. We can also check that the weights for the best fits are the same, within some tolerance."
   ]
  },
  {
   "cell_type": "code",
   "execution_count": null,
   "metadata": {},
   "outputs": [],
   "source": [
    "# first, permute the weights according to the value of a particular regressor (here we pick cues) so that the states\n",
    "# will be the same for each fit \n",
    "w_permuted = np.zeros_like(w_all[:,:,:,1])\n",
    "order = np.zeros((inits,K))\n",
    "for i in range(inits):\n",
    "    w_permuted[i],order[i] = permute_states(w_all[i,:,:,1],method='weight value',param='weights',ix=1)\n",
    "\n",
    "np.set_printoptions(precision=2,suppress=True)\n",
    "# now let's check if the weights for the top fits match up\n",
    "compare_top_weights(w_permuted,topixs,tol=0.5)"
   ]
  },
  {
   "cell_type": "markdown",
   "metadata": {},
   "source": [
    "#### 7. Now let's look at the inferred parameters (as shown in our paper, [Bolkan, Stone et al 2021](https://www.biorxiv.org/content/10.1101/2021.07.23.453573v1)). "
   ]
  },
  {
   "cell_type": "markdown",
   "metadata": {},
   "source": [
    "In the plot of the weights below, we include error bars on each of the weights. We computed the variance for this purpose by taking the inverse Hessian of the optimized log-likelihood. This is a process that relies on autograd and is somewhat slow, so if you're running this notebook yourself and looking for a quick visualization, we recommend skipping that step (and changing the inputs in the <code>plot_weights</code> function to <code>error=None</code>). "
   ]
  },
  {
   "cell_type": "code",
   "execution_count": null,
   "metadata": {},
   "outputs": [],
   "source": [
    "variance = real_GLMHMM.computeVariance(x,y,A_permuted,w_permuted[bestix,:,:,np.newaxis],gaussPrior=1)\n",
    "\n",
    "bestix = find_best_fit(lls_all) # find the initialization that led to the best fit\n",
    "A_permuted, _ = permute_states(A_all[bestix],method='order',order=order[bestix].astype(int))\n",
    "\n",
    "# plot the inferred transition probabilities\n",
    "fig, ax = plt.subplots(1,1)\n",
    "plot_model_params(A_permuted,ax,precision='%.3f')\n",
    "\n",
    "# plot the inferred weights probabilities\n",
    "fig, ax = plt.subplots(1,1)\n",
    "colors = np.array([[39,110,167],[237,177,32],[233,0,111],[176,100,245]])/255\n",
    "xlabels = ['$\\Delta$ cues', 'laser', 'bias', '1', '2', '3', '4', '5', '6', 'prev rew \\n choice']\n",
    "legend = ['state 1', 'state 2', 'state 3']\n",
    "plot_weights(w_permuted[bestix],ax,xlabels=xlabels,switch=True,style='.-',color=colors,error=None,label=legend)\n",
    "ax.text(0.43,-0.25,'prev choice',transform=ax.transAxes)\n",
    "ax.legend()"
   ]
  },
  {
   "cell_type": "markdown",
   "metadata": {},
   "source": [
    "Check back soon for more examples of convenient post-fitting analysis/plotting code, including many additional recreated figures from the paper."
   ]
  },
  {
   "cell_type": "code",
   "execution_count": null,
   "metadata": {},
   "outputs": [],
   "source": []
  }
 ],
 "metadata": {
  "kernelspec": {
   "display_name": "Python 3",
   "language": "python",
   "name": "python3"
  },
  "language_info": {
   "codemirror_mode": {
    "name": "ipython",
    "version": 3
   },
   "file_extension": ".py",
   "mimetype": "text/x-python",
   "name": "python",
   "nbconvert_exporter": "python",
   "pygments_lexer": "ipython3",
   "version": "3.7.8"
  }
 },
 "nbformat": 4,
 "nbformat_minor": 4
}
